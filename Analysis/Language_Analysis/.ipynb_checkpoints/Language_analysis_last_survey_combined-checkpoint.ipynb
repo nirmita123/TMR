{
 "cells": [
  {
   "cell_type": "markdown",
   "metadata": {},
   "source": [
    "# Part 1 + Part 2: 3D Memorization results from 1-week after survey "
   ]
  },
  {
   "cell_type": "code",
   "execution_count": 7,
   "metadata": {},
   "outputs": [],
   "source": [
    "import pandas as pd\n",
    "import numpy as np\n",
    "import seaborn as sns\n",
    "import distance\n",
    "from scipy.stats import norm\n",
    "from matplotlib import pyplot\n",
    "from scipy.stats import shapiro\n",
    "from scipy import stats\n",
    "import matplotlib.pyplot as plt\n",
    "import statistics as st\n",
    "import matplotlib.gridspec as gridspec\n",
    "from numpy.random import seed\n",
    "from numpy.random import randn"
   ]
  },
  {
   "cell_type": "code",
   "execution_count": 8,
   "metadata": {},
   "outputs": [
    {
     "data": {
      "text/plain": [
       "'tierra'"
      ]
     },
     "execution_count": 8,
     "metadata": {},
     "output_type": "execute_result"
    }
   ],
   "source": [
    "#dictionary \n",
    "translations = {\n",
    "\"keyboard\":\"teclado\",\n",
    "\"mug\":\"taza\",\n",
    "\"head\":\"cabeza\",\n",
    "\"book\":\"libro\",\n",
    "\"bulb\":\"bombilla\",\n",
    "\"chair\":\"silla\",\n",
    "\"scissors\":\"tijeras\",\n",
    "\"pot\":\"maceta\",\n",
    "\"wall\":\"pared\",\n",
    "\"sweet\":\"dulce\",\n",
    "\"flower\":\"flor\",\n",
    "\"bag\":\"bolsa\",\n",
    "\"fountain\":\"fuente\",\n",
    "\"fork\":\"tenedor\",\n",
    "\"skull\":\"calavera\",\n",
    "\"necklace\":\"collar\",\n",
    "\"makeup\":\"maquillaje\",\n",
    "\"glass\":\"vidrio\",\n",
    "\"drink\":\"bebida\",\n",
    "\"drawers\":\"cajones\",\n",
    "\"glasses\":\"gafas\",\n",
    "\"stapler\":\"grapadora\",\n",
    "\"horn\":\"cuerno\",\n",
    "\"comb\":\"peine\",\n",
    "\"brush\":\"pincel\",\n",
    "\"coins\":\"monedas\",\n",
    "\"soil\":\"tierra\",\n",
    "\"candle\":\"vela\",\n",
    "\"sheets\":\"hojas\",\n",
    "\"table\":\"mesa\",\n",
    "\"hand\":\"mano\",\n",
    "\"teapot\":\"tetera\",\n",
    "\"saw\":\"sierra\",\n",
    "\"elevator\":\"ascensor\",\n",
    "\"chopsticks\":\"palillos\",\n",
    "\"drawing\":\"dibujo\",\n",
    "\"marker\":\"rotulador\",\n",
    "\"tweezers\":\"pinzas\",\n",
    "\"trash\":\"basura\",\n",
    "\"window\":\"ventana\"\n",
    "}\n",
    "\n",
    "translations['soil']"
   ]
  },
  {
   "cell_type": "code",
   "execution_count": 9,
   "metadata": {},
   "outputs": [],
   "source": [
    "base2='../../Reminessence_Subjective_Analysis/Plots/LanguagePlots/'"
   ]
  },
  {
   "cell_type": "code",
   "execution_count": 10,
   "metadata": {},
   "outputs": [],
   "source": [
    "#list for objects in the control condition\n",
    "location_control = [\n",
    "    [\"keyboard\", \"mug\"],\n",
    "    [\"book\",\"head\"],\n",
    "    [\"chair\",\"bulb\"],\n",
    "    [\"pot\",\"scissors\"],\n",
    "    [\"wall\",\"sweet\"],\n",
    "    [\"flower\",\"bag\"],\n",
    "    [\"fountain\",\"fork\"],\n",
    "    [\"skull\",\"necklace\"],\n",
    "    [\"makeup\",\"glass\"],\n",
    "    [\"drink\",\"drawers\"]   \n",
    "]\n",
    "\n",
    "#list for objects in the scent condition\n",
    "location_scent = [\n",
    "    [\"glasses\", \"stapler\"],\n",
    "    [\"horn\", \"comb\"],\n",
    "    [\"brush\", \"coins\"],\n",
    "    [\"soil\", \"candle\"],\n",
    "    [\"sheets\", \"table\"],\n",
    "    [\"hand\", \"teapot\"],\n",
    "    [\"saw\", \"elevator\"],\n",
    "    [\"chopsticks\", \"drawing\"],\n",
    "    [\"marker\", \"tweezers\"],\n",
    "    [\"trash\", \"window\"]\n",
    "]\n",
    "\n"
   ]
  },
  {
   "cell_type": "code",
   "execution_count": 11,
   "metadata": {},
   "outputs": [],
   "source": [
    "def chunks(l, n):#used to make chunks of [word1, translation1, word2, translation2] corresponding to each location\n",
    "    \"\"\"\n",
    "    Arguments:\n",
    "        l (array): response from each survey\n",
    "        n (int): no. of elements in each chunk\n",
    "    Output:\n",
    "        list of [w1,t2,w2,t2] chunks for all 10 locations\n",
    "    \"\"\"\n",
    "    n = max(1, n)\n",
    "    return list(l[i:i+n] for i in range(0, len(l), n))\n",
    "\n",
    "def read_results_file(fpath):#reads the results and return an array of results[user][survey][location]\n",
    "    \"\"\"\n",
    "    Arguments:\n",
    "        fpath (string): path of the .csv results file to be read\n",
    "    Output:\n",
    "        results (array): results[user][survey][location] = [w1,t2,w2,t2]\n",
    "    \"\"\"\n",
    "    \n",
    "    results = []\n",
    "    with open(fpath, 'r') as f:\n",
    "        header = f.readline()\n",
    "        nline = 1\n",
    "        subject_results=[None]*2\n",
    "        survey_id= [0,1]*16\n",
    "        for line in f:\n",
    "            line = [w.lower() for w in line.strip().split(',')]\n",
    "            chunked_3D_scent = chunks(line[3:43], 4)\n",
    "            chunked_3D_control = chunks(line[43:83], 4)\n",
    "           \n",
    "            subject_results[0] = chunked_3D_scent\n",
    "            subject_results[1] = chunked_3D_control\n",
    "            \n",
    "            results.append(subject_results)\n",
    "            subject_results = [None]*2\n",
    "            \n",
    "    \n",
    "    return results\n",
    "            \n",
    "\n",
    "results_file = '../../Reminessence_Subjective_Analysis/Post_Test_Combined.csv'\n",
    "\n",
    "results = read_results_file(results_file)"
   ]
  },
  {
   "cell_type": "code",
   "execution_count": 12,
   "metadata": {},
   "outputs": [
    {
     "name": "stdout",
     "output_type": "stream",
     "text": [
      "    Type  Score O  Score T\n",
      " control        3        1\n",
      "   scent        1        0\n",
      " control        7        1\n",
      "   scent        4        1\n",
      " control        2        1\n",
      "   scent        2        3\n",
      " control        2        1\n",
      "   scent        2        0\n",
      " control        0        0\n",
      "   scent        3        0\n",
      " control        1        0\n",
      "   scent        4        1\n",
      " control        4        2\n",
      "   scent        7        4\n",
      " control        0        1\n",
      "   scent        1        0\n",
      " control        4        3\n",
      "   scent        3        0\n",
      " control        4        2\n",
      "   scent        4        3\n",
      " control        1        1\n",
      "   scent        2        1\n",
      " control        1        1\n",
      "   scent        5        0\n",
      " control        4        4\n",
      "   scent        6        6\n",
      " control        2        1\n",
      "   scent        2        1\n",
      " control        1        2\n",
      "   scent        1        0\n",
      " control        3        2\n",
      "   scent        3        2\n",
      " control        2        0\n",
      "   scent        5        2\n",
      " control        3        0\n",
      "   scent        4        0\n",
      " control        2        1\n",
      "   scent        2        3\n",
      " control        2        1\n",
      "   scent        2        1\n",
      " control        2        0\n",
      "   scent        2        0\n",
      " control        1        1\n",
      "   scent        2        2\n",
      " control        1        0\n",
      "   scent       10        8\n",
      " control        1        0\n",
      "   scent        1        0\n",
      " control        1        0\n",
      "   scent        2        1\n",
      " control        1        0\n",
      "   scent        0        0\n",
      " control        2        0\n",
      "   scent        2        2\n",
      " control        2        0\n",
      "   scent        0        0\n"
     ]
    }
   ],
   "source": [
    "score_control_object=[]\n",
    "score_scent_object=[]\n",
    "score_control_trans=[]\n",
    "score_scent_trans=[]\n",
    "\n",
    "def get_min(word,truth0,truth1):\n",
    "#     This returns the length of the word with minimum leveneshtien distance from the response\n",
    "    \"\"\"\n",
    "    word (string): the response from user correspoinding to a location\n",
    "    truth0 (string): object 1 in the location\n",
    "    truth1 (string): object 2 in the location\n",
    "    \"\"\"\n",
    "    if distance.levenshtein(word,truth0)<distance.levenshtein(word,truth1):\n",
    "        return len(truth0)\n",
    "    else:\n",
    "        return len(truth1)\n",
    "\n",
    "def compute_score(responses, truth): #function: takes as argumemnt one location\n",
    "    \"\"\"\n",
    "    Argumemnts:\n",
    "        responses (tuple, size 4): the responses of the user (word1,trans1,word2,trans2)\n",
    "        truth (tuple, size 2): the two objects in the location\n",
    "    Output:\n",
    "        returns score_location_object (int), score_location_trans(int)\n",
    "        The calculated score (for object and translation) corresponding to the loction (for the two objects)\n",
    "    \"\"\"\n",
    "    \n",
    "    w1,t1,w2,t2 = responses \n",
    "    \n",
    "    threshold=0.5\n",
    "    ## First score whether object (in English) is in correct location\n",
    "    score_location_object = 0\n",
    "    score_location_trans = 0\n",
    "    for word,trans in [[w1,t1],[w2,t2]]:\n",
    "\n",
    "        levenshtein_distance_normalized_object = min(distance.levenshtein(word,truth[0]),distance.levenshtein(word,truth[1]))/max(len(word),get_min(word,truth[0],truth[1]))\n",
    "        levenshtein_distance_normalized_trans = min(distance.levenshtein(trans,translations[truth[0]]),distance.levenshtein(trans,translations[truth[1]]))/max(len(trans),get_min(trans,translations[truth[0]],translations[truth[1]]))\n",
    "        if levenshtein_distance_normalized_object <= threshold:\n",
    "            score_location_object += 1 #levenstein(word,truth)\n",
    "        if levenshtein_distance_normalized_trans <= threshold:\n",
    "            score_location_trans  += 1 #levenstein(trans,translations[truth])\n",
    "        \n",
    "    return score_location_object, score_location_trans\n",
    "    \n",
    "def score_user_survey(responses, typ, user_id): # Computes scores for all locations\n",
    "    \"\"\"\n",
    "    Arguments:\n",
    "        responses (array): all responses for an individual/survey\n",
    "        typ (string): either \"control\" or \"scent\"\n",
    "        user (int): user_id of the subject\n",
    "    Output:\n",
    "        score_condition_object (int): total score of the user for object memorization \n",
    "        score_condition_trans (int): total score of the user for translation memorization\n",
    "    \"\"\"\n",
    "    #Gets a row (user, survey) and returns average levenstien score \n",
    "    score_condition_object = 0\n",
    "    score_condition_trans = 0\n",
    "\n",
    "    \n",
    "    for i,resp in enumerate(responses): # resp = [word1, trans1, word1,trans2]\n",
    "        if user_id < 16:\n",
    "            truth = location_scent[i] if typ == 'scent' else location_control[i]\n",
    "        else:\n",
    "            truth = location_scent[i] if typ == 'control' else location_control[i]\n",
    "        \n",
    "        score_obj, score_trans = compute_score(resp, truth) #Call function \n",
    "        score_condition_object += score_obj\n",
    "        score_condition_trans  += score_trans\n",
    "        if typ=='control':\n",
    "            score_control_object.append(score_obj)\n",
    "            score_control_trans.append(score_trans)\n",
    "        else:\n",
    "            score_scent_object.append(score_obj)\n",
    "            score_scent_trans.append(score_trans)\n",
    "    # TODO: Decide whether to divide by 20 to get average score.\n",
    "    return score_condition_object, score_condition_trans\n",
    "\n",
    " \n",
    "def aggregate_results(all_results):\n",
    "    \"\"\"\n",
    "    Arguments: \n",
    "        all_results: combined responses of all the 32 users of all 2 surveys (control, scent)\n",
    "    Output: \n",
    "        scores (array size #users*2 X 3): contains [condition (control/scent), sobj (object memorization score), strans (translation memorization score)]\n",
    "    \"\"\"\n",
    "    scores = []\n",
    "    print('{:>8} {:>8} {:>8}'.format('Type', 'Score O', 'Score T'))    \n",
    "    c=0\n",
    "\n",
    "    for user_id, results_user in enumerate(all_results):\n",
    "        #scores_user = []\n",
    "\n",
    "        for survey_id,results_survey in enumerate(results_user):\n",
    "            typ = 'control' if survey_id in [0] else 'scent'\n",
    "\n",
    "            sobj, strans = score_user_survey(results_survey, typ, user_id)\n",
    "            #scores_user.append(sobj)\n",
    "            #scores_user.append(strans)\n",
    "            # equivalently: scores_user += [sobj, strans]            \n",
    "            print('{:>8} {:>8} {:>8}'.format(typ,sobj,strans))\n",
    "            scores.append([typ,sobj,strans])\n",
    "\n",
    "        #scores.append(scores_user) \n",
    "    return scores\n",
    "    \n",
    "    \n",
    "scores = aggregate_results(results)\n",
    "\n",
    "\n",
    "df = pd.DataFrame(scores, columns = ['Type', 'Score O', 'Score T'])"
   ]
  },
  {
   "cell_type": "code",
   "execution_count": 13,
   "metadata": {},
   "outputs": [
    {
     "name": "stdout",
     "output_type": "stream",
     "text": [
      "Total Object Recall:\n",
      "\tControl: 59, Scent: 82 \n",
      "\n"
     ]
    }
   ],
   "source": [
    "total_control = df[df.Type == 'control']['Score O'].sum()\n",
    "total_scent = df[df.Type == 'scent']['Score O'].sum()\n",
    "print(\"Total Object Recall:\")\n",
    "print(\"\\tControl: {}, Scent: {} \\n\".format(total_control, total_scent))\n"
   ]
  },
  {
   "cell_type": "code",
   "execution_count": 14,
   "metadata": {},
   "outputs": [
    {
     "name": "stdout",
     "output_type": "stream",
     "text": [
      "Total Translation Recall:\n",
      "\tControl: 26, Scent: 41 \n",
      "\n"
     ]
    }
   ],
   "source": [
    "total_control_translation = df[df.Type == 'control']['Score T'].sum()\n",
    "total_scent_translation = df[df.Type == 'scent']['Score T'].sum()\n",
    "print(\"Total Translation Recall:\")\n",
    "print(\"\\tControl: {}, Scent: {} \\n\".format(total_control_translation, total_scent_translation))\n",
    "\n"
   ]
  },
  {
   "cell_type": "markdown",
   "metadata": {},
   "source": [
    "# Normality Test"
   ]
  },
  {
   "cell_type": "code",
   "execution_count": 15,
   "metadata": {},
   "outputs": [
    {
     "data": {
      "image/png": "[encoded data removed]",
      "text/plain": [
       "<Figure size 432x288 with 1 Axes>"
      ]
     },
     "metadata": {
      "needs_background": "light"
     },
     "output_type": "display_data"
    }
   ],
   "source": [
    "data = df[df.Type == 'scent']['Score O']\n",
    "\n",
    "sns.distplot(data, fit=norm, kde=False)\n",
    "pyplot.show()"
   ]
  },
  {
   "cell_type": "code",
   "execution_count": 16,
   "metadata": {},
   "outputs": [
    {
     "name": "stdout",
     "output_type": "stream",
     "text": [
      "Statistics=0.807, p=0.000\n",
      "Sample does not look Gaussian (reject H0)\n"
     ]
    }
   ],
   "source": [
    "#Shapiro-wilk test for normality\n",
    "\n",
    "# seed the random number generator\n",
    "seed(1)\n",
    "# generate univariate observations\n",
    "data = df[df.Type == 'control']['Score T']\n",
    "\n",
    "stat, p = shapiro(data)\n",
    "print('Statistics=%.3f, p=%.3f' % (stat, p))\n",
    "# interpret\n",
    "alpha = 0.05\n",
    "if p > alpha:\n",
    "\tprint('Sample looks Gaussian (fail to reject H0)')\n",
    "else:\n",
    "\tprint('Sample does not look Gaussian (reject H0)')"
   ]
  },
  {
   "cell_type": "markdown",
   "metadata": {},
   "source": [
    "# Paired t-tests"
   ]
  },
  {
   "cell_type": "code",
   "execution_count": 17,
   "metadata": {},
   "outputs": [
    {
     "data": {
      "text/plain": [
       "Ttest_relResult(statistic=-1.8946227528778763, pvalue=0.06889939264233419)"
      ]
     },
     "execution_count": 17,
     "metadata": {},
     "output_type": "execute_result"
    }
   ],
   "source": [
    "# t-test of final scores from each session - object\n",
    "stats.ttest_rel(df[df.Type == 'control']['Score O'],df[df.Type == 'scent']['Score O'])"
   ]
  },
  {
   "cell_type": "code",
   "execution_count": 18,
   "metadata": {},
   "outputs": [
    {
     "data": {
      "text/plain": [
       "Ttest_relResult(statistic=-1.465919887917724, pvalue=0.1542203517523903)"
      ]
     },
     "execution_count": 18,
     "metadata": {},
     "output_type": "execute_result"
    }
   ],
   "source": [
    "# t-test of final scores from each session - translation\n",
    "stats.ttest_rel(df[df.Type == 'control']['Score T'],df[df.Type == 'scent']['Score T'])"
   ]
  },
  {
   "cell_type": "code",
   "execution_count": 19,
   "metadata": {
    "scrolled": true
   },
   "outputs": [
    {
     "data": {
      "text/plain": [
       "Ttest_relResult(statistic=-2.2393781081899315, pvalue=0.025919329565998187)"
      ]
     },
     "execution_count": 19,
     "metadata": {},
     "output_type": "execute_result"
    }
   ],
   "source": [
    "# t-test of individual scores from each session (280 vs 280) - object\n",
    "stats.ttest_rel(score_control_object,score_scent_object)"
   ]
  },
  {
   "cell_type": "code",
   "execution_count": 20,
   "metadata": {},
   "outputs": [
    {
     "data": {
      "text/plain": [
       "Ttest_relResult(statistic=-1.9973767352926375, pvalue=0.04675523411356694)"
      ]
     },
     "execution_count": 20,
     "metadata": {},
     "output_type": "execute_result"
    }
   ],
   "source": [
    "# t-test of individual scores from each session (280 vs 280) - object\n",
    "stats.ttest_rel(score_control_trans,score_scent_trans)"
   ]
  },
  {
   "cell_type": "code",
   "execution_count": 21,
   "metadata": {},
   "outputs": [],
   "source": [
    "def plotSignificance(score_control,score_scent):\n",
    "    # it checks for significance (one-tailed p<0.05) and plots the markings on the plot and returns the P-value\n",
    "    # it does wilcoxon test to get the p-value\n",
    "    \"\"\"\n",
    "    Arguments:\n",
    "       score_control (list): list 1 t-test\n",
    "       score_scent (list): list 2 t-test\n",
    "       ax (axis): axis to plot significance bars on\n",
    "    Output:\n",
    "        Pval (double): stores the one-tail p-value from t-test \n",
    "    \"\"\"\n",
    "    Statistic, Pval= stats.wilcoxon(score_control,score_scent)\n",
    "    Pval= Pval/2\n",
    "    y, h, col = max(st.mean(score_control)*50+stats.sem(score_control)*50,st.mean(score_scent)*50+stats.sem(score_scent)*50), 1, 'k' \n",
    "    if(Pval<0.0001):\n",
    "        star=\"***\"\n",
    "    elif Pval<0.001:\n",
    "        star=\"**\"\n",
    "    elif Pval<0.05:\n",
    "        star=\"*\"\n",
    "    if Pval<0.05:  \n",
    "        plt.text(0.5 , (y+h), star, ha='center', va='bottom', color=col)\n",
    "        plt.plot([0.25, 0.25, 0.75, 0.75], [y+h/2, y+(h), y+(h), y+h/2], lw=1.5, c=col)\n",
    "\n",
    "    return Pval"
   ]
  },
  {
   "cell_type": "markdown",
   "metadata": {},
   "source": [
    "## Sleep + Wake (control vs scent)"
   ]
  },
  {
   "cell_type": "code",
   "execution_count": 22,
   "metadata": {},
   "outputs": [
    {
     "data": {
      "image/png": "[encoded data removed]",
      "text/plain": [
       "<Figure size 216x432 with 1 Axes>"
      ]
     },
     "metadata": {
      "needs_background": "light"
     },
     "output_type": "display_data"
    }
   ],
   "source": [
    "fig, ax = plt.subplots(1,1, sharex=True,figsize=[3,6])\n",
    "\n",
    "a =ax\n",
    "a.spines[\"top\"].set_visible(False)\n",
    "a.spines[\"right\"].set_visible(False)\n",
    "\n",
    "barWidth=0.25\n",
    "\n",
    "mean_control_object= st.mean(score_control_object)*50\n",
    "mean_scent_object= st.mean(score_scent_object)*50\n",
    "sem_control_object= stats.sem(score_control_object)*50\n",
    "sem_scent_object= stats.sem(score_scent_object)*50\n",
    "\n",
    "# Make the plot\n",
    "plt.bar(0.25, mean_control_object, yerr=sem_control_object, color='#ffffff', width=barWidth, edgecolor='black',capsize=5, label='Control',error_kw=dict(ecolor='gray', lw=2, capsize=5, capthick=2))\n",
    "plt.bar(0.75, mean_scent_object, yerr=sem_scent_object, color='#000000', width=barWidth, edgecolor='black',capsize=5, label='Scent',error_kw=dict(ecolor='gray', lw=2, capsize=5, capthick=2))\n",
    "\n",
    "# Add xticks on the middle of the group bars\n",
    "plt.title('Object Memorization')\n",
    "plt.xlabel('Condition', fontweight='bold')\n",
    "plt.ylabel('Score (in %)', fontweight='bold')\n",
    "plt.xticks([0.25,0.75], ['Control','Scent'])\n",
    "plt.xlim([0,1])\n",
    "# plt.ylim([50,90 ])\n",
    "# t-test and plot if significant\n",
    "P=plotSignificance(score_control_object,score_scent_object)\n",
    "\n",
    "txt1='M (Control)= ' + '%.3f' % mean_control_object + \" +/-SEM= \"+ '%.3f' % sem_control_object+\"\\nM (Scent)= \" + '%.3f' % mean_scent_object+\" +/-SEM= \"+ '%.3f' % sem_scent_object+\"\\nP= \"+ '%.3f' % P\n",
    "fig.text(.125, -0.1, txt1, ha='left')\n",
    "plt.savefig(base2+'Last_Survey/'+'Object_sleep_wake_3D',dpi=300,bbox_inches='tight')\n",
    "\n",
    "\n",
    "plt.show()"
   ]
  },
  {
   "cell_type": "code",
   "execution_count": 23,
   "metadata": {},
   "outputs": [
    {
     "data": {
      "image/png": "[encoded data removed]",
      "text/plain": [
       "<Figure size 216x432 with 1 Axes>"
      ]
     },
     "metadata": {
      "needs_background": "light"
     },
     "output_type": "display_data"
    }
   ],
   "source": [
    "fig, ax = plt.subplots(1,1, sharex=True,figsize=[3,6])\n",
    "\n",
    "a =ax\n",
    "a.spines[\"top\"].set_visible(False)\n",
    "a.spines[\"right\"].set_visible(False)\n",
    "\n",
    "barWidth=0.25\n",
    "\n",
    "mean_control_trans= st.mean(score_control_trans)*50\n",
    "mean_scent_trans= st.mean(score_scent_trans)*50\n",
    "sem_control_trans= stats.sem(score_control_trans)*50\n",
    "sem_scent_trans= stats.sem(score_scent_trans)*50\n",
    "\n",
    "# Make the plot\n",
    "plt.bar(0.25, mean_control_trans, yerr=sem_control_trans, color='#ffffff', width=barWidth, edgecolor='black',capsize=5, label='Control',error_kw=dict(ecolor='gray', lw=2, capsize=5, capthick=2))\n",
    "plt.bar(0.75, mean_scent_trans, yerr=sem_scent_trans, color='#000000', width=barWidth, edgecolor='black',capsize=5, label='Scent',error_kw=dict(ecolor='gray', lw=2, capsize=5, capthick=2))\n",
    "\n",
    "# Add xticks on the middle of the group bars\n",
    "plt.xlabel('Condition', fontweight='bold')\n",
    "plt.ylabel('Score (in %)', fontweight='bold')\n",
    "plt.xticks([0.25,0.75], ['Control','Scent'])\n",
    "plt.title('Translation')\n",
    "plt.xlim([0,1])\n",
    "# plt.ylim([20,70])\n",
    "# t-test and plot if significant\n",
    "P =plotSignificance(score_control_trans,score_scent_trans)\n",
    "\n",
    "txt1='M (Control)= ' + '%.3f' % mean_control_trans + \" +/-SEM= \"+ '%.3f' % sem_control_trans+\"\\nM (Scent)= \" + '%.3f' % mean_scent_trans+\" +/-SEM= \"+ '%.3f' % sem_scent_trans+\"\\nP= \"+ '%.3f' % P\n",
    "fig.text(.125, -0.1, txt1, ha='left')\n",
    "plt.savefig(base2+'Last_Survey/'+'Translation_sleep_wake_3D',dpi=300,bbox_inches='tight')\n",
    "\n",
    "\n",
    "plt.show()"
   ]
  },
  {
   "cell_type": "code",
   "execution_count": null,
   "metadata": {},
   "outputs": [],
   "source": []
  }
 ],
 "metadata": {
  "kernelspec": {
   "display_name": "Python 3",
   "language": "python",
   "name": "python3"
  },
  "language_info": {
   "codemirror_mode": {
    "name": "ipython",
    "version": 3
   },
   "file_extension": ".py",
   "mimetype": "text/x-python",
   "name": "python",
   "nbconvert_exporter": "python",
   "pygments_lexer": "ipython3",
   "version": "3.6.6"
  }
 },
 "nbformat": 4,
 "nbformat_minor": 2
}
