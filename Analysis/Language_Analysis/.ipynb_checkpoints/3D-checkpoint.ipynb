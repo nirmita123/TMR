{
 "cells": [
  {
   "cell_type": "markdown",
   "metadata": {},
   "source": [
    "# Part 1 + Part 2 : Location based Objects, All Translations  "
   ]
  },
  {
   "cell_type": "code",
   "execution_count": 1,
   "metadata": {},
   "outputs": [],
   "source": [
    "import pandas as pd\n",
    "import numpy as np\n",
    "import seaborn as sns\n",
    "import distance\n",
    "import researchpy as rp\n",
    "import statsmodels.api as sm\n",
    "from statsmodels.formula.api import ols\n",
    "import statsmodels.stats.multicomp\n",
    "import pingouin as pg\n",
    "from scipy import stats\n",
    "import matplotlib.pyplot as plt\n",
    "import statistics as st\n",
    "import matplotlib.gridspec as gridspec\n",
    "from scipy.stats import shapiro\n",
    "from matplotlib import pyplot\n",
    "from scipy.stats import norm\n",
    "import seaborn as sns\n",
    "import nbimporter\n",
    "from calculate_3D import aggregate_results\n",
    "from calculate_3D import read_results_file\n",
    "from calculate_3D import get_elaborate_data\n",
    "from plot import plot_with_broken_axis\n",
    "from plot import plot_without_broken_axis"
   ]
  },
  {
   "cell_type": "code",
   "execution_count": 2,
   "metadata": {},
   "outputs": [],
   "source": [
    "base2='../../Reminessence_Subjective_Analysis/Plots/LanguagePlots/'"
   ]
  },
  {
   "cell_type": "code",
   "execution_count": 3,
   "metadata": {},
   "outputs": [],
   "source": [
    "results_file = '../../Reminessence_Subjective_Analysis/Reminessence_Responses_Organization.xlsx' #first 32 users\n",
    "\n",
    "results = read_results_file(results_file)\n",
    "# print(results)"
   ]
  },
  {
   "cell_type": "code",
   "execution_count": 4,
   "metadata": {},
   "outputs": [],
   "source": [
    "scores = aggregate_results(results)\n",
    "df = pd.DataFrame(scores, columns = ['User','Gender', 'Survey', 'Order', 'Type', 'Condition', 'Score_O', 'Score_T'])"
   ]
  },
  {
   "cell_type": "code",
   "execution_count": 5,
   "metadata": {},
   "outputs": [],
   "source": [
    "df2 = get_elaborate_data()"
   ]
  },
  {
   "cell_type": "markdown",
   "metadata": {},
   "source": [
    "# Anova test before removing the outlier"
   ]
  },
  {
   "cell_type": "code",
   "execution_count": 6,
   "metadata": {
    "scrolled": false
   },
   "outputs": [
    {
     "data": {
      "text/html": [
       "<div>\n",
       "<style scoped>\n",
       "    .dataframe tbody tr th:only-of-type {\n",
       "        vertical-align: middle;\n",
       "    }\n",
       "\n",
       "    .dataframe tbody tr th {\n",
       "        vertical-align: top;\n",
       "    }\n",
       "\n",
       "    .dataframe thead th {\n",
       "        text-align: right;\n",
       "    }\n",
       "</style>\n",
       "<table border=\"1\" class=\"dataframe\">\n",
       "  <thead>\n",
       "    <tr style=\"text-align: right;\">\n",
       "      <th></th>\n",
       "      <th>Source</th>\n",
       "      <th>SS</th>\n",
       "      <th>ddof1</th>\n",
       "      <th>ddof2</th>\n",
       "      <th>MS</th>\n",
       "      <th>F</th>\n",
       "      <th>p-unc</th>\n",
       "      <th>p-GG-corr</th>\n",
       "      <th>np2</th>\n",
       "      <th>eps</th>\n",
       "    </tr>\n",
       "  </thead>\n",
       "  <tbody>\n",
       "    <tr>\n",
       "      <th>0</th>\n",
       "      <td>Condition</td>\n",
       "      <td>9.570</td>\n",
       "      <td>1</td>\n",
       "      <td>31</td>\n",
       "      <td>9.570</td>\n",
       "      <td>1.360</td>\n",
       "      <td>0.252466</td>\n",
       "      <td>0.252466</td>\n",
       "      <td>0.042</td>\n",
       "      <td>1.0</td>\n",
       "    </tr>\n",
       "    <tr>\n",
       "      <th>1</th>\n",
       "      <td>Type</td>\n",
       "      <td>31.008</td>\n",
       "      <td>1</td>\n",
       "      <td>31</td>\n",
       "      <td>31.008</td>\n",
       "      <td>11.479</td>\n",
       "      <td>0.001932</td>\n",
       "      <td>0.001932</td>\n",
       "      <td>0.270</td>\n",
       "      <td>1.0</td>\n",
       "    </tr>\n",
       "    <tr>\n",
       "      <th>2</th>\n",
       "      <td>Condition * Type</td>\n",
       "      <td>2.820</td>\n",
       "      <td>1</td>\n",
       "      <td>31</td>\n",
       "      <td>2.820</td>\n",
       "      <td>1.459</td>\n",
       "      <td>0.236244</td>\n",
       "      <td>0.236244</td>\n",
       "      <td>0.045</td>\n",
       "      <td>1.0</td>\n",
       "    </tr>\n",
       "  </tbody>\n",
       "</table>\n",
       "</div>"
      ],
      "text/plain": [
       "             Source      SS  ddof1  ddof2      MS       F     p-unc  \\\n",
       "0         Condition   9.570      1     31   9.570   1.360  0.252466   \n",
       "1              Type  31.008      1     31  31.008  11.479  0.001932   \n",
       "2  Condition * Type   2.820      1     31   2.820   1.459  0.236244   \n",
       "\n",
       "   p-GG-corr    np2  eps  \n",
       "0   0.252466  0.042  1.0  \n",
       "1   0.001932  0.270  1.0  \n",
       "2   0.236244  0.045  1.0  "
      ]
     },
     "execution_count": 6,
     "metadata": {},
     "output_type": "execute_result"
    }
   ],
   "source": [
    "# repeated measures mixed anova for translation score - calculating within the condition and type\n",
    "pg.rm_anova(data=df, dv='Score_T', within=['Condition','Type'], subject='User', correction = True, detailed=True)"
   ]
  },
  {
   "cell_type": "code",
   "execution_count": 7,
   "metadata": {
    "scrolled": true
   },
   "outputs": [
    {
     "data": {
      "text/html": [
       "<div>\n",
       "<style scoped>\n",
       "    .dataframe tbody tr th:only-of-type {\n",
       "        vertical-align: middle;\n",
       "    }\n",
       "\n",
       "    .dataframe tbody tr th {\n",
       "        vertical-align: top;\n",
       "    }\n",
       "\n",
       "    .dataframe thead th {\n",
       "        text-align: right;\n",
       "    }\n",
       "</style>\n",
       "<table border=\"1\" class=\"dataframe\">\n",
       "  <thead>\n",
       "    <tr style=\"text-align: right;\">\n",
       "      <th></th>\n",
       "      <th>Source</th>\n",
       "      <th>SS</th>\n",
       "      <th>ddof1</th>\n",
       "      <th>ddof2</th>\n",
       "      <th>MS</th>\n",
       "      <th>F</th>\n",
       "      <th>p-unc</th>\n",
       "      <th>p-GG-corr</th>\n",
       "      <th>np2</th>\n",
       "      <th>eps</th>\n",
       "    </tr>\n",
       "  </thead>\n",
       "  <tbody>\n",
       "    <tr>\n",
       "      <th>0</th>\n",
       "      <td>Condition</td>\n",
       "      <td>45.125</td>\n",
       "      <td>1</td>\n",
       "      <td>31</td>\n",
       "      <td>45.125</td>\n",
       "      <td>2.570</td>\n",
       "      <td>0.119071</td>\n",
       "      <td>0.119071</td>\n",
       "      <td>0.077</td>\n",
       "      <td>1.0</td>\n",
       "    </tr>\n",
       "    <tr>\n",
       "      <th>1</th>\n",
       "      <td>Type</td>\n",
       "      <td>4.500</td>\n",
       "      <td>1</td>\n",
       "      <td>31</td>\n",
       "      <td>4.500</td>\n",
       "      <td>0.949</td>\n",
       "      <td>0.337520</td>\n",
       "      <td>0.337520</td>\n",
       "      <td>0.030</td>\n",
       "      <td>1.0</td>\n",
       "    </tr>\n",
       "    <tr>\n",
       "      <th>2</th>\n",
       "      <td>Condition * Type</td>\n",
       "      <td>3.125</td>\n",
       "      <td>1</td>\n",
       "      <td>31</td>\n",
       "      <td>3.125</td>\n",
       "      <td>0.825</td>\n",
       "      <td>0.370631</td>\n",
       "      <td>0.370631</td>\n",
       "      <td>0.026</td>\n",
       "      <td>1.0</td>\n",
       "    </tr>\n",
       "  </tbody>\n",
       "</table>\n",
       "</div>"
      ],
      "text/plain": [
       "             Source      SS  ddof1  ddof2      MS      F     p-unc  p-GG-corr  \\\n",
       "0         Condition  45.125      1     31  45.125  2.570  0.119071   0.119071   \n",
       "1              Type   4.500      1     31   4.500  0.949  0.337520   0.337520   \n",
       "2  Condition * Type   3.125      1     31   3.125  0.825  0.370631   0.370631   \n",
       "\n",
       "     np2  eps  \n",
       "0  0.077  1.0  \n",
       "1  0.030  1.0  \n",
       "2  0.026  1.0  "
      ]
     },
     "execution_count": 7,
     "metadata": {},
     "output_type": "execute_result"
    }
   ],
   "source": [
    "# repeated measures mixed anova for translation score - calculating within the condition and type\n",
    "pg.rm_anova(data=df, dv='Score_O', within=['Condition','Type'], subject='User', correction = True, detailed=True)"
   ]
  },
  {
   "cell_type": "markdown",
   "metadata": {},
   "source": [
    "# Total Score of object and translation (Post, Pre)"
   ]
  },
  {
   "cell_type": "code",
   "execution_count": 8,
   "metadata": {},
   "outputs": [
    {
     "name": "stdout",
     "output_type": "stream",
     "text": [
      "Total Object Recall:\n",
      "\tControl: 1050, Scent: 1126 \n",
      "\n",
      "Post-Sleep Object Recall:\n",
      "\tControl: 526, Scent: 574\n",
      "\n",
      "Pre-Sleep Object Recall:\n",
      "\tControl: 524, Scent: 552\n"
     ]
    }
   ],
   "source": [
    "total_control = df[df.Condition == 'control']['Score_O'].sum()\n",
    "total_scent = df[df.Condition == 'scent']['Score_O'].sum()\n",
    "print(\"Total Object Recall:\")\n",
    "print(\"\\tControl: {}, Scent: {} \\n\".format(total_control, total_scent))\n",
    "\n",
    "\n",
    "#Survey 2 and 4 - Post Recall for scent & odor\n",
    "# Compare Survey 2 (1 in python) and Survey 4 (3 in python)\n",
    "total_control_postsleep = df[df.Survey == 1]['Score_O'].sum()\n",
    "total_scent_postsleep = df[df.Survey == 3]['Score_O'].sum()\n",
    "print(\"Post-Sleep Object Recall:\")\n",
    "print(\"\\tControl: {}, Scent: {}\\n\".format(total_control_postsleep, total_scent_postsleep))\n",
    "\n",
    "#Survey 1 and 3 - Pre Recall for scent & odor\n",
    "total_control_presleep = df[df.Survey == 0]['Score_O'].sum()\n",
    "total_scent_presleep = df[df.Survey == 2]['Score_O'].sum()\n",
    "print(\"Pre-Sleep Object Recall:\")\n",
    "print(\"\\tControl: {}, Scent: {}\".format(total_control_presleep, total_scent_presleep))\n"
   ]
  },
  {
   "cell_type": "code",
   "execution_count": 9,
   "metadata": {},
   "outputs": [
    {
     "name": "stdout",
     "output_type": "stream",
     "text": [
      "Total Translation Recall:\n",
      "\tControl: 822, Scent: 857 \n",
      "\n",
      "Post-Sleep Translation Recall:\n",
      "\tControl: 422, Scent: 449\n",
      "\n",
      "Pre-Sleep Translation Recall:\n",
      "\tControl: 400, Scent: 408\n"
     ]
    }
   ],
   "source": [
    "total_control_translation = df[df.Condition == 'control']['Score_T'].sum()\n",
    "total_scent_translation = df[df.Condition == 'scent']['Score_T'].sum()\n",
    "print(\"Total Translation Recall:\")\n",
    "print(\"\\tControl: {}, Scent: {} \\n\".format(total_control_translation, total_scent_translation))\n",
    "\n",
    "\n",
    "#Survey 2 and 4 - Post Recall for scent & odor\n",
    "# Compare Survey 2 (1 in python) and Survey 4 (3 in python)\n",
    "total_control_postsleep_translation = df[df.Survey == 1]['Score_T'].sum()\n",
    "total_scent_postsleep_translation = df[df.Survey == 3]['Score_T'].sum()\n",
    "print(\"Post-Sleep Translation Recall:\")\n",
    "print(\"\\tControl: {}, Scent: {}\\n\".format(total_control_postsleep_translation, total_scent_postsleep_translation))\n",
    "\n",
    "#Survey 1 and 3 - Pre Recall for scent & odor\n",
    "total_control_presleep_translation = df[df.Survey == 0]['Score_T'].sum()\n",
    "total_scent_presleep_translation = df[df.Survey == 2]['Score_T'].sum()\n",
    "print(\"Pre-Sleep Translation Recall:\")\n",
    "print(\"\\tControl: {}, Scent: {}\".format(total_control_presleep_translation, total_scent_presleep_translation))\n",
    "\n"
   ]
  },
  {
   "cell_type": "markdown",
   "metadata": {},
   "source": [
    "# Outliers"
   ]
  },
  {
   "cell_type": "code",
   "execution_count": 10,
   "metadata": {},
   "outputs": [
    {
     "name": "stdout",
     "output_type": "stream",
     "text": [
      "17.0 3.797614382740828\n",
      "8 8\n",
      "5 9\n",
      "5 17\n",
      "0 24\n",
      "9 26\n",
      "9 27\n",
      "9 64\n",
      "9 118\n",
      "128\n",
      "120\n"
     ]
    }
   ],
   "source": [
    "# Removing outliers from the object scores - removed only 1 outlier\n",
    "elements = df['Score_O']\n",
    "mean = np.mean(elements, axis=0)\n",
    "sd = np.std(elements, axis=0)\n",
    "print(mean,sd)\n",
    "final_list = []\n",
    "counter =0\n",
    "for x in elements:\n",
    "    \n",
    "    if (x > mean - 2 * sd) and (x < mean + 2 * sd):\n",
    "        final_list.append(x)\n",
    "    else:\n",
    "        print(x,counter)\n",
    "    counter+=1\n",
    "    \n",
    "print(len(np.asarray(elements)))\n",
    "print(len(final_list))\n",
    "\n",
    "df_o=df.drop([24,25,26,27]) # data frame after removing outliers from object scores\n",
    "# df_o=df.drop([8,9,10,11,16,17,18,19,32,33,34,35,116,117,118,119])"
   ]
  },
  {
   "cell_type": "code",
   "execution_count": 11,
   "metadata": {},
   "outputs": [
    {
     "name": "stdout",
     "output_type": "stream",
     "text": [
      "13.1171875 4.652991466771001\n",
      "1 24\n",
      "3 26\n",
      "3 45\n",
      "128\n",
      "125\n"
     ]
    }
   ],
   "source": [
    "# Removing outliers from the object scores - removed no outlier\n",
    "elements = df['Score_T']\n",
    "mean = np.mean(elements, axis=0)\n",
    "sd = np.std(elements, axis=0)\n",
    "print(mean,sd)\n",
    "final_list = []\n",
    "counter =0\n",
    "for x in elements:\n",
    "    \n",
    "    if (x > mean - 2 * sd) and (x < mean + 2 * sd):\n",
    "        final_list.append(x)\n",
    "    else:\n",
    "        print(x,counter)\n",
    "    counter+=1\n",
    "    \n",
    "print(len(np.asarray(elements)))\n",
    "print(len(final_list))\n",
    "\n",
    "df_t=df # data frame after removing outliers from translation scores\n",
    "# df_t=df.drop([32,33,34,35,48,49,50,51])"
   ]
  },
  {
   "cell_type": "markdown",
   "metadata": {},
   "source": [
    "## Normality - using shaprio-wilk test"
   ]
  },
  {
   "cell_type": "code",
   "execution_count": 12,
   "metadata": {},
   "outputs": [
    {
     "name": "stdout",
     "output_type": "stream",
     "text": [
      "Statistics=0.771, p=0.000\n",
      "Sample does not look Gaussian (reject H0)\n"
     ]
    }
   ],
   "source": [
    "# normality test\n",
    "stat, p = shapiro(df[df.Survey == 0]['Score_O'])\n",
    "print('Statistics=%.3f, p=%.3f' % (stat, p))\n",
    "# interpret\n",
    "alpha = 0.05\n",
    "if p > alpha:\n",
    "    print('Sample looks Gaussian (fail to reject H0)')\n",
    "else:\n",
    "    print('Sample does not look Gaussian (reject H0)')"
   ]
  },
  {
   "cell_type": "code",
   "execution_count": 13,
   "metadata": {},
   "outputs": [
    {
     "data": {
      "image/png": "[encoded data removed]",
      "text/plain": [
       "<Figure size 432x288 with 1 Axes>"
      ]
     },
     "metadata": {
      "needs_background": "light"
     },
     "output_type": "display_data"
    }
   ],
   "source": [
    "# histogram plot\n",
    "pyplot.hist(df[df.Survey == 0]['Score_T'])\n",
    "pyplot.show()"
   ]
  },
  {
   "cell_type": "code",
   "execution_count": 14,
   "metadata": {},
   "outputs": [
    {
     "data": {
      "image/png": "[encoded data removed]",
      "text/plain": [
       "<Figure size 432x288 with 1 Axes>"
      ]
     },
     "metadata": {
      "needs_background": "light"
     },
     "output_type": "display_data"
    }
   ],
   "source": [
    "data = (df[df.Survey == 3]['Score_T']) # you can use a pandas series or a list if you want\n",
    "\n",
    "sns.distplot(data, fit=norm, kde=False)\n",
    "pyplot.show()"
   ]
  },
  {
   "cell_type": "markdown",
   "metadata": {},
   "source": [
    "# Subject-wise score"
   ]
  },
  {
   "cell_type": "code",
   "execution_count": 15,
   "metadata": {},
   "outputs": [
    {
     "data": {
      "text/plain": [
       "Ttest_relResult(statistic=-2.0678016642086905, pvalue=0.042770987443135317)"
      ]
     },
     "execution_count": 15,
     "metadata": {},
     "output_type": "execute_result"
    }
   ],
   "source": [
    "# paied t-test of final scores from each session - object\n",
    "stats.ttest_rel(df[df.Condition == 'control']['Score_O'],df[df.Condition == 'scent']['Score_O'])"
   ]
  },
  {
   "cell_type": "code",
   "execution_count": 16,
   "metadata": {},
   "outputs": [
    {
     "data": {
      "text/plain": [
       "Ttest_relResult(statistic=-1.4649895142338942, pvalue=0.14789670265574145)"
      ]
     },
     "execution_count": 16,
     "metadata": {},
     "output_type": "execute_result"
    }
   ],
   "source": [
    "# paied t-test of final scores from each session - translation\n",
    "stats.ttest_rel(df[df.Condition == 'control']['Score_T'],df[df.Condition == 'scent']['Score_T'])"
   ]
  },
  {
   "cell_type": "markdown",
   "metadata": {},
   "source": [
    "# Location-wise score"
   ]
  },
  {
   "cell_type": "code",
   "execution_count": 17,
   "metadata": {
    "scrolled": true
   },
   "outputs": [
    {
     "data": {
      "text/plain": [
       "Ttest_relResult(statistic=-3.7189387499641304, pvalue=0.00021764424065701568)"
      ]
     },
     "execution_count": 17,
     "metadata": {},
     "output_type": "execute_result"
    }
   ],
   "source": [
    "# paied t-test of individual scores from each session (640 vs 640)\n",
    "stats.ttest_rel(df2[df2.Condition =='control']['Score_O'],df2[df2.Condition =='scent']['Score_O'])"
   ]
  },
  {
   "cell_type": "code",
   "execution_count": 18,
   "metadata": {},
   "outputs": [
    {
     "data": {
      "text/plain": [
       "Ttest_relResult(statistic=-1.5846220350864464, pvalue=0.11354697629635985)"
      ]
     },
     "execution_count": 18,
     "metadata": {},
     "output_type": "execute_result"
    }
   ],
   "source": [
    "# paied t-test of individual scores from each session (640 vs 640)\n",
    "stats.ttest_rel(df2[df2.Condition =='control']['Score_T'],df2[df2.Condition =='scent']['Score_T'])"
   ]
  },
  {
   "cell_type": "markdown",
   "metadata": {},
   "source": [
    "# Anova after removing outliers"
   ]
  },
  {
   "cell_type": "code",
   "execution_count": 19,
   "metadata": {
    "scrolled": false
   },
   "outputs": [
    {
     "data": {
      "text/html": [
       "<div>\n",
       "<style scoped>\n",
       "    .dataframe tbody tr th:only-of-type {\n",
       "        vertical-align: middle;\n",
       "    }\n",
       "\n",
       "    .dataframe tbody tr th {\n",
       "        vertical-align: top;\n",
       "    }\n",
       "\n",
       "    .dataframe thead th {\n",
       "        text-align: right;\n",
       "    }\n",
       "</style>\n",
       "<table border=\"1\" class=\"dataframe\">\n",
       "  <thead>\n",
       "    <tr style=\"text-align: right;\">\n",
       "      <th></th>\n",
       "      <th>Source</th>\n",
       "      <th>SS</th>\n",
       "      <th>ddof1</th>\n",
       "      <th>ddof2</th>\n",
       "      <th>MS</th>\n",
       "      <th>F</th>\n",
       "      <th>p-unc</th>\n",
       "      <th>p-GG-corr</th>\n",
       "      <th>np2</th>\n",
       "      <th>eps</th>\n",
       "    </tr>\n",
       "  </thead>\n",
       "  <tbody>\n",
       "    <tr>\n",
       "      <th>0</th>\n",
       "      <td>Condition</td>\n",
       "      <td>9.570</td>\n",
       "      <td>1</td>\n",
       "      <td>31</td>\n",
       "      <td>9.570</td>\n",
       "      <td>1.360</td>\n",
       "      <td>0.252466</td>\n",
       "      <td>0.252466</td>\n",
       "      <td>0.042</td>\n",
       "      <td>1.0</td>\n",
       "    </tr>\n",
       "    <tr>\n",
       "      <th>1</th>\n",
       "      <td>Type</td>\n",
       "      <td>31.008</td>\n",
       "      <td>1</td>\n",
       "      <td>31</td>\n",
       "      <td>31.008</td>\n",
       "      <td>11.479</td>\n",
       "      <td>0.001932</td>\n",
       "      <td>0.001932</td>\n",
       "      <td>0.270</td>\n",
       "      <td>1.0</td>\n",
       "    </tr>\n",
       "    <tr>\n",
       "      <th>2</th>\n",
       "      <td>Condition * Type</td>\n",
       "      <td>2.820</td>\n",
       "      <td>1</td>\n",
       "      <td>31</td>\n",
       "      <td>2.820</td>\n",
       "      <td>1.459</td>\n",
       "      <td>0.236244</td>\n",
       "      <td>0.236244</td>\n",
       "      <td>0.045</td>\n",
       "      <td>1.0</td>\n",
       "    </tr>\n",
       "  </tbody>\n",
       "</table>\n",
       "</div>"
      ],
      "text/plain": [
       "             Source      SS  ddof1  ddof2      MS       F     p-unc  \\\n",
       "0         Condition   9.570      1     31   9.570   1.360  0.252466   \n",
       "1              Type  31.008      1     31  31.008  11.479  0.001932   \n",
       "2  Condition * Type   2.820      1     31   2.820   1.459  0.236244   \n",
       "\n",
       "   p-GG-corr    np2  eps  \n",
       "0   0.252466  0.042  1.0  \n",
       "1   0.001932  0.270  1.0  \n",
       "2   0.236244  0.045  1.0  "
      ]
     },
     "execution_count": 19,
     "metadata": {},
     "output_type": "execute_result"
    }
   ],
   "source": [
    "# repeated measures mixed anova for translation score - calculating within the condition and type\n",
    "pg.rm_anova(data=df_t, dv='Score_T', within=['Condition','Type'], subject='User', correction = True, detailed=True)"
   ]
  },
  {
   "cell_type": "code",
   "execution_count": 20,
   "metadata": {
    "scrolled": true
   },
   "outputs": [
    {
     "data": {
      "text/html": [
       "<div>\n",
       "<style scoped>\n",
       "    .dataframe tbody tr th:only-of-type {\n",
       "        vertical-align: middle;\n",
       "    }\n",
       "\n",
       "    .dataframe tbody tr th {\n",
       "        vertical-align: top;\n",
       "    }\n",
       "\n",
       "    .dataframe thead th {\n",
       "        text-align: right;\n",
       "    }\n",
       "</style>\n",
       "<table border=\"1\" class=\"dataframe\">\n",
       "  <thead>\n",
       "    <tr style=\"text-align: right;\">\n",
       "      <th></th>\n",
       "      <th>Source</th>\n",
       "      <th>SS</th>\n",
       "      <th>ddof1</th>\n",
       "      <th>ddof2</th>\n",
       "      <th>MS</th>\n",
       "      <th>F</th>\n",
       "      <th>p-unc</th>\n",
       "      <th>p-GG-corr</th>\n",
       "      <th>np2</th>\n",
       "      <th>eps</th>\n",
       "    </tr>\n",
       "  </thead>\n",
       "  <tbody>\n",
       "    <tr>\n",
       "      <th>0</th>\n",
       "      <td>Condition</td>\n",
       "      <td>38.395</td>\n",
       "      <td>1</td>\n",
       "      <td>30</td>\n",
       "      <td>38.395</td>\n",
       "      <td>2.138</td>\n",
       "      <td>0.154124</td>\n",
       "      <td>0.154124</td>\n",
       "      <td>0.067</td>\n",
       "      <td>1.0</td>\n",
       "    </tr>\n",
       "    <tr>\n",
       "      <th>1</th>\n",
       "      <td>Type</td>\n",
       "      <td>1.363</td>\n",
       "      <td>1</td>\n",
       "      <td>30</td>\n",
       "      <td>1.363</td>\n",
       "      <td>0.341</td>\n",
       "      <td>0.563591</td>\n",
       "      <td>0.563591</td>\n",
       "      <td>0.011</td>\n",
       "      <td>1.0</td>\n",
       "    </tr>\n",
       "    <tr>\n",
       "      <th>2</th>\n",
       "      <td>Condition * Type</td>\n",
       "      <td>7.750</td>\n",
       "      <td>1</td>\n",
       "      <td>30</td>\n",
       "      <td>7.750</td>\n",
       "      <td>2.818</td>\n",
       "      <td>0.103590</td>\n",
       "      <td>0.103590</td>\n",
       "      <td>0.086</td>\n",
       "      <td>1.0</td>\n",
       "    </tr>\n",
       "  </tbody>\n",
       "</table>\n",
       "</div>"
      ],
      "text/plain": [
       "             Source      SS  ddof1  ddof2      MS      F     p-unc  p-GG-corr  \\\n",
       "0         Condition  38.395      1     30  38.395  2.138  0.154124   0.154124   \n",
       "1              Type   1.363      1     30   1.363  0.341  0.563591   0.563591   \n",
       "2  Condition * Type   7.750      1     30   7.750  2.818  0.103590   0.103590   \n",
       "\n",
       "     np2  eps  \n",
       "0  0.067  1.0  \n",
       "1  0.011  1.0  \n",
       "2  0.086  1.0  "
      ]
     },
     "execution_count": 20,
     "metadata": {},
     "output_type": "execute_result"
    }
   ],
   "source": [
    "# repeated measures mixed anova for object score - calculating within the condition and type\n",
    "pg.rm_anova(data=df_o, dv='Score_O', within=['Condition','Type'], subject='User', correction = True, detailed=True)"
   ]
  },
  {
   "cell_type": "markdown",
   "metadata": {},
   "source": [
    "# ANOVA tests - using other libraries"
   ]
  },
  {
   "cell_type": "code",
   "execution_count": 21,
   "metadata": {},
   "outputs": [
    {
     "name": "stdout",
     "output_type": "stream",
     "text": [
      "                   sum_sq     df         F    PR(>F)\n",
      "C(Condition)     9.570312    1.0  0.438095  0.509262\n",
      "C(Type)         31.007813    1.0  1.419426  0.235755\n",
      "Residual      2730.664062  125.0       NaN       NaN\n"
     ]
    }
   ],
   "source": [
    "# Fits the model\n",
    "model2 = ols('Score_T ~ C(Condition)+C(Type)', df).fit()\n",
    "\n",
    "# print(f\"Overall model F({model2.df_model: .0f},{model2.df_resid: .0f}) = {model2.fvalue: .3f}, p = {model2.f_pvalue: .4f}\")\n",
    "# model2.summary()\n",
    "table = sm.stats.anova_lm(model2, typ=2) \n",
    "print(table)"
   ]
  },
  {
   "cell_type": "code",
   "execution_count": 22,
   "metadata": {},
   "outputs": [
    {
     "name": "stdout",
     "output_type": "stream",
     "text": [
      "                sum_sq     df         F    PR(>F)\n",
      "C(Condition)    45.125    1.0  3.140004  0.078830\n",
      "C(Type)          4.500    1.0  0.313131  0.576767\n",
      "Residual      1796.375  125.0       NaN       NaN\n"
     ]
    }
   ],
   "source": [
    "# Fits the model\n",
    "model2 = ols('Score_O ~  C(Condition)+C(Type)', df).fit()\n",
    "\n",
    "# print(f\"Overall model F({model2.df_model: .0f},{model2.df_resid: .0f}) = {model2.fvalue: .3f}, p = {model2.f_pvalue: .4f}\")\n",
    "# model2.summary()\n",
    "table = sm.stats.anova_lm(model2, typ=2) \n",
    "print(table)"
   ]
  },
  {
   "cell_type": "code",
   "execution_count": 23,
   "metadata": {},
   "outputs": [
    {
     "name": "stdout",
     "output_type": "stream",
     "text": [
      "\n",
      "=============\n",
      "ANOVA SUMMARY\n",
      "=============\n",
      "\n",
      "Source            SS    DF1    DF2       MS      F    p-unc    np2  eps\n",
      "-----------  -------  -----  -----  -------  -----  -------  -----  -----\n",
      "Gender       101.254      1     30  101.254  2.808    0.104  0.086  -\n",
      "Condition      4.785      1     30    4.785  1.333    0.257  0.043  1.0\n",
      "Interaction    1.410      1     30    1.410  0.393    0.536  0.013  -\n",
      "\n"
     ]
    }
   ],
   "source": [
    "# Compute the two-way mixed-design ANOVA - independent variables: 'condition' and 'gender'\n",
    "aov = pg.mixed_anova(dv='Score_T', within='Condition', between='Gender', subject='User', data=df_t)\n",
    "# Pretty printing of ANOVA summary\n",
    "pg.print_table(aov)"
   ]
  },
  {
   "cell_type": "code",
   "execution_count": 24,
   "metadata": {},
   "outputs": [
    {
     "name": "stdout",
     "output_type": "stream",
     "text": [
      "\n",
      "=============\n",
      "ANOVA SUMMARY\n",
      "=============\n",
      "\n",
      "Source           SS    DF1    DF2      MS      F    p-unc    np2  eps\n",
      "-----------  ------  -----  -----  ------  -----  -------  -----  -----\n",
      "Gender        0.242      1     29   0.242  0.024    0.879  0.001  -\n",
      "Condition    19.198      1     29  19.198  2.198    0.149  0.070  1.0\n",
      "Interaction  16.135      1     29  16.135  1.847    0.185  0.060  -\n",
      "\n"
     ]
    }
   ],
   "source": [
    "# Compute the two-way mixed-design ANOVA - independent variables: 'condition' and 'gender'\n",
    "aov = pg.mixed_anova(dv='Score_O', within='Condition', between='Gender', subject='User', data=df_o)\n",
    "# Pretty printing of ANOVA summary\n",
    "pg.print_table(aov)"
   ]
  },
  {
   "cell_type": "markdown",
   "metadata": {},
   "source": [
    "# Pre and Post Sleep one way anova"
   ]
  },
  {
   "cell_type": "code",
   "execution_count": 25,
   "metadata": {},
   "outputs": [
    {
     "data": {
      "text/html": [
       "<div>\n",
       "<style scoped>\n",
       "    .dataframe tbody tr th:only-of-type {\n",
       "        vertical-align: middle;\n",
       "    }\n",
       "\n",
       "    .dataframe tbody tr th {\n",
       "        vertical-align: top;\n",
       "    }\n",
       "\n",
       "    .dataframe thead th {\n",
       "        text-align: right;\n",
       "    }\n",
       "</style>\n",
       "<table border=\"1\" class=\"dataframe\">\n",
       "  <thead>\n",
       "    <tr style=\"text-align: right;\">\n",
       "      <th></th>\n",
       "      <th>Source</th>\n",
       "      <th>SS</th>\n",
       "      <th>DF</th>\n",
       "      <th>MS</th>\n",
       "      <th>F</th>\n",
       "      <th>p-unc</th>\n",
       "      <th>np2</th>\n",
       "      <th>eps</th>\n",
       "    </tr>\n",
       "  </thead>\n",
       "  <tbody>\n",
       "    <tr>\n",
       "      <th>0</th>\n",
       "      <td>Condition</td>\n",
       "      <td>1.0</td>\n",
       "      <td>1</td>\n",
       "      <td>1.000</td>\n",
       "      <td>0.217</td>\n",
       "      <td>0.644757</td>\n",
       "      <td>0.007</td>\n",
       "      <td>1</td>\n",
       "    </tr>\n",
       "    <tr>\n",
       "      <th>1</th>\n",
       "      <td>Error</td>\n",
       "      <td>143.0</td>\n",
       "      <td>31</td>\n",
       "      <td>4.613</td>\n",
       "      <td>-</td>\n",
       "      <td>-</td>\n",
       "      <td>-</td>\n",
       "      <td>-</td>\n",
       "    </tr>\n",
       "  </tbody>\n",
       "</table>\n",
       "</div>"
      ],
      "text/plain": [
       "      Source     SS  DF     MS      F     p-unc    np2 eps\n",
       "0  Condition    1.0   1  1.000  0.217  0.644757  0.007   1\n",
       "1      Error  143.0  31  4.613      -         -      -   -"
      ]
     },
     "execution_count": 25,
     "metadata": {},
     "output_type": "execute_result"
    }
   ],
   "source": [
    "pg.rm_anova(data=df[(df.Survey == 0) | (df.Survey == 2)], dv='Score_T', within='Condition', subject='User', correction = True, detailed=True)"
   ]
  },
  {
   "cell_type": "code",
   "execution_count": 26,
   "metadata": {
    "scrolled": true
   },
   "outputs": [
    {
     "data": {
      "text/html": [
       "<div>\n",
       "<style scoped>\n",
       "    .dataframe tbody tr th:only-of-type {\n",
       "        vertical-align: middle;\n",
       "    }\n",
       "\n",
       "    .dataframe tbody tr th {\n",
       "        vertical-align: top;\n",
       "    }\n",
       "\n",
       "    .dataframe thead th {\n",
       "        text-align: right;\n",
       "    }\n",
       "</style>\n",
       "<table border=\"1\" class=\"dataframe\">\n",
       "  <thead>\n",
       "    <tr style=\"text-align: right;\">\n",
       "      <th></th>\n",
       "      <th>Source</th>\n",
       "      <th>SS</th>\n",
       "      <th>DF</th>\n",
       "      <th>MS</th>\n",
       "      <th>F</th>\n",
       "      <th>p-unc</th>\n",
       "      <th>np2</th>\n",
       "      <th>eps</th>\n",
       "    </tr>\n",
       "  </thead>\n",
       "  <tbody>\n",
       "    <tr>\n",
       "      <th>0</th>\n",
       "      <td>Condition</td>\n",
       "      <td>11.391</td>\n",
       "      <td>1</td>\n",
       "      <td>11.391</td>\n",
       "      <td>2.614</td>\n",
       "      <td>0.11609</td>\n",
       "      <td>0.078</td>\n",
       "      <td>1</td>\n",
       "    </tr>\n",
       "    <tr>\n",
       "      <th>1</th>\n",
       "      <td>Error</td>\n",
       "      <td>135.109</td>\n",
       "      <td>31</td>\n",
       "      <td>4.358</td>\n",
       "      <td>-</td>\n",
       "      <td>-</td>\n",
       "      <td>-</td>\n",
       "      <td>-</td>\n",
       "    </tr>\n",
       "  </tbody>\n",
       "</table>\n",
       "</div>"
      ],
      "text/plain": [
       "      Source       SS  DF      MS      F    p-unc    np2 eps\n",
       "0  Condition   11.391   1  11.391  2.614  0.11609  0.078   1\n",
       "1      Error  135.109  31   4.358      -        -      -   -"
      ]
     },
     "execution_count": 26,
     "metadata": {},
     "output_type": "execute_result"
    }
   ],
   "source": [
    "pg.rm_anova(data=df[(df.Survey == 1) | (df.Survey == 3)], dv='Score_T', within='Condition', subject='User', correction = True, detailed=True)"
   ]
  },
  {
   "cell_type": "code",
   "execution_count": 27,
   "metadata": {
    "scrolled": true
   },
   "outputs": [
    {
     "data": {
      "text/html": [
       "<div>\n",
       "<style scoped>\n",
       "    .dataframe tbody tr th:only-of-type {\n",
       "        vertical-align: middle;\n",
       "    }\n",
       "\n",
       "    .dataframe tbody tr th {\n",
       "        vertical-align: top;\n",
       "    }\n",
       "\n",
       "    .dataframe thead th {\n",
       "        text-align: right;\n",
       "    }\n",
       "</style>\n",
       "<table border=\"1\" class=\"dataframe\">\n",
       "  <thead>\n",
       "    <tr style=\"text-align: right;\">\n",
       "      <th></th>\n",
       "      <th>Source</th>\n",
       "      <th>SS</th>\n",
       "      <th>DF</th>\n",
       "      <th>MS</th>\n",
       "      <th>F</th>\n",
       "      <th>p-unc</th>\n",
       "      <th>np2</th>\n",
       "      <th>eps</th>\n",
       "    </tr>\n",
       "  </thead>\n",
       "  <tbody>\n",
       "    <tr>\n",
       "      <th>0</th>\n",
       "      <td>Condition</td>\n",
       "      <td>12.25</td>\n",
       "      <td>1</td>\n",
       "      <td>12.250</td>\n",
       "      <td>0.992</td>\n",
       "      <td>0.326926</td>\n",
       "      <td>0.031</td>\n",
       "      <td>1</td>\n",
       "    </tr>\n",
       "    <tr>\n",
       "      <th>1</th>\n",
       "      <td>Error</td>\n",
       "      <td>382.75</td>\n",
       "      <td>31</td>\n",
       "      <td>12.347</td>\n",
       "      <td>-</td>\n",
       "      <td>-</td>\n",
       "      <td>-</td>\n",
       "      <td>-</td>\n",
       "    </tr>\n",
       "  </tbody>\n",
       "</table>\n",
       "</div>"
      ],
      "text/plain": [
       "      Source      SS  DF      MS      F     p-unc    np2 eps\n",
       "0  Condition   12.25   1  12.250  0.992  0.326926  0.031   1\n",
       "1      Error  382.75  31  12.347      -         -      -   -"
      ]
     },
     "execution_count": 27,
     "metadata": {},
     "output_type": "execute_result"
    }
   ],
   "source": [
    "pg.rm_anova(data=df[(df.Survey == 0) | (df.Survey == 2)], dv='Score_O', within='Condition', subject='User', correction = True, detailed=True)"
   ]
  },
  {
   "cell_type": "code",
   "execution_count": 28,
   "metadata": {},
   "outputs": [
    {
     "data": {
      "text/html": [
       "<div>\n",
       "<style scoped>\n",
       "    .dataframe tbody tr th:only-of-type {\n",
       "        vertical-align: middle;\n",
       "    }\n",
       "\n",
       "    .dataframe tbody tr th {\n",
       "        vertical-align: top;\n",
       "    }\n",
       "\n",
       "    .dataframe thead th {\n",
       "        text-align: right;\n",
       "    }\n",
       "</style>\n",
       "<table border=\"1\" class=\"dataframe\">\n",
       "  <thead>\n",
       "    <tr style=\"text-align: right;\">\n",
       "      <th></th>\n",
       "      <th>Source</th>\n",
       "      <th>SS</th>\n",
       "      <th>DF</th>\n",
       "      <th>MS</th>\n",
       "      <th>F</th>\n",
       "      <th>p-unc</th>\n",
       "      <th>np2</th>\n",
       "      <th>eps</th>\n",
       "    </tr>\n",
       "  </thead>\n",
       "  <tbody>\n",
       "    <tr>\n",
       "      <th>0</th>\n",
       "      <td>Condition</td>\n",
       "      <td>36.0</td>\n",
       "      <td>1</td>\n",
       "      <td>36.0</td>\n",
       "      <td>4</td>\n",
       "      <td>0.0543272</td>\n",
       "      <td>0.114</td>\n",
       "      <td>1</td>\n",
       "    </tr>\n",
       "    <tr>\n",
       "      <th>1</th>\n",
       "      <td>Error</td>\n",
       "      <td>279.0</td>\n",
       "      <td>31</td>\n",
       "      <td>9.0</td>\n",
       "      <td>-</td>\n",
       "      <td>-</td>\n",
       "      <td>-</td>\n",
       "      <td>-</td>\n",
       "    </tr>\n",
       "  </tbody>\n",
       "</table>\n",
       "</div>"
      ],
      "text/plain": [
       "      Source     SS  DF    MS  F      p-unc    np2 eps\n",
       "0  Condition   36.0   1  36.0  4  0.0543272  0.114   1\n",
       "1      Error  279.0  31   9.0  -          -      -   -"
      ]
     },
     "execution_count": 28,
     "metadata": {},
     "output_type": "execute_result"
    }
   ],
   "source": [
    "pg.rm_anova(data=df[(df.Survey == 1) | (df.Survey == 3)], dv='Score_O', within='Condition', subject='User', correction = True, detailed=True)"
   ]
  },
  {
   "cell_type": "markdown",
   "metadata": {},
   "source": [
    "# Without removing outliers "
   ]
  },
  {
   "cell_type": "code",
   "execution_count": 29,
   "metadata": {},
   "outputs": [
    {
     "data": {
      "text/plain": [
       "Ttest_relResult(statistic=1.616634644835209, pvalue=0.11608972632591323)"
      ]
     },
     "execution_count": 29,
     "metadata": {},
     "output_type": "execute_result"
    }
   ],
   "source": [
    "# paired t-test for post sleep between scent and control - translation\n",
    "stats.ttest_rel(df[df.Survey == 3]['Score_T'], df[df.Survey==1]['Score_T'])"
   ]
  },
  {
   "cell_type": "code",
   "execution_count": 30,
   "metadata": {},
   "outputs": [
    {
     "data": {
      "text/plain": [
       "Ttest_relResult(statistic=0.46559984620188266, pvalue=0.6447566044444732)"
      ]
     },
     "execution_count": 30,
     "metadata": {},
     "output_type": "execute_result"
    }
   ],
   "source": [
    "# paired t-test for pre sleep between scent and control - translation\n",
    "stats.ttest_rel(df[df.Survey == 2]['Score_T'], df[df.Survey == 0]['Score_T'])"
   ]
  },
  {
   "cell_type": "code",
   "execution_count": 31,
   "metadata": {},
   "outputs": [
    {
     "data": {
      "text/plain": [
       "Ttest_relResult(statistic=2.0, pvalue=0.054327215367175705)"
      ]
     },
     "execution_count": 31,
     "metadata": {},
     "output_type": "execute_result"
    }
   ],
   "source": [
    "# paired t-test for post sleep between scent and control - object\n",
    "stats.ttest_rel(df[df.Survey == 3]['Score_O'], df[df.Survey==1]['Score_O'])"
   ]
  },
  {
   "cell_type": "code",
   "execution_count": 32,
   "metadata": {},
   "outputs": [
    {
     "data": {
      "text/plain": [
       "Ttest_relResult(statistic=0.996073283262987, pvalue=0.3269264636381096)"
      ]
     },
     "execution_count": 32,
     "metadata": {},
     "output_type": "execute_result"
    }
   ],
   "source": [
    "# paired t-test for pre sleep between scent and control - object\n",
    "stats.ttest_rel(df[df.Survey == 2]['Score_O'], df[df.Survey==0]['Score_O'])"
   ]
  },
  {
   "cell_type": "markdown",
   "metadata": {},
   "source": [
    "# After removing Outliers"
   ]
  },
  {
   "cell_type": "code",
   "execution_count": 33,
   "metadata": {},
   "outputs": [
    {
     "data": {
      "text/plain": [
       "Ttest_relResult(statistic=1.616634644835209, pvalue=0.11608972632591323)"
      ]
     },
     "execution_count": 33,
     "metadata": {},
     "output_type": "execute_result"
    }
   ],
   "source": [
    "# paired t-test for post sleep between scent and control - translation\n",
    "stats.ttest_rel(df_t[df_t.Survey == 3]['Score_T'], df_t[df_t.Survey==1]['Score_T'])"
   ]
  },
  {
   "cell_type": "code",
   "execution_count": 34,
   "metadata": {},
   "outputs": [
    {
     "data": {
      "text/plain": [
       "Ttest_relResult(statistic=0.46559984620188266, pvalue=0.6447566044444732)"
      ]
     },
     "execution_count": 34,
     "metadata": {},
     "output_type": "execute_result"
    }
   ],
   "source": [
    "# paired t-test for pre sleep between scent and control - translation\n",
    "stats.ttest_rel(df_t[df_t.Survey == 2]['Score_T'], df_t[df_t.Survey == 0]['Score_T'])"
   ]
  },
  {
   "cell_type": "code",
   "execution_count": 35,
   "metadata": {},
   "outputs": [
    {
     "data": {
      "text/plain": [
       "Ttest_relResult(statistic=2.106251363578798, pvalue=0.04365566349468155)"
      ]
     },
     "execution_count": 35,
     "metadata": {},
     "output_type": "execute_result"
    }
   ],
   "source": [
    "# paired t-test for post sleep between scent and control - object\n",
    "stats.ttest_rel(df_o[df_o.Survey == 3]['Score_O'], df_o[df_o.Survey==1]['Score_O'])"
   ]
  },
  {
   "cell_type": "code",
   "execution_count": 36,
   "metadata": {},
   "outputs": [
    {
     "data": {
      "text/plain": [
       "Ttest_relResult(statistic=0.7077933403979083, pvalue=0.48453660579144675)"
      ]
     },
     "execution_count": 36,
     "metadata": {},
     "output_type": "execute_result"
    }
   ],
   "source": [
    "# paired t-test for pre sleep between scent and control - object\n",
    "stats.ttest_rel(df_o[df_o.Survey == 2]['Score_O'], df_o[df_o.Survey==0]['Score_O'])"
   ]
  },
  {
   "cell_type": "markdown",
   "metadata": {},
   "source": [
    "# Pre vs Post Sleep"
   ]
  },
  {
   "cell_type": "code",
   "execution_count": 37,
   "metadata": {},
   "outputs": [
    {
     "data": {
      "text/plain": [
       "Ttest_relResult(statistic=2.056419541418274, pvalue=0.0482430797382629)"
      ]
     },
     "execution_count": 37,
     "metadata": {},
     "output_type": "execute_result"
    }
   ],
   "source": [
    "# paired t-test for control between post and pre sleep - translation\n",
    "stats.ttest_rel(df[df.Survey==1]['Score_T'], df[df.Survey == 0]['Score_T'])"
   ]
  },
  {
   "cell_type": "code",
   "execution_count": 38,
   "metadata": {},
   "outputs": [
    {
     "data": {
      "text/plain": [
       "Ttest_relResult(statistic=3.037776441614185, pvalue=0.004804681545211986)"
      ]
     },
     "execution_count": 38,
     "metadata": {},
     "output_type": "execute_result"
    }
   ],
   "source": [
    "# paired t-test for scent between post and pre sleep - translation\n",
    "stats.ttest_rel(df[df.Survey==3]['Score_T'], df[df.Survey == 2]['Score_T'])"
   ]
  },
  {
   "cell_type": "code",
   "execution_count": 39,
   "metadata": {},
   "outputs": [
    {
     "data": {
      "text/plain": [
       "Ttest_relResult(statistic=0.11218857739579265, pvalue=0.911397199352109)"
      ]
     },
     "execution_count": 39,
     "metadata": {},
     "output_type": "execute_result"
    }
   ],
   "source": [
    "# paired t-test for control between post and pre sleep - object\n",
    "stats.ttest_rel(df[df.Survey==1]['Score_O'], df[df.Survey == 0]['Score_O'])"
   ]
  },
  {
   "cell_type": "code",
   "execution_count": 40,
   "metadata": {},
   "outputs": [
    {
     "data": {
      "text/plain": [
       "Ttest_relResult(statistic=1.4569855927715483, pvalue=0.15517601227139677)"
      ]
     },
     "execution_count": 40,
     "metadata": {},
     "output_type": "execute_result"
    }
   ],
   "source": [
    "# paired t-test for scent between post and pre sleep - object\n",
    "stats.ttest_rel(df[df.Survey==3]['Score_O'], df[df.Survey == 2]['Score_O'])"
   ]
  },
  {
   "cell_type": "markdown",
   "metadata": {},
   "source": [
    "# Annex Approach"
   ]
  },
  {
   "cell_type": "code",
   "execution_count": 41,
   "metadata": {},
   "outputs": [
    {
     "name": "stdout",
     "output_type": "stream",
     "text": [
      "100.38167938931298 103.98550724637681\n"
     ]
    }
   ],
   "source": [
    "import numpy as np\n",
    "average_pre_sleep_object_control = np.mean(df[df.Survey==0]['Score_O'])\n",
    "sem_pre_sleep_object_control = stats.sem(df[df.Survey==0]['Score_O'])\n",
    "\n",
    "average_post_sleep_object_control = np.mean(df[df.Survey==1]['Score_O'])\n",
    "sem_post_sleep_object_control = stats.sem(df[df.Survey==1]['Score_O'])\n",
    "\n",
    "average_pre_sleep_object_scent = np.mean(df[df.Survey==2]['Score_O'])\n",
    "sem_pre_sleep_object_scent = stats.sem(df[df.Survey==2]['Score_O'])\n",
    "\n",
    "average_post_sleep_object_scent = np.mean(df[df.Survey==3]['Score_O'])\n",
    "sem_post_sleep_object_scent = stats.sem(df[df.Survey==3]['Score_O'])\n",
    "\n",
    "diff_control_obj = average_post_sleep_object_control/average_pre_sleep_object_control*100\n",
    "diff_scent_obj = average_post_sleep_object_scent/average_pre_sleep_object_scent*100\n",
    "\n",
    "print(diff_control_obj, diff_scent_obj)"
   ]
  },
  {
   "cell_type": "markdown",
   "metadata": {},
   "source": [
    "# PLOTS"
   ]
  },
  {
   "cell_type": "markdown",
   "metadata": {},
   "source": [
    "# Comparing change in score after the post test (Control vs Scent)"
   ]
  },
  {
   "cell_type": "code",
   "execution_count": 42,
   "metadata": {
    "scrolled": true
   },
   "outputs": [
    {
     "name": "stderr",
     "output_type": "stream",
     "text": [
      "/Users/nirmita/anaconda3/lib/python3.6/site-packages/ipykernel_launcher.py:6: UserWarning: Boolean Series key will be reindexed to match DataFrame index.\n",
      "  \n"
     ]
    }
   ],
   "source": [
    "# Subject wise (post-pre)/pre *100 - object memorizaion\n",
    "\n",
    "change_control = []\n",
    "change_scent = []\n",
    "\n",
    "for i, val in enumerate (zip(df_o[(df_o.Condition == 'control') & (df_o.Type == 0)]['Score_O'],df_o[(df_o.Condition == 'control') & (df_o.Type == 1)]['Score_O'],df_o[(df_o.Condition == 'scent') & (df_o.Type == 0)]['Score_O'],df_o[(df_o.Condition == 'scent') & (df.Type == 1)]['Score_O'])):\n",
    "    pre_c,post_c,pre_s,post_s = val\n",
    "#     print(pre_c,post_c,pre_s,post_s)\n",
    "    if pre_c!=0 and pre_s!=0:\n",
    "        x1 = (post_c-pre_c)/pre_c *100\n",
    "        change_control.append(x1)\n",
    "        x2 = (post_s-pre_s)/pre_s *100\n",
    "        change_scent.append(x2)\n"
   ]
  },
  {
   "cell_type": "code",
   "execution_count": 44,
   "metadata": {},
   "outputs": [
    {
     "data": {
      "image/png": "[encoded data removed]",
      "text/plain": [
       "<Figure size 216x432 with 1 Axes>"
      ]
     },
     "metadata": {
      "needs_background": "light"
     },
     "output_type": "display_data"
    }
   ],
   "source": [
    "plot_without_broken_axis('Object (Post-sleep - Pre-sleep)/Pre-sleep', 'Object_change_wake_and_sleep', 'Control', 'Scent','white','black','Improvement in memorization',change_control,change_scent,[-6,13])"
   ]
  },
  {
   "cell_type": "code",
   "execution_count": 45,
   "metadata": {
    "scrolled": true
   },
   "outputs": [],
   "source": [
    "# Subject wise (post-pre)/pre *100 - Translation\n",
    "df_t=df\n",
    "change_control = []\n",
    "change_scent = []\n",
    "\n",
    "for i, val in enumerate (zip(df_t[(df_t.Condition == 'control') & (df_t.Type == 0)]['Score_T'],df_t[(df_t.Condition == 'control') & (df_t.Type == 1)]['Score_T'],df_t[(df_t.Condition == 'scent') & (df_t.Type == 0)]['Score_T'],df_t[(df_t.Condition == 'scent') & (df_t.Type == 1)]['Score_T'])):\n",
    "    pre_c,post_c,pre_s,post_s = val\n",
    "#     print(pre_c,post_c,pre_s,post_s)\n",
    "    if pre_c!=0 and pre_s!=0:\n",
    "        x1 = (post_c-pre_c)/pre_c *100\n",
    "        change_control.append(x1)\n",
    "        x2 = (post_s-pre_s)/pre_s *100\n",
    "        change_scent.append(x2)\n",
    "        "
   ]
  },
  {
   "cell_type": "code",
   "execution_count": 47,
   "metadata": {},
   "outputs": [
    {
     "data": {
      "image/png": "[encoded data removed]",
      "text/plain": [
       "<Figure size 216x432 with 1 Axes>"
      ]
     },
     "metadata": {
      "needs_background": "light"
     },
     "output_type": "display_data"
    }
   ],
   "source": [
    "plot_without_broken_axis('Translation (Post-sleep - Pre-sleep)/Pre-sleep', 'Translation_change_wake_and_sleep', 'Control', 'Scent','white','black','Improvement in memorization',change_control,change_scent,[-3,33])"
   ]
  },
  {
   "cell_type": "markdown",
   "metadata": {},
   "source": [
    "## Overall: Sleep & Wake (control vs scent)"
   ]
  },
  {
   "cell_type": "code",
   "execution_count": 48,
   "metadata": {},
   "outputs": [
    {
     "data": {
      "image/png": "[encoded data removed]",
      "text/plain": [
       "<Figure size 216x432 with 2 Axes>"
      ]
     },
     "metadata": {
      "needs_background": "light"
     },
     "output_type": "display_data"
    }
   ],
   "source": [
    "plot_with_broken_axis( 'Object','Object_sleep_wake', 'Control', 'Scent','white','black','Memorization Performance',df2[df2.Condition=='control']['Score_O'],df2[df2.Condition=='scent']['Score_O'],[65,95])"
   ]
  },
  {
   "cell_type": "code",
   "execution_count": 49,
   "metadata": {},
   "outputs": [
    {
     "data": {
      "image/png": "[encoded data removed]",
      "text/plain": [
       "<Figure size 216x432 with 2 Axes>"
      ]
     },
     "metadata": {
      "needs_background": "light"
     },
     "output_type": "display_data"
    }
   ],
   "source": [
    "plot_with_broken_axis('Translation','Translation_sleep_wake', 'Control', 'Scent','white','black','Memorization Performance',df2[df2.Condition=='control']['Score_T'],df2[df2.Condition=='scent']['Score_T'],[55,95])"
   ]
  },
  {
   "cell_type": "code",
   "execution_count": 50,
   "metadata": {},
   "outputs": [],
   "source": [
    "wake_control_object=df2[(df2.Type==0) & (df2.Condition == \"control\")]['Score_O']\n",
    "sleep_control_object=df2[(df2.Type==1) & (df2.Condition == \"control\")]['Score_O']\n",
    "wake_scent_object=df2[(df2.Type==0) & (df2.Condition == \"scent\")]['Score_O']\n",
    "sleep_scent_object=df2[(df2.Type==1) & (df2.Condition == \"scent\")]['Score_O']\n",
    "\n",
    "wake_control_trans=df2[(df2.Type==0) & (df2.Condition == \"control\")]['Score_T']\n",
    "sleep_control_trans=df2[(df2.Type==1) & (df2.Condition == \"control\")]['Score_T']\n",
    "wake_scent_trans=df2[(df2.Type==0) & (df2.Condition == \"scent\")]['Score_T']\n",
    "sleep_scent_trans=df2[(df2.Type==1) & (df2.Condition == \"scent\")]['Score_T']"
   ]
  },
  {
   "cell_type": "code",
   "execution_count": 51,
   "metadata": {},
   "outputs": [],
   "source": [
    "#Difference wake and sleep of object memorization\n",
    "l1=[(s-w)*5 for index, (w, s) in enumerate(zip(df[df.Survey == 0 ]['Score_O'], df[df.Survey == 1 ]['Score_O']))]# difference of wake control and sleep control\n",
    "l2=[(s-w)*5 for index, (w, s) in enumerate(zip(df[df.Survey == 2 ]['Score_O'], df[df.Survey == 3 ]['Score_O']))]# difference of wake scent and sleep scent\n"
   ]
  },
  {
   "cell_type": "code",
   "execution_count": 52,
   "metadata": {},
   "outputs": [
    {
     "data": {
      "image/png": "[encoded data removed]",
      "text/plain": [
       "<Figure size 216x432 with 1 Axes>"
      ]
     },
     "metadata": {
      "needs_background": "light"
     },
     "output_type": "display_data"
    }
   ],
   "source": [
    "plot_without_broken_axis('Object (Pre-sleep - Post-sleep)','Object_difference_wake_and_sleep', 'Control', 'Scent','white','black','Improvement in memorization',l1,l2,[-2,6.5])"
   ]
  },
  {
   "cell_type": "code",
   "execution_count": 53,
   "metadata": {},
   "outputs": [],
   "source": [
    "#Difference wake and sleep of translation memorization\n",
    "l1=[(s-w)*5 for index, (w, s) in enumerate(zip(df[df.Survey == 0 ]['Score_T'], df[df.Survey == 1 ]['Score_T']))]# difference of wake control and sleep control\n",
    "l2=[(s-w)*5 for index, (w, s) in enumerate(zip(df[df.Survey == 2 ]['Score_T'], df[df.Survey == 3 ]['Score_T']))]# difference of wake scent and sleep scent\n",
    "# print(l1)\n",
    "# print(l2)"
   ]
  },
  {
   "cell_type": "code",
   "execution_count": 54,
   "metadata": {},
   "outputs": [
    {
     "data": {
      "image/png": "[encoded data removed]",
      "text/plain": [
       "<Figure size 216x432 with 1 Axes>"
      ]
     },
     "metadata": {
      "needs_background": "light"
     },
     "output_type": "display_data"
    }
   ],
   "source": [
    "plot_without_broken_axis('Translation (Pre-sleep - Post-sleep)','Translation_difference_wake_and_sleep', 'Control', 'Scent','white','black','Improvement in memorization',l1,l2,[0,9])"
   ]
  },
  {
   "cell_type": "markdown",
   "metadata": {},
   "source": [
    "## Object Pre-sleep Memorization (Control vs Scent)"
   ]
  },
  {
   "cell_type": "code",
   "execution_count": 55,
   "metadata": {},
   "outputs": [
    {
     "data": {
      "image/png": "[encoded data removed]",
      "text/plain": [
       "<Figure size 216x432 with 2 Axes>"
      ]
     },
     "metadata": {
      "needs_background": "light"
     },
     "output_type": "display_data"
    }
   ],
   "source": [
    "plot_with_broken_axis('Object Memorization Pre-sleep','Object_wake', 'Control', 'Scent','white','black','Memorization Performance',wake_control_object,wake_scent_object,[65,95])"
   ]
  },
  {
   "cell_type": "markdown",
   "metadata": {},
   "source": [
    "## Object Post-Sleep Memorization (Control vs Scent) "
   ]
  },
  {
   "cell_type": "code",
   "execution_count": 56,
   "metadata": {},
   "outputs": [
    {
     "data": {
      "image/png": "[encoded data removed]",
      "text/plain": [
       "<Figure size 216x432 with 2 Axes>"
      ]
     },
     "metadata": {
      "needs_background": "light"
     },
     "output_type": "display_data"
    }
   ],
   "source": [
    "plot_with_broken_axis('Object Memorization Post-sleep','Object_sleep', 'Control', 'Scent','white','black','Memorization Performance',sleep_control_object,sleep_scent_object,[65,95])"
   ]
  },
  {
   "cell_type": "code",
   "execution_count": 57,
   "metadata": {},
   "outputs": [],
   "source": [
    "# difference of each subject (post-sleep - pre-sleep)\n",
    "Object_difference_control = []\n",
    "Object_difference_scent = []\n",
    "\n",
    "Trans_difference_control = []\n",
    "Trans_difference_scent = []\n",
    "\n",
    "i=0\n",
    "while(i<len(df2)-10):\n",
    "#     print(i,df2['Condition'][i])\n",
    "    if df2['Condition'][i] == 'control':\n",
    "        Object_difference_control.append((df2['Score_O'][i+10]-df2['Score_O'][i])*50)\n",
    "        Trans_difference_control.append((df2['Score_T'][i+10]-df2['Score_T'][i])*50)\n",
    "    if df2['Condition'][i] == 'scent':\n",
    "        Object_difference_scent.append((df2['Score_O'][i+10]-df2['Score_O'][i])*50)    \n",
    "        Trans_difference_scent.append((df2['Score_T'][i+10]-df2['Score_T'][i])*50)   \n",
    "    i=i+1\n",
    "    if i%10 == 0 and i%20 != 0 and i!=0:\n",
    "        i=i+10\n"
   ]
  },
  {
   "cell_type": "code",
   "execution_count": 60,
   "metadata": {},
   "outputs": [
    {
     "data": {
      "image/png": "[encoded data removed]",
      "text/plain": [
       "<Figure size 216x432 with 1 Axes>"
      ]
     },
     "metadata": {
      "needs_background": "light"
     },
     "output_type": "display_data"
    }
   ],
   "source": [
    "plot_without_broken_axis('Object Memorization difference Post and Pre sleep','Object_sleep', 'Control', 'Scent','white','black','Memorization Performance',Object_difference_control,Object_difference_scent,[-1,5])"
   ]
  },
  {
   "cell_type": "code",
   "execution_count": 59,
   "metadata": {},
   "outputs": [
    {
     "data": {
      "image/png": "[encoded data removed]",
      "text/plain": [
       "<Figure size 216x432 with 1 Axes>"
      ]
     },
     "metadata": {
      "needs_background": "light"
     },
     "output_type": "display_data"
    }
   ],
   "source": [
    "plot_without_broken_axis('Translation Memorization difference Post and Pre sleep','Translation_sleep', 'Control', 'Scent','white','black','Memorization Performance', Trans_difference_control, Trans_difference_scent,[1,8])"
   ]
  },
  {
   "cell_type": "markdown",
   "metadata": {},
   "source": [
    "## Translation Pre-sleep Memorization (Control vs Scent)"
   ]
  },
  {
   "cell_type": "code",
   "execution_count": 61,
   "metadata": {},
   "outputs": [
    {
     "data": {
      "image/png": "[encoded data removed]",
      "text/plain": [
       "<Figure size 216x432 with 2 Axes>"
      ]
     },
     "metadata": {
      "needs_background": "light"
     },
     "output_type": "display_data"
    }
   ],
   "source": [
    "plot_with_broken_axis('Translation Pre-sleep','Translation_wake', 'Control', 'Scent','white','black','Memorization Performance',wake_control_trans,wake_scent_trans,[45,86])"
   ]
  },
  {
   "cell_type": "markdown",
   "metadata": {},
   "source": [
    "## Translation Sleep Memorization (Control vs Scent)"
   ]
  },
  {
   "cell_type": "code",
   "execution_count": 62,
   "metadata": {},
   "outputs": [
    {
     "data": {
      "image/png": "[encoded data removed]",
      "text/plain": [
       "<Figure size 216x432 with 2 Axes>"
      ]
     },
     "metadata": {
      "needs_background": "light"
     },
     "output_type": "display_data"
    }
   ],
   "source": [
    "plot_with_broken_axis('Translation Post-Sleep','Translation_sleep', 'Control', 'Scent','white','black','Memorization Performance', sleep_control_trans, sleep_scent_trans,[45,86])"
   ]
  },
  {
   "cell_type": "markdown",
   "metadata": {},
   "source": [
    "## Object Wake vs Sleep Memorization Control"
   ]
  },
  {
   "cell_type": "code",
   "execution_count": 63,
   "metadata": {},
   "outputs": [
    {
     "data": {
      "image/png": "[encoded data removed]",
      "text/plain": [
       "<Figure size 216x432 with 2 Axes>"
      ]
     },
     "metadata": {
      "needs_background": "light"
     },
     "output_type": "display_data"
    }
   ],
   "source": [
    "plot_with_broken_axis('Object Memorization in control','Object_wakeVSsleep_control', 'Control', 'Scent','white','white','Memorization Performance', wake_control_object, sleep_control_object,[55,96])"
   ]
  },
  {
   "cell_type": "markdown",
   "metadata": {},
   "source": [
    "## Object Wake vs Sleep Memorization Scent"
   ]
  },
  {
   "cell_type": "code",
   "execution_count": 64,
   "metadata": {},
   "outputs": [
    {
     "data": {
      "image/png": "[encoded data removed]",
      "text/plain": [
       "<Figure size 216x432 with 2 Axes>"
      ]
     },
     "metadata": {
      "needs_background": "light"
     },
     "output_type": "display_data"
    }
   ],
   "source": [
    "plot_with_broken_axis('Object Memorization in scent','Object_wakeVSsleep_scent', 'Control', 'Scent','black','black','Memorization Performance', wake_scent_object, sleep_scent_object,[55,96])"
   ]
  },
  {
   "cell_type": "code",
   "execution_count": 65,
   "metadata": {},
   "outputs": [
    {
     "data": {
      "image/png": "[encoded data removed]",
      "text/plain": [
       "<Figure size 216x432 with 2 Axes>"
      ]
     },
     "metadata": {
      "needs_background": "light"
     },
     "output_type": "display_data"
    }
   ],
   "source": [
    "# calculate mean and standard error mean\n",
    "wake_list=wake_control_trans.to_list()+ wake_scent_trans.to_list()\n",
    "sleep_list=sleep_control_trans.to_list()+ sleep_scent_trans.to_list()\n",
    "\n",
    "\n",
    "plot_with_broken_axis('Translation Pre-sleep vs post-sleep','Translation_wakeVSsleep', 'Control', 'Scent','#C0C0C0','#C0C0C0','Memorization Performance', wake_list, sleep_list,[55,96])"
   ]
  },
  {
   "cell_type": "markdown",
   "metadata": {},
   "source": [
    "## Translation wake vs sleep control"
   ]
  },
  {
   "cell_type": "code",
   "execution_count": 66,
   "metadata": {},
   "outputs": [
    {
     "data": {
      "image/png": "[encoded data removed]",
      "text/plain": [
       "<Figure size 216x432 with 2 Axes>"
      ]
     },
     "metadata": {
      "needs_background": "light"
     },
     "output_type": "display_data"
    }
   ],
   "source": [
    "plot_with_broken_axis('Translation Memorization in control','Translation_wakeVSsleep_control', 'Control', 'Scent','white','white','Memorization Performance', wake_control_trans, sleep_control_trans,[55,96])"
   ]
  },
  {
   "cell_type": "markdown",
   "metadata": {},
   "source": [
    "## Translation Wake vs Sleep Scent"
   ]
  },
  {
   "cell_type": "code",
   "execution_count": 67,
   "metadata": {},
   "outputs": [
    {
     "data": {
      "image/png": "[encoded data removed]",
      "text/plain": [
       "<Figure size 216x432 with 2 Axes>"
      ]
     },
     "metadata": {
      "needs_background": "light"
     },
     "output_type": "display_data"
    }
   ],
   "source": [
    "plot_with_broken_axis('Translation Memorization in scent','Translation_wakeVSsleep_scent', 'Control', 'Scent','black','black','Memorization Performance', wake_scent_trans, sleep_scent_trans,[55,96])"
   ]
  }
 ],
 "metadata": {
  "kernelspec": {
   "display_name": "Python 2",
   "language": "python",
   "name": "python2"
  },
  "language_info": {
   "codemirror_mode": {
    "name": "ipython",
    "version": 3
   },
   "file_extension": ".py",
   "mimetype": "text/x-python",
   "name": "python",
   "nbconvert_exporter": "python",
   "pygments_lexer": "ipython3",
   "version": "3.6.6"
  }
 },
 "nbformat": 4,
 "nbformat_minor": 2
}
