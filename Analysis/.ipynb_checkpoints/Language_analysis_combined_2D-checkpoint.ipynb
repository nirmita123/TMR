{
 "cells": [
  {
   "cell_type": "markdown",
   "metadata": {},
   "source": [
    "# Part 1 + Part 2: 2D memorization"
   ]
  },
  {
   "cell_type": "code",
   "execution_count": 1,
   "metadata": {},
   "outputs": [],
   "source": [
    "import pandas as pd\n",
    "import numpy as np\n",
    "import seaborn as sns\n",
    "from scipy.stats import norm\n",
    "from matplotlib import pyplot\n",
    "from scipy.stats import shapiro\n",
    "from scipy import stats\n",
    "import matplotlib.pyplot as plt\n",
    "import statistics as st\n",
    "import matplotlib.gridspec as gridspec"
   ]
  },
  {
   "cell_type": "code",
   "execution_count": 2,
   "metadata": {},
   "outputs": [],
   "source": [
    "base2='../Reminessence_Subjective_Analysis/Plots/LanguagePlots/2D_plots/'"
   ]
  },
  {
   "cell_type": "code",
   "execution_count": 3,
   "metadata": {},
   "outputs": [],
   "source": [
    "#Translations (Responses) in the order R1C1 R1C2 ..RnCn, where Ri is the ith row and Ci is the ith column\n",
    "translation_scent=[\n",
    "    \"Pinzas\",\n",
    "    \"Sierra\",\n",
    "    \"Pincel\",\n",
    "    \"Hojas\",\n",
    "    \"Monedas\",\n",
    "    \"Tetera\",\n",
    "    \"Rotulador\",\n",
    "    \"Peine\",\n",
    "    \"Dibujo\",\n",
    "    \"Grapadora\",\n",
    "    \"Vela\",\n",
    "    \"Ventana\",\n",
    "    \"Cuerno\",\n",
    "    \"Basura\",\n",
    "    \"Palillos\",\n",
    "    \"Mano\",\n",
    "    \"Ascensor\",\n",
    "    \"Tierra\",\n",
    "    \"Mesa\",\n",
    "    \"Gafas\"\n",
    "]\n",
    "translation_control=[\n",
    "    \"Fuente\",\n",
    "    \"Bombilla\",\n",
    "    \"Flor\",\n",
    "    \"Teclado\",\n",
    "    \"Maceta\",\n",
    "    \"Taza\",\n",
    "    \"Vidrio\",\n",
    "    \"Cabeza\",\n",
    "    \"Tenedor\",\n",
    "    \"Pared\",\n",
    "    \"Libro\",\n",
    "    \"Cajones\",\n",
    "    \"Bolsa\",\n",
    "    \"Dulce\",\n",
    "    \"Collar\",\n",
    "    \"Tijeras\",\n",
    "    \"Maquillaje\",\n",
    "    \"Calavera\",\n",
    "    \"Silla\",\n",
    "    \"Bebida\"   \n",
    "]"
   ]
  },
  {
   "cell_type": "code",
   "execution_count": 4,
   "metadata": {},
   "outputs": [],
   "source": [
    "results = []\n",
    "\n",
    "def chunks(l, n):#used to make chunks of [word1, translation1, word2, translation2] corresponding to each location\n",
    "    \"\"\"\n",
    "    Arguments:\n",
    "        l (array): response from each survey\n",
    "        n (int): no. of elements in each chunk\n",
    "    Output:\n",
    "        list of [w1,t2,w2,t2] chunks for all 10 locations\n",
    "    \"\"\"\n",
    "    n = max(1, n)\n",
    "    return list(l[i:i+n] for i in range(0, len(l), n))\n",
    "\n",
    "def read_results_file(fpath, results):#reads the results and return an array of results[user][survey][location]\n",
    "    \"\"\"\n",
    "    Arguments:\n",
    "        fpath (string): path of the .csv results file to be read\n",
    "        results (array): it takes the global array to add the data\n",
    "    Output:\n",
    "        results (array): results[user][survey][location] = [w1,t2,w2,t2]\n",
    "    \"\"\"\n",
    "     \n",
    "    df=pd.read_csv(fpath,header=None)\n",
    "    nline = 1\n",
    "    subject_results = [None]*4\n",
    "\n",
    "    for index, row in df.iterrows():\n",
    "        if index >64:\n",
    "            break\n",
    "        if index > 0:\n",
    "            sub_id, survey_id, order_id = row[1:4]\n",
    "            if int(sub_id) < 17:\n",
    "                if survey_id == '1' or survey_id == '2':\n",
    "                    chunked = list(row[65:85])\n",
    "                else:\n",
    "                    chunked = list(row[86:106])\n",
    "            else:\n",
    "                if survey_id == '3' or survey_id == '4':\n",
    "                    chunked = list(row[64:84])\n",
    "                else:\n",
    "                    chunked = list(row[85:105])\n",
    "                    \n",
    "            subject_results[int(survey_id)-1] = chunked\n",
    "            if nline % 4 == 0:\n",
    "                results.append(subject_results)\n",
    "                subject_results = [None]*4\n",
    "                nline=0\n",
    "            nline +=1\n",
    "\n",
    "    return results\n",
    "            \n",
    "\n",
    "results_file1 = '../Reminessence_Subjective_Analysis/Subjective_Overall_Test.csv'#first 16 users\n",
    "results_file2 = '../Reminessence_Subjective_Analysis/Results_Overall_Test_2.csv'#last 16 users\n",
    "\n",
    "results = read_results_file(results_file1, results)\n",
    "results = read_results_file(results_file2, results)\n"
   ]
  },
  {
   "cell_type": "code",
   "execution_count": 5,
   "metadata": {},
   "outputs": [
    {
     "name": "stdout",
     "output_type": "stream",
     "text": [
      "    User   Survey     Type  Score T\n",
      "       0        0  control       20\n",
      "       0        1  control       20\n",
      "       0        2    scent       20\n",
      "       0        3    scent       20\n",
      "       1        0  control        4\n",
      "       1        1  control        3\n",
      "       1        2    scent        8\n",
      "       1        3    scent        4\n",
      "       2        0  control        3\n",
      "       2        1  control        4\n",
      "       2        2    scent        8\n",
      "       2        3    scent        7\n",
      "       3        0  control        4\n",
      "       3        1  control        0\n",
      "       3        2    scent        3\n",
      "       3        3    scent        1\n",
      "       4        0  control        4\n",
      "       4        1  control        2\n",
      "       4        2    scent       11\n",
      "       4        3    scent        2\n",
      "       5        0  control        3\n",
      "       5        1  control        1\n",
      "       5        2    scent        7\n",
      "       5        3    scent        0\n",
      "       6        0  control       13\n",
      "       6        1  control        7\n",
      "       6        2    scent        4\n",
      "       6        3    scent        6\n",
      "       7        0  control       12\n",
      "       7        1  control       13\n",
      "       7        2    scent       20\n",
      "       7        3    scent       20\n",
      "       8        0  control        7\n",
      "       8        1  control        1\n",
      "       8        2    scent        4\n",
      "       8        3    scent        3\n",
      "       9        0  control       12\n",
      "       9        1  control        9\n",
      "       9        2    scent        5\n",
      "       9        3    scent        4\n",
      "      10        0  control       15\n",
      "      10        1  control        2\n",
      "      10        2    scent       10\n",
      "      10        3    scent        6\n",
      "      11        0  control       20\n",
      "      11        1  control       20\n",
      "      11        2    scent       20\n",
      "      11        3    scent       20\n",
      "      12        0  control        7\n",
      "      12        1  control        2\n",
      "      12        2    scent        5\n",
      "      12        3    scent        2\n",
      "      13        0  control       20\n",
      "      13        1  control       20\n",
      "      13        2    scent        8\n",
      "      13        3    scent        2\n",
      "      14        0  control        5\n",
      "      14        1  control        5\n",
      "      14        2    scent        3\n",
      "      14        3    scent        2\n",
      "      15        0  control        7\n",
      "      15        1  control        2\n",
      "      15        2    scent        7\n",
      "      15        3    scent        2\n",
      "      16        0  control        9\n",
      "      16        1  control        7\n",
      "      16        2    scent        8\n",
      "      16        3    scent        4\n",
      "      17        0  control       11\n",
      "      17        1  control        5\n",
      "      17        2    scent       14\n",
      "      17        3    scent        4\n",
      "      18        0  control        6\n",
      "      18        1  control        1\n",
      "      18        2    scent       11\n",
      "      18        3    scent        5\n",
      "      19        0  control        8\n",
      "      19        1  control        5\n",
      "      19        2    scent       18\n",
      "      19        3    scent       12\n",
      "      20        0  control        4\n",
      "      20        1  control        4\n",
      "      20        2    scent        4\n",
      "      20        3    scent        1\n",
      "      21        0  control        6\n",
      "      21        1  control        5\n",
      "      21        2    scent        9\n",
      "      21        3    scent        7\n",
      "      22        0  control        7\n",
      "      22        1  control        7\n",
      "      22        2    scent        4\n",
      "      22        3    scent        4\n",
      "      23        0  control        4\n",
      "      23        1  control        4\n",
      "      23        2    scent        4\n",
      "      23        3    scent        1\n",
      "      24        0  control       18\n",
      "      24        1  control       12\n",
      "      24        2    scent       20\n",
      "      24        3    scent       20\n",
      "      25        0  control       18\n",
      "      25        1  control       17\n",
      "      25        2    scent       19\n",
      "      25        3    scent        5\n",
      "      26        0  control        4\n",
      "      26        1  control        0\n",
      "      26        2    scent       13\n",
      "      26        3    scent        6\n",
      "      27        0  control        3\n",
      "      27        1  control        0\n",
      "      27        2    scent        9\n",
      "      27        3    scent        4\n",
      "      28        0  control       20\n",
      "      28        1  control       20\n",
      "      28        2    scent       20\n",
      "      28        3    scent       20\n",
      "      29        0  control       20\n",
      "      29        1  control       16\n",
      "      29        2    scent       11\n",
      "      29        3    scent       10\n",
      "      30        0  control        5\n",
      "      30        1  control        3\n",
      "      30        2    scent       10\n",
      "      30        3    scent        4\n",
      "      31        0  control       10\n",
      "      31        1  control        3\n",
      "      31        2    scent        6\n",
      "      31        3    scent        2\n"
     ]
    }
   ],
   "source": [
    "score_control_trans=[]\n",
    "score_scent_trans=[]\n",
    "\n",
    "def score_user_survey(responses, typ, user_id): # Computes scores for all locations\n",
    "    \"\"\"\n",
    "    Arguments:\n",
    "        responses (array): all responses for an individual/survey\n",
    "        typ (string): either \"control\" or \"scent\"\n",
    "        user_id (int): the user number in order(0-31)\n",
    "    Output:\n",
    "        score_condition_trans (int): the calculated score of each user\n",
    "    \"\"\"\n",
    "    #Gets a row (user, survey) and returns average levenstien score \n",
    "    score_condition_trans = 0\n",
    "\n",
    "    for i,resp in enumerate(responses): # resp = [word1, trans1, word1,trans2]\n",
    "        \n",
    "        if user_id < 16:\n",
    "            truth = translation_scent[i] if typ == 'scent' else translation_control[i]\n",
    "        else:\n",
    "            truth = translation_control[i] if typ == 'scent' else translation_scent[i]\n",
    "        \n",
    "        score_trans = 1 if resp == truth else 0\n",
    "        score_condition_trans  += score_trans\n",
    "        \n",
    "        if typ=='control':\n",
    "            score_control_trans.append(score_trans)\n",
    "        else:\n",
    "            score_scent_trans.append(score_trans)\n",
    "\n",
    "    return score_condition_trans\n",
    "\n",
    " \n",
    "def aggregate_results(all_results):\n",
    "    \"\"\"\n",
    "    Arguments: \n",
    "        all_results: combined responses of all the 32 users of all 4 surveys (Pre-sleep control, Post-sleep control, Pre-sleep scent, Post-sleep scent)\n",
    "    Output: \n",
    "        scores (array size #users*4 X 4): contains [user_id (0-31), survey_id (1-4), typ (control/scent), strans (translation memorization score)]\n",
    "    \"\"\"\n",
    "    scores = []\n",
    "    print('{:>8} {:>8} {:>8} {:>8}'.format('User', 'Survey', 'Type', 'Score T'))    \n",
    "    for user_id, results_user in enumerate(all_results):\n",
    "        for survey_id, results_survey in enumerate(results_user):\n",
    "            typ = 'control' if survey_id in [0,1] else 'scent'      \n",
    "            strans = score_user_survey(results_survey, typ, user_id)\n",
    "            print('{:>8} {:>8} {:>8} {:>8}'.format(user_id, survey_id, typ,strans))\n",
    "            scores.append([user_id, survey_id, typ, strans])\n",
    "            \n",
    "    return scores\n",
    "    \n",
    "    \n",
    "scores = aggregate_results(results)\n",
    "\n",
    "\n",
    "df = pd.DataFrame(scores, columns = ['User', 'Survey', 'Type', 'Score T'])"
   ]
  },
  {
   "cell_type": "code",
   "execution_count": 6,
   "metadata": {},
   "outputs": [
    {
     "name": "stdout",
     "output_type": "stream",
     "text": [
      "Total Translation Recall:\n",
      "\tControl: 529, Scent: 533 \n",
      "\n",
      "Post-Sleep Translation Recall:\n",
      "\tControl: 220, Scent: 210\n",
      "\n",
      "Pre-Sleep Translation Recall:\n",
      "\tControl: 309, Scent: 323\n"
     ]
    }
   ],
   "source": [
    "total_control_translation = df[df.Type == 'control']['Score T'].sum()\n",
    "total_scent_translation = df[df.Type == 'scent']['Score T'].sum()\n",
    "print(\"Total Translation Recall:\")\n",
    "print(\"\\tControl: {}, Scent: {} \\n\".format(total_control_translation, total_scent_translation))\n",
    "\n",
    "\n",
    "#Survey 2 and 4 - Post Recall for scent & odor\n",
    "# Compare Survey 2 (1 in python) and Survey 4 (3 in python)\n",
    "total_control_postsleep_translation = df[df.Survey == 1]['Score T'].sum()\n",
    "total_scent_postsleep_translation = df[df.Survey == 3]['Score T'].sum()\n",
    "print(\"Post-Sleep Translation Recall:\")\n",
    "print(\"\\tControl: {}, Scent: {}\\n\".format(total_control_postsleep_translation, total_scent_postsleep_translation))\n",
    "\n",
    "#Survey 1 and 3 - Pre Recall for scent & odor\n",
    "total_control_presleep_translation = df[df.Survey == 0]['Score T'].sum()\n",
    "total_scent_presleep_translation = df[df.Survey == 2]['Score T'].sum()\n",
    "print(\"Pre-Sleep Translation Recall:\")\n",
    "print(\"\\tControl: {}, Scent: {}\".format(total_control_presleep_translation, total_scent_presleep_translation))\n",
    "\n",
    "\n"
   ]
  },
  {
   "cell_type": "markdown",
   "metadata": {},
   "source": [
    "# Normality test"
   ]
  },
  {
   "cell_type": "code",
   "execution_count": 7,
   "metadata": {},
   "outputs": [
    {
     "data": {
      "image/png": "[encoded data removed]",
      "text/plain": [
       "<Figure size 432x288 with 1 Axes>"
      ]
     },
     "metadata": {
      "needs_background": "light"
     },
     "output_type": "display_data"
    }
   ],
   "source": [
    "data = (df[df.Survey == 3]['Score T']) # you can use a pandas series or a list if you want\n",
    "\n",
    "sns.distplot(data, fit=norm, kde=False)\n",
    "pyplot.show()"
   ]
  },
  {
   "cell_type": "code",
   "execution_count": 8,
   "metadata": {},
   "outputs": [
    {
     "name": "stdout",
     "output_type": "stream",
     "text": [
      "Statistics=0.752, p=0.000\n",
      "Sample does not look Gaussian (reject H0)\n"
     ]
    }
   ],
   "source": [
    "# normality test\n",
    "stat, p = shapiro(df[df.Survey == 3]['Score T'])\n",
    "print('Statistics=%.3f, p=%.3f' % (stat, p))\n",
    "# interpret\n",
    "alpha = 0.05\n",
    "if p > alpha:\n",
    "    print('Sample looks Gaussian (fail to reject H0)')\n",
    "else:\n",
    "    print('Sample does not look Gaussian (reject H0)')"
   ]
  },
  {
   "cell_type": "markdown",
   "metadata": {},
   "source": [
    "# Paired t-test"
   ]
  },
  {
   "cell_type": "code",
   "execution_count": 9,
   "metadata": {},
   "outputs": [
    {
     "data": {
      "text/plain": [
       "Ttest_relResult(statistic=-0.09547723385667699, pvalue=0.9242388236257529)"
      ]
     },
     "execution_count": 9,
     "metadata": {},
     "output_type": "execute_result"
    }
   ],
   "source": [
    "# t-test of final scores from each session - translation (32 vs 32)\n",
    "stats.ttest_rel(df[df.Type == 'control']['Score T'],df[df.Type == 'scent']['Score T'])"
   ]
  },
  {
   "cell_type": "code",
   "execution_count": 10,
   "metadata": {},
   "outputs": [
    {
     "data": {
      "text/plain": [
       "Ttest_relResult(statistic=-0.19747174814073928, pvalue=0.8434897652245725)"
      ]
     },
     "execution_count": 10,
     "metadata": {},
     "output_type": "execute_result"
    }
   ],
   "source": [
    "# t-test of individual scores from each session (1280 vs 1280)\n",
    "stats.ttest_rel(score_control_trans,score_scent_trans)"
   ]
  },
  {
   "cell_type": "markdown",
   "metadata": {},
   "source": [
    "# PLOTS"
   ]
  },
  {
   "cell_type": "code",
   "execution_count": 11,
   "metadata": {},
   "outputs": [],
   "source": [
    "def plotSignificance(score_control,score_scent,ax): \n",
    "    # it checks for significance (one-tailed p<0.05) and plots the markings on the plot and returns the P-value\n",
    "    # calculates pvalues using wilcoxon test \n",
    "    \"\"\"\n",
    "    Arguments:\n",
    "       score_control (list): list 1 t-test\n",
    "       score_scent (list): list 2 t-test\n",
    "       ax (axis): axis to plot significance bars on\n",
    "    Output:\n",
    "        Pval (double): stores the one-tail p-value from t-test \n",
    "    \"\"\"\n",
    "    Statistic, Pval= stats.wilcoxon(score_control,score_scent)\n",
    "    Pval= Pval/2\n",
    "    y, h, col = max((score_control.mean())*50+stats.sem(score_control)*50,(score_scent.mean())*50+stats.sem(score_scent)*50), 3, 'k' \n",
    "    if(Pval<0.0001):\n",
    "        star=\"***\"\n",
    "    elif Pval<0.001:\n",
    "        star=\"**\"\n",
    "    elif Pval<0.05:\n",
    "        star=\"*\"\n",
    "    if Pval<0.05:  \n",
    "        ax.text(0.5 , (y+h), star, ha='center', va='bottom', color=col)\n",
    "        ax.plot([0.25, 0.25, 0.75, 0.75], [y+h/2, y+(h), y+(h), y+h/2], lw=1.5, c=col)\n",
    "\n",
    "    return Pval"
   ]
  },
  {
   "cell_type": "code",
   "execution_count": 12,
   "metadata": {},
   "outputs": [],
   "source": [
    "def broken_axis(ylimits):\n",
    "    # used to plot the plot with broken axis and only left and bottom axis visible\n",
    "    \"\"\" \n",
    "    Arguments:\n",
    "       ylimts (tuple, size 2): stores the ylimits of the two broken axis\n",
    "    Output:\n",
    "        ax (axis): main axis plotting the bars\n",
    "        ax2 (axis): secondary axis to plot the kink   \n",
    "    \"\"\"\n",
    "    gs = gridspec.GridSpec(2, 1, height_ratios=[40, 1])\n",
    "    fig = plt.figure(figsize=[3,6])\n",
    "    ax = fig.add_subplot(gs[0])\n",
    "    ax2 = fig.add_subplot(gs[1])\n",
    "\n",
    "    ax.spines[\"top\"].set_visible(False)\n",
    "    ax.spines[\"right\"].set_visible(False)\n",
    "\n",
    "    ax2.spines[\"top\"].set_visible(False)\n",
    "    ax2.spines[\"right\"].set_visible(False)\n",
    "    ax.spines['bottom'].set_visible(False)\n",
    "    ax2.spines['top'].set_visible(False)\n",
    "    ax.xaxis.tick_top()\n",
    "    ax.tick_params(labeltop='off')  # don't put tick labels at the top\n",
    "    ax2.tick_params(labeltop='off')  # don't put tick labels at the top\n",
    "    ax2.xaxis.tick_bottom()\n",
    "    plt.subplots_adjust(hspace=0.05)\n",
    "\n",
    "    kwargs = dict(color='k', clip_on=False)\n",
    "    xlim = ax.get_xlim()\n",
    "    ylim = ax.get_ylim()\n",
    "    ylim2 = ax2.get_ylim()\n",
    "    ylim2ratio = (ylim2[1]-ylim2[0])/(ylim2[1]-ylim2[0]+ylim[1]-ylim[0])\n",
    "    ylimratio = (ylim[1]-ylim[0])/(ylim2[1]-ylim2[0]+ylim[1]-ylim[0])\n",
    "\n",
    "    dx = .03*(xlim[1]-xlim[0])\n",
    "    dy = .015*(ylim[1]-ylim[0])/ylimratio\n",
    "    ax.plot((xlim[0]-dx,xlim[0]+dx), (ylimits[0]-0.5+ylim[0]-dy,ylimits[0]+ylim[0]+dy), **kwargs)\n",
    "\n",
    "    dy = .015*(ylim2[1]-ylim2[0])/ylim2ratio\n",
    "    ax2.plot((xlim[0]-dx,xlim[0]+dx), (ylimits[0]-20+ylim2[1]-dy,ylimits[0]+20+ylim2[1]+dy), **kwargs)\n",
    "    ax.set_xlim(xlim)\n",
    "    ax2.set_xlim(xlim)\n",
    "    ax.axes.get_xaxis().set_visible(False) \n",
    "\n",
    "    # zoom-in / limit the view to different portions of the data\n",
    "    ax.set_ylim(ylimits)  # outliers only\n",
    "    ax2.set_ylim(0, ylimits[0])  # most of the data\n",
    "    \n",
    "    return ax,ax2\n",
    "\n"
   ]
  },
  {
   "cell_type": "markdown",
   "metadata": {},
   "source": [
    "# Overall 2D Memorization"
   ]
  },
  {
   "cell_type": "code",
   "execution_count": 13,
   "metadata": {},
   "outputs": [
    {
     "data": {
      "image/png": "[encoded data removed]",
      "text/plain": [
       "<Figure size 216x432 with 1 Axes>"
      ]
     },
     "metadata": {
      "needs_background": "light"
     },
     "output_type": "display_data"
    }
   ],
   "source": [
    "ylim=[5,35]\n",
    "fig = plt.figure(figsize=[3,6])\n",
    "ax = fig.add_subplot()\n",
    "ax.spines[\"top\"].set_visible(False)\n",
    "ax.spines[\"right\"].set_visible(False)\n",
    "\n",
    "barWidth=0.25\n",
    "mean_control_trans= st.mean(score_control_trans)*50\n",
    "mean_scent_trans= st.mean(score_scent_trans)*50\n",
    "sem_control_trans= stats.sem(score_control_trans)*50\n",
    "sem_scent_trans= stats.sem(score_scent_trans)*50\n",
    "\n",
    "# Make the plot\n",
    "ax.bar(0.25, mean_control_trans, yerr=sem_control_trans, color='#ffffff', width=barWidth, edgecolor='black',capsize=5, label='Control',error_kw=dict(ecolor='gray', lw=2, capsize=5, capthick=2))\n",
    "ax.bar(0.75, mean_scent_trans, yerr=sem_scent_trans, color='#000000', width=barWidth, edgecolor='black',capsize=5, label='Scent',error_kw=dict(ecolor='gray', lw=2, capsize=5, capthick=2))\n",
    "\n",
    "# Add xticks on the middle of the group bars\n",
    "ax.set_xlabel('Condition', fontweight='bold')\n",
    "ax.set_ylabel('Score (in %)', fontweight='bold')\n",
    "plt.xticks([0.25,0.75], ['Control','Scent'])\n",
    "ax.set_title('Memorization 2D')\n",
    "plt.xlim([0,1])\n",
    "\n",
    "# t-test and plot if significant\n",
    "P =plotSignificance(np.asarray(score_control_trans),np.asarray(score_scent_trans),ax)\n",
    "\n",
    "txt1='M (Control)= ' + '%.3f' % mean_control_trans + \" +/-SEM= \"+ '%.3f' % sem_control_trans+\"\\nM (Scent)= \" + '%.3f' % mean_scent_trans+\" +/-SEM= \"+ '%.3f' % sem_scent_trans+\"\\nP= \"'%.3f' %P\n",
    "ax.text(.05, ylim[0]-10.5, txt1, ha='left')\n",
    "plt.savefig(base2+'Memorization2D_sleep_wake',dpi=300,bbox_inches='tight')\n",
    "\n",
    "\n",
    "plt.show()"
   ]
  },
  {
   "cell_type": "code",
   "execution_count": 14,
   "metadata": {},
   "outputs": [],
   "source": [
    "# for translation\n",
    "\n",
    "wake_control_trans=[]\n",
    "sleep_control_trans=[]\n",
    "wake_scent_trans=[]\n",
    "sleep_scent_trans=[]\n",
    "\n",
    "for i in range(0,len(score_control_trans),20):\n",
    "    wake_control_trans.append(score_control_trans[i:i+10])\n",
    "    sleep_control_trans.append(score_control_trans[i+10:i+20])\n",
    "    wake_scent_trans.append(score_scent_trans[i:i+10])\n",
    "    sleep_scent_trans.append(score_scent_trans[i+10:i+20])\n",
    "\n",
    "wake_control_trans=np.concatenate(wake_control_trans)\n",
    "sleep_control_trans=np.concatenate(sleep_control_trans)\n",
    "wake_scent_trans=np.concatenate(wake_scent_trans)\n",
    "sleep_scent_trans=np.concatenate(sleep_scent_trans)"
   ]
  },
  {
   "cell_type": "markdown",
   "metadata": {},
   "source": [
    "# Pre-sleep Memorization"
   ]
  },
  {
   "cell_type": "code",
   "execution_count": 15,
   "metadata": {},
   "outputs": [
    {
     "data": {
      "image/png": "[encoded data removed]",
      "text/plain": [
       "<Figure size 216x432 with 1 Axes>"
      ]
     },
     "metadata": {
      "needs_background": "light"
     },
     "output_type": "display_data"
    }
   ],
   "source": [
    "ylim=[5,35]\n",
    "fig = plt.figure(figsize=[3,6])\n",
    "ax = fig.add_subplot()\n",
    "ax.spines[\"top\"].set_visible(False)\n",
    "ax.spines[\"right\"].set_visible(False)\n",
    "\n",
    "barWidth=0.25\n",
    "mean_control_object= (wake_control_trans.mean())*50\n",
    "mean_scent_object= (wake_scent_trans.mean())*50\n",
    "sem_control_object= stats.sem(wake_control_trans)*50\n",
    "sem_scent_object= stats.sem(wake_scent_trans)*50\n",
    "\n",
    "# Make the plot\n",
    "ax.bar(0.25, mean_control_object, yerr=sem_control_object, color='#ffffff', width=barWidth, edgecolor='black',capsize=5, label='Control',error_kw=dict(ecolor='gray', lw=2, capsize=5, capthick=2))\n",
    "ax.bar(0.75, mean_scent_object, yerr=sem_scent_object, color='#000000', width=barWidth, edgecolor='black',capsize=5, label='Scent',error_kw=dict(ecolor='gray', lw=2, capsize=5, capthick=2))\n",
    "\n",
    "# Add xticks on the middle of the group bars\n",
    "ax.set_title('2D Memorization Pre-sleep')\n",
    "ax.set_xlabel('Condition', fontweight='bold')\n",
    "ax.set_ylabel('Score (in %)', fontweight='bold')\n",
    "plt.xticks([0.25,0.75], ['Control','Scent'])\n",
    "plt.xlim([0,1])\n",
    "\n",
    "# t-test and plot if significant\n",
    "P=plotSignificance(wake_control_trans,wake_scent_trans,ax)\n",
    "\n",
    "txt1='M (Control)= ' + '%.3f' % mean_control_object + \" +/-SEM= \"+ '%.3f' % sem_control_object+\"\\nM (Scent)= \" + '%.3f' % mean_scent_object+\" +/-SEM= \"+ '%.3f' % sem_scent_object+\"\\nP= \"+ '%.3f' % P\n",
    "ax.text(.05, ylim[0]-11, txt1, ha='left')\n",
    "plt.savefig(base2+'Memorization2D_wake',dpi=300,bbox_inches='tight')\n",
    "\n",
    "\n",
    "plt.show()"
   ]
  },
  {
   "cell_type": "markdown",
   "metadata": {},
   "source": [
    "# Post-sleep Memorization"
   ]
  },
  {
   "cell_type": "code",
   "execution_count": 16,
   "metadata": {},
   "outputs": [
    {
     "data": {
      "image/png": "[encoded data removed]",
      "text/plain": [
       "<Figure size 216x432 with 1 Axes>"
      ]
     },
     "metadata": {
      "needs_background": "light"
     },
     "output_type": "display_data"
    }
   ],
   "source": [
    "ylim=[5,35]\n",
    "fig = plt.figure(figsize=[3,6])\n",
    "ax = fig.add_subplot()\n",
    "ax.spines[\"top\"].set_visible(False)\n",
    "ax.spines[\"right\"].set_visible(False)\n",
    "\n",
    "\n",
    "barWidth=0.25\n",
    "mean_control_trans= (sleep_control_trans.mean())*50\n",
    "mean_scent_trans= (sleep_scent_trans.mean())*50\n",
    "sem_control_trans= stats.sem(sleep_control_trans)*50\n",
    "sem_scent_trans= stats.sem(sleep_scent_trans)*50\n",
    "\n",
    "# Make the plot\n",
    "ax.bar(0.25, mean_control_trans, yerr=sem_control_trans, color='#ffffff', width=barWidth, edgecolor='black',capsize=5, label='Control',error_kw=dict(ecolor='gray', lw=2, capsize=5, capthick=2))\n",
    "ax.bar(0.75, mean_scent_trans, yerr=sem_scent_trans, color='#000000', width=barWidth, edgecolor='black',capsize=5, label='Scent',error_kw=dict(ecolor='gray', lw=2, capsize=5, capthick=2))\n",
    "\n",
    "# Add xticks on the middle of the group bars\n",
    "ax.set_title('2D Memorization Post-Sleep')\n",
    "ax.set_xlabel('Condition', fontweight='bold')\n",
    "ax.set_ylabel('Score (in %)', fontweight='bold')\n",
    "plt.xticks([0.25,0.75], ['Control','Scent'])\n",
    "plt.xlim([0,1])\n",
    "plt.ylim([0,35])\n",
    "\n",
    "\n",
    "# t-test and plot if significant\n",
    "P=plotSignificance(sleep_control_trans,sleep_scent_trans,ax)\n",
    "txt1='M (Control)= ' + '%.3f' % mean_control_trans + \" +/-SEM= \"+ '%.3f' % sem_control_trans+\"\\nM (Scent)= \" + '%.3f' % mean_scent_trans+\" +/-SEM= \"+ '%.3f' % sem_scent_trans+\"\\nP= \"+ '%.3f' % P\n",
    "ax.text(.05, -7, txt1, ha='left')\n",
    "\n",
    "plt.savefig(base2+'Memorization2D_sleep',dpi=300,bbox_inches='tight')\n",
    "\n",
    "\n",
    "plt.show()"
   ]
  },
  {
   "cell_type": "markdown",
   "metadata": {},
   "source": [
    "# Memorization in control (Pre vs Post sleep)"
   ]
  },
  {
   "cell_type": "code",
   "execution_count": 17,
   "metadata": {},
   "outputs": [
    {
     "data": {
      "image/png": "[encoded data removed]",
      "text/plain": [
       "<Figure size 216x432 with 1 Axes>"
      ]
     },
     "metadata": {
      "needs_background": "light"
     },
     "output_type": "display_data"
    }
   ],
   "source": [
    "ylim=[5,35]\n",
    "fig = plt.figure(figsize=[3,6])\n",
    "ax = fig.add_subplot()\n",
    "ax.spines[\"top\"].set_visible(False)\n",
    "ax.spines[\"right\"].set_visible(False)\n",
    "\n",
    "barWidth=0.25\n",
    "mean_control_trans_wake= (wake_control_trans.mean())*50\n",
    "mean_control_trans_sleep= (sleep_control_trans.mean())*50\n",
    "sem_control_trans_wake= stats.sem(wake_control_trans)*50\n",
    "sem_control_trans_sleep= stats.sem(sleep_control_trans)*50\n",
    "\n",
    "# Make the plot\n",
    "ax.bar(0.25, mean_control_trans_wake, yerr=sem_control_trans_wake, color='#ffffff', width=barWidth, edgecolor='black',capsize=5, label='Wake',error_kw=dict(ecolor='gray', lw=2, capsize=5, capthick=2))\n",
    "ax.bar(0.75, mean_control_trans_sleep, yerr=sem_control_trans_sleep, color='#ffffff', width=barWidth, edgecolor='black',capsize=5, label='Sleep',error_kw=dict(ecolor='gray', lw=2, capsize=5, capthick=2))\n",
    "\n",
    "# Add xticks on the middle of the group bars\n",
    "ax.set_title('2D Memorization in control')\n",
    "ax.set_xlabel('Condition', fontweight='bold')\n",
    "ax.set_ylabel('Score (in %)', fontweight='bold')\n",
    "plt.xticks([0.25,0.75], ['Wake','Sleep'])\n",
    "plt.xlim([0,1])\n",
    "\n",
    "# t-test and plot if significant\n",
    "P=plotSignificance(wake_control_trans,sleep_control_trans,ax)\n",
    "\n",
    "txt1='M (Wake)= ' + '%.3f' % mean_control_trans_wake + \" +/-SEM= \"+ '%.3f' % sem_control_trans_wake+\"\\nM (Sleep)= \" + '%.3f' % mean_control_trans_sleep+\" +/-SEM= \"+ '%.3f' % sem_control_trans_sleep+\"\\nP= \"+ '%.3f' % P\n",
    "ax.text(.05, -7, txt1, ha='left')\n",
    "plt.savefig(base2+'Memorization2D_wakeVSsleep_control',dpi=300,bbox_inches='tight')\n",
    "\n",
    "\n",
    "plt.show()"
   ]
  },
  {
   "cell_type": "markdown",
   "metadata": {},
   "source": [
    "# Memorization in scent (Pre vs Post sleep)"
   ]
  },
  {
   "cell_type": "code",
   "execution_count": 18,
   "metadata": {
    "scrolled": true
   },
   "outputs": [
    {
     "data": {
      "image/png": "[encoded data removed]",
      "text/plain": [
       "<Figure size 216x432 with 1 Axes>"
      ]
     },
     "metadata": {
      "needs_background": "light"
     },
     "output_type": "display_data"
    }
   ],
   "source": [
    "ylim=[5,35]\n",
    "fig = plt.figure(figsize=[3,6])\n",
    "ax = fig.add_subplot()\n",
    "ax.spines[\"top\"].set_visible(False)\n",
    "ax.spines[\"right\"].set_visible(False)\n",
    "\n",
    "barWidth=0.25\n",
    "mean_scent_trans_wake= (wake_scent_trans.mean())*50\n",
    "mean_scent_trans_sleep= (sleep_scent_trans.mean())*50\n",
    "sem_scent_trans_wake= stats.sem(wake_scent_trans)*50\n",
    "sem_scent_trans_sleep= stats.sem(sleep_scent_trans)*50\n",
    "\n",
    "# Make the plot\n",
    "ax.bar(0.25, mean_scent_trans_wake, yerr=sem_scent_trans_wake, color='#000000', width=barWidth, edgecolor='black',capsize=5, label='Wake',error_kw=dict(ecolor='gray', lw=2, capsize=5, capthick=2))\n",
    "ax.bar(0.75, mean_scent_trans_sleep, yerr=sem_scent_trans_sleep, color='#000000', width=barWidth, edgecolor='black',capsize=5, label='Sleep',error_kw=dict(ecolor='gray', lw=2, capsize=5, capthick=2))\n",
    "\n",
    "# Add xticks on the middle of the group bars\n",
    "ax.set_title('2D Memorization in Scent')\n",
    "ax.set_xlabel('Condition', fontweight='bold')\n",
    "ax.set_ylabel('Score (in %)', fontweight='bold')\n",
    "plt.xticks([0.25,0.75], ['Wake','Sleep'])\n",
    "plt.xlim([0,1])\n",
    "plt.ylim([0,35])\n",
    "\n",
    "# t-test and plot if significant\n",
    "P=plotSignificance(wake_scent_trans,sleep_scent_trans,ax)\n",
    "\n",
    "txt1='M (Wake)= ' + '%.3f' % mean_scent_trans_wake + \" +/-SEM= \"+ '%.3f' % sem_scent_trans_wake+\"\\nM (Sleep)= \" + '%.3f' % mean_scent_trans_sleep+\" +/-SEM= \"+ '%.3f' % sem_scent_trans_sleep+\"\\nP= \"+ '%.3f' % P\n",
    "ax.text(.05, -7, txt1, ha='left')\n",
    "plt.savefig(base2+'Memorization2D_wakeVSsleep_scent',dpi=300,bbox_inches='tight')\n",
    "\n",
    "\n",
    "plt.show()"
   ]
  }
 ],
 "metadata": {
  "kernelspec": {
   "display_name": "Python 3",
   "language": "python",
   "name": "python3"
  },
  "language_info": {
   "codemirror_mode": {
    "name": "ipython",
    "version": 3
   },
   "file_extension": ".py",
   "mimetype": "text/x-python",
   "name": "python",
   "nbconvert_exporter": "python",
   "pygments_lexer": "ipython3",
   "version": "3.6.6"
  }
 },
 "nbformat": 4,
 "nbformat_minor": 2
}
