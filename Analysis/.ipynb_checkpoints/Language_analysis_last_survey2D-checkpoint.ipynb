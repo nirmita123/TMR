{
 "cells": [
  {
   "cell_type": "code",
   "execution_count": 1,
   "metadata": {},
   "outputs": [],
   "source": [
    "import pandas as pd\n",
    "import numpy as np\n",
    "import seaborn as sns\n",
    "from scipy.stats import norm\n",
    "from matplotlib import pyplot\n",
    "from scipy.stats import shapiro\n",
    "from scipy import stats\n",
    "import matplotlib.pyplot as plt\n",
    "import statistics as st\n",
    "import matplotlib.gridspec as gridspec\n",
    "import distance"
   ]
  },
  {
   "cell_type": "code",
   "execution_count": 2,
   "metadata": {},
   "outputs": [],
   "source": [
    "#Translations (Responses) in the order R1C1 R1C2 ..RnCn, where Ri is the ith row and Ci is the ith column\n",
    "translation_scent=[\n",
    "    \"Pinzas\",\n",
    "    \"Sierra\",\n",
    "    \"Pincel\",\n",
    "    \"Hojas\",\n",
    "    \"Monedas\",\n",
    "    \"Tetera\",\n",
    "    \"Rotulador\",\n",
    "    \"Peine\",\n",
    "    \"Dibujo\",\n",
    "    \"Grapadora\",\n",
    "    \"Vela\",\n",
    "    \"Ventana\",\n",
    "    \"Cuerno\",\n",
    "    \"Basura\",\n",
    "    \"Palillos\",\n",
    "    \"Mano\",\n",
    "    \"Ascensor\",\n",
    "    \"Tierra\",\n",
    "    \"Mesa\",\n",
    "    \"Gafas\"\n",
    "]\n",
    "translation_control=[\n",
    "    \"Fuente\",\n",
    "    \"Bombilla\",\n",
    "    \"Flor\",\n",
    "    \"Teclado\",\n",
    "    \"Maceta\",\n",
    "    \"Taza\",\n",
    "    \"Vidrio\",\n",
    "    \"Cabeza\",\n",
    "    \"Tenedor\",\n",
    "    \"Pared\",\n",
    "    \"Libro\",\n",
    "    \"Cajones\",\n",
    "    \"Bolsa\",\n",
    "    \"Dulce\",\n",
    "    \"Collar\",\n",
    "    \"Tijeras\",\n",
    "    \"Maquillaje\",\n",
    "    \"Calavera\",\n",
    "    \"Silla\",\n",
    "    \"Bebida\"   \n",
    "]"
   ]
  },
  {
   "cell_type": "code",
   "execution_count": 3,
   "metadata": {},
   "outputs": [],
   "source": [
    "base2='../Reminessence_Subjective_Analysis/Plots/LanguagePlots/'"
   ]
  },
  {
   "cell_type": "code",
   "execution_count": 4,
   "metadata": {},
   "outputs": [
    {
     "name": "stdout",
     "output_type": "stream",
     "text": [
      "0 No scent condition [R1C1]\n",
      "1 Bebida\n",
      "2 nan\n",
      "3 Fuente\n",
      "4 nan\n",
      "5 Bebida\n",
      "6 Fuente\n",
      "7 Taza\n",
      "8 Taza\n",
      "9 nan\n",
      "10 nan\n",
      "11 Flor\n",
      "12 Fuente\n",
      "13 Fuente\n",
      "14 Taza\n",
      "15 Silla\n",
      "16 Teclado\n",
      "17 Peine\n",
      "18 nan\n",
      "19 Sierra\n",
      "20 Rotulador\n",
      "21 Pinzas\n",
      "22 Pinzas\n",
      "23 Vela\n",
      "24 nan\n",
      "25 nan\n",
      "26 Gafas\n",
      "27 nan\n",
      "28 Pinzas\n"
     ]
    }
   ],
   "source": [
    "def chunks(l, n):#used to make chunks of [word1, translation1, word2, translation2] corresponding to each location\n",
    "    \"\"\"\n",
    "    Arguments:\n",
    "        l (array): response from each survey\n",
    "        n (int): no. of elements in each chunk\n",
    "    Output:\n",
    "        list of [w1,t2,w2,t2] chunks for all 10 locations\n",
    "    \"\"\"\n",
    "    n = max(1, n)\n",
    "    return list(l[i:i+n] for i in range(0, len(l), n))\n",
    "\n",
    "def read_results_file(fpath):#reads the results and return an array of results[user][survey][location]\n",
    "    \"\"\"\n",
    "    Arguments:\n",
    "        fpath (string): path of the .csv results file to be read\n",
    "    Output:\n",
    "        results (array): results[user][survey][location] = [w1,t2,w2,t2]\n",
    "    \"\"\"\n",
    "    \n",
    "    results = []\n",
    "    \n",
    "    df=pd.read_csv(fpath,header=None)\n",
    "    nline = 1\n",
    "    subject_results = [None]*2\n",
    "    \n",
    "    for index, row in df.iterrows():\n",
    "        print(index, row[103])\n",
    "        if index >30:\n",
    "            break\n",
    "        if index > 0:\n",
    "            chunked_3D_scent = list(row[83:103])\n",
    "            chunked_3D_control = list(row[103:123])\n",
    "           \n",
    "            subject_results[0] = chunked_3D_scent\n",
    "            subject_results[1] = chunked_3D_control\n",
    "            \n",
    "            results.append(subject_results)\n",
    "            subject_results = [None]*2\n",
    "                \n",
    "            \n",
    "            nline +=1       \n",
    "    \n",
    "    return results\n",
    "            \n",
    "\n",
    "results_file = '../Reminessence_Subjective_Analysis/Post_Test_Combined.csv'\n",
    "\n",
    "results = read_results_file(results_file)"
   ]
  },
  {
   "cell_type": "code",
   "execution_count": 5,
   "metadata": {},
   "outputs": [
    {
     "name": "stdout",
     "output_type": "stream",
     "text": [
      "    User   Survey     Type  Score T\n",
      "       0        0    scent        1\n",
      "       0        1  control        1\n",
      "       1        0    scent        0\n",
      "       1        1  control        0\n",
      "       2        0    scent       11\n",
      "       2        1  control       20\n",
      "       3        0    scent        0\n",
      "       3        1  control        0\n",
      "       4        0    scent        0\n",
      "       4        1  control        2\n",
      "       5        0    scent        2\n",
      "       5        1  control        2\n",
      "       6        0    scent        0\n",
      "       6        1  control        1\n",
      "       7        0    scent        1\n",
      "       7        1  control        0\n",
      "       8        0    scent        0\n",
      "       8        1  control        0\n",
      "       9        0    scent        0\n",
      "       9        1  control        0\n",
      "      10        0    scent       12\n",
      "      10        1  control        4\n",
      "      11        0    scent        0\n",
      "      11        1  control        1\n",
      "      12        0    scent        0\n",
      "      12        1  control        8\n",
      "      13        0    scent        2\n",
      "      13        1  control        1\n",
      "      14        0    scent        1\n",
      "      14        1  control        0\n",
      "      15        0    scent        5\n",
      "      15        1  control        1\n",
      "      16        0    scent        0\n",
      "      16        1  control        1\n",
      "      17        0    scent        1\n",
      "      17        1  control        5\n",
      "      18        0    scent       15\n",
      "      18        1  control        5\n",
      "      19        0    scent        1\n",
      "      19        1  control        0\n",
      "      20        0    scent        2\n",
      "      20        1  control       12\n",
      "      21        0    scent        0\n",
      "      21        1  control        5\n",
      "      22        0    scent        0\n",
      "      22        1  control        0\n",
      "      23        0    scent        3\n",
      "      23        1  control        0\n",
      "      24        0    scent        0\n",
      "      24        1  control        0\n",
      "      25        0    scent       10\n",
      "      25        1  control        1\n",
      "      26        0    scent        2\n",
      "      26        1  control        0\n",
      "      27        0    scent        3\n",
      "      27        1  control        1\n"
     ]
    }
   ],
   "source": [
    "score_control_trans=[]\n",
    "score_scent_trans=[]\n",
    "\n",
    "def score_user_survey(responses, typ, user_id): # Computes scores for all locations\n",
    "    \"\"\"\n",
    "    Arguments:\n",
    "        responses (array): all responses for an individual/survey\n",
    "        typ (string): either \"control\" or \"scent\"\n",
    "        user_id (int): the user number in order(0-31)\n",
    "    Output:\n",
    "        score_condition_trans (int): the calculated score of each user\n",
    "    \"\"\"\n",
    "    #Gets a row (user, survey) and returns average levenstien score \n",
    "    score_condition_trans = 0\n",
    "\n",
    "    for i,resp in enumerate(responses): # resp = [word1, trans1, word1,trans2]\n",
    "        if user_id < 16:\n",
    "            truth = translation_scent[i] if typ == 'scent' else translation_control[i]\n",
    "        else:\n",
    "            truth = translation_scent[i] if typ == 'control' else translation_control[i]\n",
    "        score_trans = 1 if resp == truth else 0\n",
    "\n",
    "        score_condition_trans  += score_trans\n",
    "        if typ=='control':\n",
    "            score_control_trans.append(score_trans)\n",
    "            \n",
    "        else:\n",
    "            score_scent_trans.append(score_trans)\n",
    "            \n",
    "    return score_condition_trans\n",
    "\n",
    " \n",
    "def aggregate_results(all_results):\n",
    "    \"\"\"\n",
    "    Arguments: \n",
    "        all_results: combined responses of all the 32 users of all 4 surveys (Pre-sleep control, Post-sleep control, Pre-sleep scent, Post-sleep scent)\n",
    "    Output: \n",
    "        scores (array size #users*4 X 4): contains [user_id (0-31), survey_id (1-4), typ (control/scent), strans (translation memorization score)]\n",
    "    \"\"\"\n",
    "    scores = []\n",
    "    print('{:>8} {:>8} {:>8} {:>8}'.format('User', 'Survey', 'Type', 'Score T'))    \n",
    "    for user_id, results_user in enumerate(all_results):\n",
    "        for survey_id, results_survey in enumerate(results_user):\n",
    "            typ = 'control' if survey_id in [1] else 'scent'      \n",
    "            strans = score_user_survey(results_survey, typ, user_id)\n",
    "            print('{:>8} {:>8} {:>8} {:>8}'.format(user_id, survey_id, typ,strans))\n",
    "            scores.append([user_id, survey_id, typ, strans])\n",
    "    return scores\n",
    "    \n",
    "    \n",
    "scores = aggregate_results(results)\n",
    "\n",
    "\n",
    "df = pd.DataFrame(scores, columns = ['User', 'Survey', 'Type', 'Score T'])"
   ]
  },
  {
   "cell_type": "code",
   "execution_count": 6,
   "metadata": {},
   "outputs": [
    {
     "name": "stdout",
     "output_type": "stream",
     "text": [
      "Total Translation Recall:\n",
      "\tControl: 71, Scent: 72 \n",
      "\n"
     ]
    }
   ],
   "source": [
    "total_control_translation = df[df.Type == 'control']['Score T'].sum()\n",
    "total_scent_translation = df[df.Type == 'scent']['Score T'].sum()\n",
    "print(\"Total Translation Recall:\")\n",
    "print(\"\\tControl: {}, Scent: {} \\n\".format(total_control_translation, total_scent_translation))\n"
   ]
  },
  {
   "cell_type": "code",
   "execution_count": 8,
   "metadata": {},
   "outputs": [
    {
     "name": "stdout",
     "output_type": "stream",
     "text": [
      "Statistics=0.658, p=0.000\n",
      "Sample does not look Gaussian (reject H0)\n"
     ]
    }
   ],
   "source": [
    "# Shapiro-Wilk Test\n",
    "\n",
    "# generate univariate observations\n",
    "data = df[df.Type == 'scent']['Score T']\n",
    "# normality test\n",
    "stat, p = shapiro(data)\n",
    "print('Statistics=%.3f, p=%.3f' % (stat, p))\n",
    "# interpret\n",
    "alpha = 0.05\n",
    "if p > alpha:\n",
    "\tprint('Sample looks Gaussian (fail to reject H0)')\n",
    "else:\n",
    "\tprint('Sample does not look Gaussian (reject H0)')"
   ]
  },
  {
   "cell_type": "code",
   "execution_count": 9,
   "metadata": {},
   "outputs": [
    {
     "data": {
      "text/plain": [
       "Ttest_relResult(statistic=-0.040952689809810414, pvalue=0.967634949225459)"
      ]
     },
     "execution_count": 9,
     "metadata": {},
     "output_type": "execute_result"
    }
   ],
   "source": [
    "# t-test of final scores from each session - translation\n",
    "stats.ttest_rel(df[df.Type == 'control']['Score T'],df[df.Type == 'scent']['Score T'])"
   ]
  },
  {
   "cell_type": "code",
   "execution_count": 10,
   "metadata": {},
   "outputs": [
    {
     "data": {
      "text/plain": [
       "Ttest_relResult(statistic=-0.10041491153236651, pvalue=0.9200509346914842)"
      ]
     },
     "execution_count": 10,
     "metadata": {},
     "output_type": "execute_result"
    }
   ],
   "source": [
    "# t-test of individual scores from each session (560 vs 560)\n",
    "stats.ttest_rel(score_control_trans,score_scent_trans)"
   ]
  },
  {
   "cell_type": "markdown",
   "metadata": {},
   "source": [
    "# PLOTS"
   ]
  },
  {
   "cell_type": "code",
   "execution_count": 11,
   "metadata": {},
   "outputs": [],
   "source": [
    "def plotSignificance(score_control,score_scent,ax):\n",
    "    # it checks for significance (one-tailed p<0.05) and plots the markings on the plot and returns the P-value\n",
    "    # calculates pvalues using wilcoxon test \n",
    "    \"\"\"\n",
    "    Arguments:\n",
    "       score_control (list): list 1 t-test\n",
    "       score_scent (list): list 2 t-test\n",
    "       ax (axis): axis to plot significance bars on\n",
    "    Output:\n",
    "        Pval (double): stores the one-tail p-value from t-test \n",
    "    \"\"\"\n",
    "    \n",
    "    Statistic, Pval= stats.wilcoxon(score_control,score_scent)\n",
    "    Pval= Pval/2\n",
    "    y, h, col = max(st.mean(score_control)*50+stats.sem(score_control)*50,st.mean(score_scent)*50+stats.sem(score_scent)*50), 3, 'k' \n",
    "    if(Pval<0.0001):\n",
    "        star=\"***\"\n",
    "    elif Pval<0.001:\n",
    "        star=\"**\"\n",
    "    elif Pval<0.05:\n",
    "        star=\"*\"\n",
    "    if Pval<0.05:  \n",
    "        ax.text(0.5 , (y+h), star, ha='center', va='bottom', color=col)\n",
    "        ax.plot([0.25, 0.25, 0.75, 0.75], [y+h/2, y+(h), y+(h), y+h/2], lw=1.5, c=col)\n",
    "\n",
    "    return Pval"
   ]
  },
  {
   "cell_type": "code",
   "execution_count": 12,
   "metadata": {},
   "outputs": [],
   "source": [
    "def broken_axis(ylimits):\n",
    "    # used to plot the plot with broken axis and only left and bottom axis visible\n",
    "    \"\"\" \n",
    "    Arguments:\n",
    "       ylimts (tuple, size 2): stores the ylimits of the two broken axis\n",
    "    Output:\n",
    "        ax (axis): main axis plotting the bars\n",
    "        ax2 (axis): secondary axis to plot the kink   \n",
    "    \"\"\"\n",
    "    gs = gridspec.GridSpec(2, 1, height_ratios=[40, 1])\n",
    "    # fig, (ax, ax2) = plt.subplots(2, 1, sharex=True,figsize=[3,6])\n",
    "    fig = plt.figure(figsize=[3,6])\n",
    "    ax = fig.add_subplot(gs[0])\n",
    "    ax2 = fig.add_subplot(gs[1])\n",
    "\n",
    "    ax.spines[\"top\"].set_visible(False)\n",
    "    ax.spines[\"right\"].set_visible(False)\n",
    "\n",
    "    ax2.spines[\"top\"].set_visible(False)\n",
    "    ax2.spines[\"right\"].set_visible(False)\n",
    "    ax.spines['bottom'].set_visible(False)\n",
    "    ax2.spines['top'].set_visible(False)\n",
    "    ax.xaxis.tick_top()\n",
    "    ax.tick_params(labeltop='off')  # don't put tick labels at the top\n",
    "    ax2.tick_params(labeltop='off')  # don't put tick labels at the top\n",
    "    ax2.xaxis.tick_bottom()\n",
    "    plt.subplots_adjust(hspace=0.05)\n",
    "\n",
    "    kwargs = dict(color='k', clip_on=False)\n",
    "    xlim = ax.get_xlim()\n",
    "    ylim = ax.get_ylim()\n",
    "    ylim2 = ax2.get_ylim()\n",
    "    ylim2ratio = (ylim2[1]-ylim2[0])/(ylim2[1]-ylim2[0]+ylim[1]-ylim[0])\n",
    "    ylimratio = (ylim[1]-ylim[0])/(ylim2[1]-ylim2[0]+ylim[1]-ylim[0])\n",
    "\n",
    "    dx = .03*(xlim[1]-xlim[0])\n",
    "    dy = .015*(ylim[1]-ylim[0])/ylimratio\n",
    "    ax.plot((xlim[0]-dx,xlim[0]+dx), (ylimits[0]-0.5+ylim[0]-dy,ylimits[0]+ylim[0]+dy), **kwargs)\n",
    "\n",
    "    dy = .015*(ylim2[1]-ylim2[0])/ylim2ratio\n",
    "    ax2.plot((xlim[0]-dx,xlim[0]+dx), (ylimits[0]-20+ylim2[1]-dy,ylimits[0]+20+ylim2[1]+dy), **kwargs)\n",
    "    ax.set_xlim(xlim)\n",
    "    ax2.set_xlim(xlim)\n",
    "    ax.axes.get_xaxis().set_visible(False) \n",
    "\n",
    "    # zoom-in / limit the view to different portions of the data\n",
    "    ax.set_ylim(ylimits)  # outliers only\n",
    "    ax2.set_ylim(0, ylimits[0])  # most of the data\n",
    "    \n",
    "    return ax,ax2\n",
    "\n",
    "\n"
   ]
  },
  {
   "cell_type": "code",
   "execution_count": 13,
   "metadata": {},
   "outputs": [
    {
     "data": {
      "image/png": "[encoded data removed]",
      "text/plain": [
       "<Figure size 216x432 with 1 Axes>"
      ]
     },
     "metadata": {
      "needs_background": "light"
     },
     "output_type": "display_data"
    }
   ],
   "source": [
    "ylim=[5,35]\n",
    "fig = plt.figure(figsize=[3,6])\n",
    "ax = fig.add_subplot()\n",
    "ax.spines[\"top\"].set_visible(False)\n",
    "ax.spines[\"right\"].set_visible(False)\n",
    "\n",
    "barWidth=0.25\n",
    "# calculates the mean and sem for the plot\n",
    "mean_control_trans= st.mean(score_control_trans)*50\n",
    "mean_scent_trans= st.mean(score_scent_trans)*50\n",
    "sem_control_trans= stats.sem(score_control_trans)*50\n",
    "sem_scent_trans= stats.sem(score_scent_trans)*50\n",
    "\n",
    "# Make the plot\n",
    "ax.bar(0.25, mean_control_trans, yerr=sem_control_trans, color='#ffffff', width=barWidth, edgecolor='black',capsize=5, label='Control',error_kw=dict(ecolor='gray', lw=2, capsize=5, capthick=2))\n",
    "ax.bar(0.75, mean_scent_trans, yerr=sem_scent_trans, color='#000000', width=barWidth, edgecolor='black',capsize=5, label='Scent',error_kw=dict(ecolor='gray', lw=2, capsize=5, capthick=2))\n",
    "\n",
    "# Add xticks on the middle of the group bars\n",
    "ax.set_xlabel('Condition', fontweight='bold')\n",
    "ax.set_ylabel('Score (in %)', fontweight='bold')\n",
    "plt.xticks([0.25,0.75], ['Control','Scent'])\n",
    "ax.set_title('Translation')\n",
    "plt.xlim([0,1])\n",
    "\n",
    "# t-test and plot if significant\n",
    "P =plotSignificance(score_control_trans,score_scent_trans,ax)\n",
    "\n",
    "txt1='M (Control)= ' + '%.3f' % mean_control_trans + \" +/-SEM= \"+ '%.3f' % sem_control_trans+\"\\nM (Scent)= \" + '%.3f' % mean_scent_trans+\" +/-SEM= \"+ '%.3f' % sem_scent_trans+\"\\nP= \"'%.3f' %P\n",
    "ax.text(.05, ylim[0]-7, txt1, ha='left')\n",
    "plt.savefig(base2+'Last_Survey/'+'Translation_sleep_wake_2D',dpi=300,bbox_inches='tight')\n",
    "\n",
    "plt.show()"
   ]
  }
 ],
 "metadata": {
  "kernelspec": {
   "display_name": "Python 3",
   "language": "python",
   "name": "python3"
  },
  "language_info": {
   "codemirror_mode": {
    "name": "ipython",
    "version": 3
   },
   "file_extension": ".py",
   "mimetype": "text/x-python",
   "name": "python",
   "nbconvert_exporter": "python",
   "pygments_lexer": "ipython3",
   "version": "3.6.6"
  }
 },
 "nbformat": 4,
 "nbformat_minor": 2
}
