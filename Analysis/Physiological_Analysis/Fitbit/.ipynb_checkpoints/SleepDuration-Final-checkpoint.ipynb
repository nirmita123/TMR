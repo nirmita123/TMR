{
 "cells": [
  {
   "cell_type": "code",
   "execution_count": 1,
   "metadata": {},
   "outputs": [],
   "source": [
    "import numpy as np\n",
    "import pandas as pd\n",
    "import matplotlib.pyplot as plt\n",
    "import statistics as st\n",
    "from scipy import stats\n",
    "import pingouin as pg\n",
    "from numpy.random import seed\n",
    "from numpy.random import randn\n",
    "import seaborn as sns\n",
    "from scipy.stats import norm\n",
    "from matplotlib import pyplot\n",
    "from scipy.stats import shapiro\n",
    "from scipy.stats import f\n",
    "import pingouin as pg\n",
    "from statsmodels.multivariate.manova import MANOVA\n",
    "from statsmodels.formula.api import ols\n",
    "import statsmodels.stats.multicomp\n",
    "from numpy import mean\n",
    "from numpy import std"
   ]
  },
  {
   "cell_type": "code",
   "execution_count": 2,
   "metadata": {},
   "outputs": [],
   "source": [
    "# 11 Subjects: 1,2,4,5,6,10,15,7,9,11,13\n",
    "\n",
    "SleepStage=['REM Control','REM Scent','Light Sleep Control','Light Sleep Scent','Deep Sleep Control','Deep Sleep Scent']\n",
    "barWidth = 0.25\n",
    "\n",
    "# read the file\n",
    "df= pd.read_csv(\"../../../Data/Physiological_Data/Processed_Data/Fitbit/Sleep_Stage_Data/sleep_duration_all.csv\")\n"
   ]
  },
  {
   "cell_type": "code",
   "execution_count": 3,
   "metadata": {},
   "outputs": [
    {
     "name": "stdout",
     "output_type": "stream",
     "text": [
      "    Subject ID  REM  Light_Sleep  Deep_Sleep  Order Condition Gender  \\\n",
      "0           18   47          388          90      1   Control      F   \n",
      "1           18   88          271          93      1     Scent      F   \n",
      "2           20   72          227          92      1   Control      M   \n",
      "3           20   62          246          63      1     Scent      M   \n",
      "4           22  101          215         111      1   Control      F   \n",
      "5           22   80          207          76      1     Scent      F   \n",
      "6            1   77          154          47      1   Control      M   \n",
      "7            1  113          216          91      1     Scent      M   \n",
      "8            2  100          281          88      1   Control      M   \n",
      "9            2   67          251          57      1     Scent      M   \n",
      "10           4   84          121          71      1   Control      F   \n",
      "11           4   85          188         117      1     Scent      F   \n",
      "12           5  131          179          68      1   Control      M   \n",
      "13           5  135          285          65      1     Scent      M   \n",
      "14           6   41          279          65      1   Control      F   \n",
      "15           6   45          285          35      1     Scent      F   \n",
      "16          15  114          215          67      1   Control      F   \n",
      "17          15   92          212          90      1     Scent      F   \n",
      "18          31   36          196          62      1   Control      M   \n",
      "19          31   55          231          99      1     Scent      M   \n",
      "20          17  113          228         130      1   Control      F   \n",
      "21          17   85          241          82      1     Scent      F   \n",
      "22          23   55          235          43      2   Control      M   \n",
      "23          23   63          204          85      2     Scent      M   \n",
      "24          24   84          221          51      2   Control      M   \n",
      "25          24   79          198          45      2     Scent      M   \n",
      "26          25   72          199          62      2   Control      F   \n",
      "27          25  110          194         110      2     Scent      F   \n",
      "28          26   71          248          73      2   Control      F   \n",
      "29          26  106          274          99      2     Scent      F   \n",
      "30          29   99          261          69      2   Control      M   \n",
      "31          29  101          248          87      2     Scent      M   \n",
      "32          30   60          201          72      2   Control      F   \n",
      "33          30   82          224          94      2     Scent      F   \n",
      "34           7   48          124          23      2   Control      M   \n",
      "35           7  101          310          71      2     Scent      M   \n",
      "36           9   51          183          37      2   Control      F   \n",
      "37           9   98          230          54      2     Scent      F   \n",
      "38          11  116          206          72      2   Control      F   \n",
      "39          11  115          194         106      2     Scent      F   \n",
      "40          13   90          292          61      2   Control      F   \n",
      "41          13   64          234          78      2     Scent      F   \n",
      "42          32  101          231          27      2   Control      M   \n",
      "43          32   75          329          85      2     Scent      M   \n",
      "\n",
      "    Total_Duration  Sleep_category  \n",
      "0              525               5  \n",
      "1              452               4  \n",
      "2              391               3  \n",
      "3              371               3  \n",
      "4              427               4  \n",
      "5              363               3  \n",
      "6              278               1  \n",
      "7              420               4  \n",
      "8              469               4  \n",
      "9              375               3  \n",
      "10             276               1  \n",
      "11             390               3  \n",
      "12             378               3  \n",
      "13             485               5  \n",
      "14             385               3  \n",
      "15             365               3  \n",
      "16             396               3  \n",
      "17             394               3  \n",
      "18             294               1  \n",
      "19             385               3  \n",
      "20             471               4  \n",
      "21             408               3  \n",
      "22             333               2  \n",
      "23             352               2  \n",
      "24             356               2  \n",
      "25             322               2  \n",
      "26             333               2  \n",
      "27             414               3  \n",
      "28             392               3  \n",
      "29             479               4  \n",
      "30             429               4  \n",
      "31             436               4  \n",
      "32             333               2  \n",
      "33             400               3  \n",
      "34             195               1  \n",
      "35             482               5  \n",
      "36             271               1  \n",
      "37             382               3  \n",
      "38             394               3  \n",
      "39             415               3  \n",
      "40             443               4  \n",
      "41             376               3  \n",
      "42             359               2  \n",
      "43             489               5  \n"
     ]
    }
   ],
   "source": [
    "subject = []\n",
    "REM = []\n",
    "DeepSleep = []\n",
    "LightSleep = []\n",
    "Condition = []\n",
    "Order = []\n",
    "Gender = []\n",
    "Total_duration = []\n",
    "Duration_category = [] #category 1: less than 5 hours, 2: 5-6 hours, 3: 6-7 hours, 4: 7-8 hours, 5: more than 8 hours\n",
    "\n",
    "def set_category(time):\n",
    "    category = 0\n",
    "    if time < 300:\n",
    "        category = 1\n",
    "    elif time < 360:\n",
    "        category = 2\n",
    "    elif time < 420:\n",
    "        category = 3\n",
    "    elif time < 480:\n",
    "        category = 4\n",
    "    else:\n",
    "        category = 5\n",
    "        \n",
    "    return category\n",
    "\n",
    "for i in range(len(df)):\n",
    "\n",
    "    subject.append(df['Subject ID'][i])\n",
    "    subject.append(df['Subject ID'][i])\n",
    "    REM.append(df[SleepStage[0]][i])\n",
    "    REM.append(df[SleepStage[1]][i])\n",
    "    LightSleep.append(df[SleepStage[2]][i])\n",
    "    LightSleep.append(df[SleepStage[3]][i])\n",
    "    DeepSleep.append(df[SleepStage[4]][i])\n",
    "    DeepSleep.append(df[SleepStage[5]][i])\n",
    "    Condition.append('Control')\n",
    "    Condition.append('Scent')\n",
    "    Order.append(df['Order'][i])\n",
    "    Order.append(df['Order'][i])\n",
    "    Gender.append(df['Gender'][i])\n",
    "    Gender.append(df['Gender'][i])\n",
    "    control_duration = df[SleepStage[0]][i]+df[SleepStage[2]][i]+df[SleepStage[4]][i]\n",
    "    scent_duration = df[SleepStage[1]][i]+df[SleepStage[3]][i]+df[SleepStage[5]][i]\n",
    "    Total_duration.append(control_duration)\n",
    "    Total_duration.append(scent_duration)\n",
    "    Duration_category.append(set_category(control_duration))\n",
    "    Duration_category.append(set_category(scent_duration))\n",
    "    \n",
    "data = {'Subject ID': subject, 'REM':REM, 'Light_Sleep':LightSleep, 'Deep_Sleep':DeepSleep, 'Order':Order, 'Condition':Condition, 'Gender':Gender, 'Total_Duration':Total_duration, 'Sleep_category':Duration_category } \n",
    "\n",
    "df2 = pd.DataFrame(data) \n",
    "print(df2)"
   ]
  },
  {
   "cell_type": "markdown",
   "metadata": {},
   "source": [
    "# Plot of different sleep stages"
   ]
  },
  {
   "cell_type": "code",
   "execution_count": 4,
   "metadata": {},
   "outputs": [],
   "source": [
    "Primary_stages = [\"REM\", \"Light_Sleep\", \"Deep_Sleep\"]"
   ]
  },
  {
   "cell_type": "code",
   "execution_count": 6,
   "metadata": {},
   "outputs": [
    {
     "name": "stdout",
     "output_type": "stream",
     "text": [
      "0.27787763090100237\n",
      "0.21013888940956085\n",
      "0.032485057600335786\n"
     ]
    },
    {
     "data": {
      "image/png": "[encoded data removed]",
      "text/plain": [
       "<Figure size 648x432 with 1 Axes>"
      ]
     },
     "metadata": {
      "needs_background": "light"
     },
     "output_type": "display_data"
    }
   ],
   "source": [
    "# find mean and sem of each column\n",
    "MeanControlStages=[]\n",
    "MeanScentStages=[]\n",
    "\n",
    "SemControlStages=[]\n",
    "SemScentStages=[]\n",
    "\n",
    "c=0\n",
    "for i in SleepStage:\n",
    "    mean_of_column=st.mean(df[i])\n",
    "    sem_of_column=stats.sem(df[i])\n",
    "    if c%2==0:\n",
    "        MeanControlStages.append(mean_of_column)\n",
    "        SemControlStages.append(sem_of_column)\n",
    "    else:\n",
    "        MeanScentStages.append(mean_of_column)\n",
    "        SemScentStages.append(sem_of_column)\n",
    "    c+=1\n",
    "\n",
    "# anova between control and scent, and plotting significance values\n",
    "fig = plt.figure(figsize=[9,6])\n",
    "Pvalues_of_columns=[]\n",
    "for i in range(0,len(Primary_stages)):\n",
    "#     Statistic,Pval=stats.ttest_rel(df2[SleepStage[i]],df[SleepStage[i+1]])\n",
    "    aov = pg.mixed_anova(dv= Primary_stages[i], within='Condition', between='Order', subject='Subject ID', data=df2)\n",
    "    Pval = aov['p-unc'][1]\n",
    "    print(Pval)\n",
    "    Pval=Pval/2\n",
    "    Pvalues_of_columns.append(Pval)\n",
    "    y, h, col = max(MeanControlStages[int(i)],MeanScentStages[int(i)]), 20, 'k' \n",
    "    star=''\n",
    "    j=i*2\n",
    "    if(Pval<0.0001):\n",
    "        star=\"***\"\n",
    "    elif Pval<0.001:\n",
    "        star=\"**\"\n",
    "    elif Pval<0.05:\n",
    "        star=\"*\"\n",
    "    if Pval<0.05:  \n",
    "        plt.text(j/2 + barWidth/2 , (y+h), star, ha='center', va='bottom', color=col)\n",
    "        plt.plot([j/2, j/2, j/2+barWidth, j/2+barWidth], [y+h/2, y+(h), y+(h), y+h/2], lw=1.5, c=col)\n",
    "# plot all the data\n",
    "\n",
    "\n",
    "# Set position of bar on X axis\n",
    "r1 = np.arange(len(MeanControlStages))\n",
    "r2 = [x + barWidth for x in r1]\n",
    "\n",
    "# Make the plot\n",
    "plt.bar(r1, MeanControlStages,yerr=SemControlStages, color='#ffffff', width=barWidth, edgecolor='black',capsize=5, label='Control',error_kw=dict(ecolor='gray', lw=2, capsize=5, capthick=2))\n",
    "plt.bar(r2, MeanScentStages,yerr=SemScentStages, color='#000000', width=barWidth, edgecolor='black',capsize=5, label='Scent',error_kw=dict(ecolor='gray', lw=2, capsize=5, capthick=2))\n",
    "\n",
    "# Add xticks on the middle of the group bars\n",
    "plt.xlabel('Sleep Stages', fontweight='bold')\n",
    "plt.ylabel('Duration of Sleep (in mins)', fontweight='bold')\n",
    "plt.xticks([r + barWidth/2 for r in range(len(MeanControlStages))], ['REM','Light Sleep','Deep Sleep'])\n",
    "plt.ylim([50,270])\n",
    "txt1=\"REM: \"+\"\\nM (Control)= \"+str(int(MeanControlStages[0]))+\" +/-SEM= \"+str(int(SemControlStages[0]))+\"\\nM (Scent)= \"+str(int(MeanScentStages[0]))+\" +/-SEM= \"+str(int(SemScentStages[0]))+\"\\nP = \"+str('%.3f' % Pvalues_of_columns[0])\n",
    "txt2=\"\\nLight Sleep: \"+\"\\nM (Control)= \"+str(int(MeanControlStages[1]))+\" +/-SEM= \"+str(int(SemControlStages[1]))+\"\\nM (Scent)= \"+str(int(MeanScentStages[1]))+\" +/-SEM= \"+str(int(SemScentStages[1]))+\"\\nP = \"+str('%.3f' % Pvalues_of_columns[1])\n",
    "txt3=\"\\nDeep Sleep: \"+\"\\nM (Control)= \"+str(int(MeanControlStages[2]))+\" +/-SEM= \"+str(int(SemControlStages[2]))+\"\\nM (Scent)= \"+str(int(MeanScentStages[2]))+\" +/-SEM=  \"+str(int(SemScentStages[2]))+\"\\nP = \"+str('%.3f' % Pvalues_of_columns[2])\n",
    "\n",
    "\n",
    "txt=txt1+txt2+txt3\n",
    "fig.text(.15, -0.07, txt1, ha='left')\n",
    "fig.text(.42, -0.07, txt2, ha='left')\n",
    "fig.text(.67, -0.07, txt3, ha='left')\n",
    "\n",
    "\n",
    "# Create legend & Show graphic\n",
    "plt.legend()\n",
    "plt.savefig(\"../../../Plots/Physiological_Plots/Fitbit/SleepStages/\"+'Sleep_Stages',dpi=300,bbox_inches='tight')\n",
    "plt.show()\n",
    "\n",
    "\n"
   ]
  },
  {
   "cell_type": "markdown",
   "metadata": {},
   "source": [
    "# Normality Test"
   ]
  },
  {
   "cell_type": "code",
   "execution_count": 11,
   "metadata": {},
   "outputs": [
    {
     "data": {
      "image/png": "[encoded data removed]",
      "text/plain": [
       "<Figure size 432x288 with 1 Axes>"
      ]
     },
     "metadata": {
      "needs_background": "light"
     },
     "output_type": "display_data"
    }
   ],
   "source": [
    "# histogram plot for deep sleep (control(SleepStage[4])/scent(SleepStage[5]))\n",
    "\n",
    "# seed the random number generator\n",
    "seed(1)\n",
    "# generate univariate observations\n",
    "data = df[SleepStage[5]]\n",
    "# histogram plot\n",
    "pyplot.hist(data)\n",
    "pyplot.show()"
   ]
  },
  {
   "cell_type": "code",
   "execution_count": 12,
   "metadata": {},
   "outputs": [
    {
     "data": {
      "image/png": "[encoded data removed]",
      "text/plain": [
       "<Figure size 432x288 with 1 Axes>"
      ]
     },
     "metadata": {
      "needs_background": "light"
     },
     "output_type": "display_data"
    }
   ],
   "source": [
    "# deep sleep - control(SleepStage[4])/scent(SleepStage[5]))\n",
    "\n",
    "data = df[SleepStage[5]]\n",
    "\n",
    "sns.distplot(data, fit=norm, kde=False)\n",
    "pyplot.show()"
   ]
  },
  {
   "cell_type": "code",
   "execution_count": 13,
   "metadata": {},
   "outputs": [
    {
     "name": "stdout",
     "output_type": "stream",
     "text": [
      "Statistics=0.975, p=0.832\n",
      "Sample looks Gaussian (fail to reject H0)\n"
     ]
    }
   ],
   "source": [
    "# Shapiro-Wilk Test\n",
    "\n",
    "# seed the random number generator\n",
    "seed(1)\n",
    "# generate univariate observations\n",
    "data = df[SleepStage[5]]\n",
    "# normality test\n",
    "stat, p = shapiro(data)\n",
    "print('Statistics=%.3f, p=%.3f' % (stat, p))\n",
    "# interpret\n",
    "alpha = 0.05\n",
    "if p > alpha:\n",
    "\tprint('Sample looks Gaussian (fail to reject H0)')\n",
    "else:\n",
    "\tprint('Sample does not look Gaussian (reject H0)')\n"
   ]
  },
  {
   "cell_type": "code",
   "execution_count": 14,
   "metadata": {},
   "outputs": [
    {
     "data": {
      "image/png": "[encoded data removed]",
      "text/plain": [
       "<Figure size 432x288 with 1 Axes>"
      ]
     },
     "metadata": {
      "needs_background": "light"
     },
     "output_type": "display_data"
    }
   ],
   "source": [
    "data = df2['Total_Duration']\n",
    "\n",
    "sns.distplot(data, fit=norm, kde=False)\n",
    "pyplot.show()"
   ]
  },
  {
   "cell_type": "code",
   "execution_count": 15,
   "metadata": {},
   "outputs": [
    {
     "name": "stdout",
     "output_type": "stream",
     "text": [
      "Statistics=0.974, p=0.413\n",
      "Sample looks Gaussian (fail to reject H0)\n"
     ]
    }
   ],
   "source": [
    "# Shapiro-Wilk Test\n",
    "\n",
    "# seed the random number generator\n",
    "seed(1)\n",
    "# generate univariate observations\n",
    "data = df2['Total_Duration']\n",
    "# normality test\n",
    "stat, p = shapiro(data)\n",
    "print('Statistics=%.3f, p=%.3f' % (stat, p))\n",
    "# interpret\n",
    "alpha = 0.05\n",
    "if p > alpha:\n",
    "\tprint('Sample looks Gaussian (fail to reject H0)')\n",
    "else:\n",
    "\tprint('Sample does not look Gaussian (reject H0)')\n",
    "\n"
   ]
  },
  {
   "cell_type": "code",
   "execution_count": 16,
   "metadata": {},
   "outputs": [
    {
     "name": "stdout",
     "output_type": "stream",
     "text": [
      "[81.0, 53.63636363636363]\n",
      "[78.9090909090909, 83.0909090909091]\n"
     ]
    },
    {
     "data": {
      "image/png": "[encoded data removed]",
      "text/plain": [
       "<Figure size 432x288 with 1 Axes>"
      ]
     },
     "metadata": {
      "needs_background": "light"
     },
     "output_type": "display_data"
    }
   ],
   "source": [
    "control_order = [df2[(df2.Order == 1) & (df2.Condition == 'Control')]['Deep_Sleep'].mean(), df2[(df2.Order == 2) & (df2.Condition == 'Control')]['Deep_Sleep'].mean()]\n",
    "scent_order = [df2[(df2.Order == 1) & (df2.Condition == 'Scent')]['Deep_Sleep'].mean(), df2[(df2.Order == 2) & (df2.Condition == 'Scent')]['Deep_Sleep'].mean()]\n",
    "print(control_order)\n",
    "print(scent_order)\n",
    "\n",
    "plt.plot(control_order,'--', marker = '.',color='black', label=\"Control\")\n",
    "plt.plot(scent_order, marker = '.',color ='black', label=\"Scent\")\n",
    "plt.ylabel('Deep Sleep')\n",
    "plt.xticks([0,1],['Order 1', 'Order 2'])\n",
    "plt.legend()\n",
    "plt.savefig(\"../../../Plots/Physiological_Plots/Fitbit/SleepStages/\"+'Interaction_Order&Condition',dpi=300,bbox_inches='tight')\n",
    "plt.show()"
   ]
  },
  {
   "cell_type": "markdown",
   "metadata": {},
   "source": [
    "# Tests for significance"
   ]
  },
  {
   "cell_type": "markdown",
   "metadata": {},
   "source": [
    "## For Deep Sleep"
   ]
  },
  {
   "cell_type": "code",
   "execution_count": 17,
   "metadata": {},
   "outputs": [
    {
     "name": "stdout",
     "output_type": "stream",
     "text": [
      "\n",
      "=============\n",
      "ANOVA SUMMARY\n",
      "=============\n",
      "\n",
      "Source             SS    DF1    DF2        MS      F    p-unc    np2  eps\n",
      "-----------  --------  -----  -----  --------  -----  -------  -----  -----\n",
      "Order        1477.841      1     20  1477.841  2.749    0.113  0.121  -\n",
      "Condition    2059.114      1     20  2059.114  5.281    0.032  0.209  1.0\n",
      "Interaction  2736.568      1     20  2736.568  7.018    0.015  0.260  -\n",
      "\n",
      "79.95454545454545 68.36363636363636\n"
     ]
    }
   ],
   "source": [
    "# Compute the two-way mixed-design ANOVA - Dependent variable \"Deep Sleep\" and independemt variables - Condition (scent/control) and Order (O1/O2)\n",
    "aov = pg.mixed_anova(dv='Deep_Sleep', within='Condition', between='Order', subject='Subject ID', data=df2)\n",
    "# Pretty printing of ANOVA summary\n",
    "pg.print_table(aov)\n",
    "# two-tailed p values\n",
    "print(np.mean(df2[df2.Order == 1]['Deep_Sleep']), np.mean(df2[df2.Order == 2]['Deep_Sleep']))"
   ]
  },
  {
   "cell_type": "code",
   "execution_count": 18,
   "metadata": {
    "scrolled": true
   },
   "outputs": [
    {
     "name": "stdout",
     "output_type": "stream",
     "text": [
      "\n",
      "=============\n",
      "ANOVA SUMMARY\n",
      "=============\n",
      "\n",
      "Source             SS    DF1    DF2        MS      F    p-unc    np2  eps\n",
      "-----------  --------  -----  -----  --------  -----  -------  -----  -----\n",
      "Gender       2501.128      1     20  2501.128  5.141    0.035  0.204  -\n",
      "Condition    2059.114      1     20  2059.114  3.967    0.060  0.166  1.0\n",
      "Interaction   155.461      1     20   155.461  0.300    0.590  0.015  -\n",
      "\n"
     ]
    }
   ],
   "source": [
    "# Compute the two-way mixed-design ANOVA\n",
    "aov = pg.mixed_anova(dv='Deep_Sleep', within='Condition', between='Gender', subject='Subject ID', data=df2)\n",
    "# Pretty printing of ANOVA summary\n",
    "pg.print_table(aov)"
   ]
  },
  {
   "cell_type": "code",
   "execution_count": 19,
   "metadata": {},
   "outputs": [
    {
     "data": {
      "text/plain": [
       "LeveneResult(statistic=0.10697243127902849, pvalue=0.7452422079430447)"
      ]
     },
     "execution_count": 19,
     "metadata": {},
     "output_type": "execute_result"
    }
   ],
   "source": [
    "# Levene f test - b/w male and female for deep sleep\n",
    "stats.levene(df2[df2.Gender=='M']['Deep_Sleep'], df2[df2.Gender=='F']['Deep_Sleep'])\n",
    "# mean, var, skew, kurt = f.stats(dfn, dfd, moments='mvsk')"
   ]
  },
  {
   "cell_type": "code",
   "execution_count": 20,
   "metadata": {},
   "outputs": [
    {
     "data": {
      "text/plain": [
       "Ttest_indResult(statistic=-2.169198141836228, pvalue=0.03577705259088773)"
      ]
     },
     "execution_count": 20,
     "metadata": {},
     "output_type": "execute_result"
    }
   ],
   "source": [
    "stats.ttest_ind(df2[df2.Gender=='M']['Deep_Sleep'], df2[df2.Gender=='F']['Deep_Sleep'], axis=0, equal_var=True)"
   ]
  },
  {
   "cell_type": "code",
   "execution_count": 21,
   "metadata": {},
   "outputs": [
    {
     "name": "stdout",
     "output_type": "stream",
     "text": [
      "Overall model F( 7, 36) =  2.943, p =  0.0152\n"
     ]
    },
    {
     "data": {
      "text/html": [
       "<table class=\"simpletable\">\n",
       "<caption>OLS Regression Results</caption>\n",
       "<tr>\n",
       "  <th>Dep. Variable:</th>       <td>Deep_Sleep</td>    <th>  R-squared:         </th> <td>   0.364</td>\n",
       "</tr>\n",
       "<tr>\n",
       "  <th>Model:</th>                   <td>OLS</td>       <th>  Adj. R-squared:    </th> <td>   0.240</td>\n",
       "</tr>\n",
       "<tr>\n",
       "  <th>Method:</th>             <td>Least Squares</td>  <th>  F-statistic:       </th> <td>   2.943</td>\n",
       "</tr>\n",
       "<tr>\n",
       "  <th>Date:</th>             <td>Mon, 04 May 2020</td> <th>  Prob (F-statistic):</th>  <td>0.0152</td> \n",
       "</tr>\n",
       "<tr>\n",
       "  <th>Time:</th>                 <td>13:59:56</td>     <th>  Log-Likelihood:    </th> <td> -191.86</td>\n",
       "</tr>\n",
       "<tr>\n",
       "  <th>No. Observations:</th>      <td>    44</td>      <th>  AIC:               </th> <td>   399.7</td>\n",
       "</tr>\n",
       "<tr>\n",
       "  <th>Df Residuals:</th>          <td>    36</td>      <th>  BIC:               </th> <td>   414.0</td>\n",
       "</tr>\n",
       "<tr>\n",
       "  <th>Df Model:</th>              <td>     7</td>      <th>                     </th>     <td> </td>   \n",
       "</tr>\n",
       "<tr>\n",
       "  <th>Covariance Type:</th>      <td>nonrobust</td>    <th>                     </th>     <td> </td>   \n",
       "</tr>\n",
       "</table>\n",
       "<table class=\"simpletable\">\n",
       "<tr>\n",
       "                           <td></td>                             <th>coef</th>     <th>std err</th>      <th>t</th>      <th>P>|t|</th>  <th>[0.025</th>    <th>0.975]</th>  \n",
       "</tr>\n",
       "<tr>\n",
       "  <th>Intercept</th>                                          <td>   89.0000</td> <td>    8.550</td> <td>   10.409</td> <td> 0.000</td> <td>   71.660</td> <td>  106.340</td>\n",
       "</tr>\n",
       "<tr>\n",
       "  <th>C(Gender)[T.M]</th>                                     <td>  -17.6000</td> <td>   12.682</td> <td>   -1.388</td> <td> 0.174</td> <td>  -43.320</td> <td>    8.120</td>\n",
       "</tr>\n",
       "<tr>\n",
       "  <th>C(Condition)[T.Scent]</th>                              <td>   -6.8333</td> <td>   12.092</td> <td>   -0.565</td> <td> 0.575</td> <td>  -31.356</td> <td>   17.689</td>\n",
       "</tr>\n",
       "<tr>\n",
       "  <th>C(Order)[T.2]</th>                                      <td>  -26.1667</td> <td>   12.092</td> <td>   -2.164</td> <td> 0.037</td> <td>  -50.689</td> <td>   -1.644</td>\n",
       "</tr>\n",
       "<tr>\n",
       "  <th>C(Gender)[T.M]:C(Condition)[T.Scent]</th>               <td>   10.4333</td> <td>   17.935</td> <td>    0.582</td> <td> 0.564</td> <td>  -25.940</td> <td>   46.806</td>\n",
       "</tr>\n",
       "<tr>\n",
       "  <th>C(Gender)[T.M]:C(Order)[T.2]</th>                       <td>   -2.6333</td> <td>   17.935</td> <td>   -0.147</td> <td> 0.884</td> <td>  -39.006</td> <td>   33.740</td>\n",
       "</tr>\n",
       "<tr>\n",
       "  <th>C(Condition)[T.Scent]:C(Order)[T.2]</th>                <td>   34.1667</td> <td>   17.100</td> <td>    1.998</td> <td> 0.053</td> <td>   -0.514</td> <td>   68.847</td>\n",
       "</tr>\n",
       "<tr>\n",
       "  <th>C(Gender)[T.M]:C(Condition)[T.Scent]:C(Order)[T.2]</th> <td>   -5.7667</td> <td>   25.363</td> <td>   -0.227</td> <td> 0.821</td> <td>  -57.206</td> <td>   45.673</td>\n",
       "</tr>\n",
       "</table>\n",
       "<table class=\"simpletable\">\n",
       "<tr>\n",
       "  <th>Omnibus:</th>       <td> 0.511</td> <th>  Durbin-Watson:     </th> <td>   1.543</td>\n",
       "</tr>\n",
       "<tr>\n",
       "  <th>Prob(Omnibus):</th> <td> 0.774</td> <th>  Jarque-Bera (JB):  </th> <td>   0.574</td>\n",
       "</tr>\n",
       "<tr>\n",
       "  <th>Skew:</th>          <td>-0.234</td> <th>  Prob(JB):          </th> <td>   0.751</td>\n",
       "</tr>\n",
       "<tr>\n",
       "  <th>Kurtosis:</th>      <td> 2.693</td> <th>  Cond. No.          </th> <td>    17.3</td>\n",
       "</tr>\n",
       "</table><br/><br/>Warnings:<br/>[1] Standard Errors assume that the covariance matrix of the errors is correctly specified."
      ],
      "text/plain": [
       "<class 'statsmodels.iolib.summary.Summary'>\n",
       "\"\"\"\n",
       "                            OLS Regression Results                            \n",
       "==============================================================================\n",
       "Dep. Variable:             Deep_Sleep   R-squared:                       0.364\n",
       "Model:                            OLS   Adj. R-squared:                  0.240\n",
       "Method:                 Least Squares   F-statistic:                     2.943\n",
       "Date:                Mon, 04 May 2020   Prob (F-statistic):             0.0152\n",
       "Time:                        13:59:56   Log-Likelihood:                -191.86\n",
       "No. Observations:                  44   AIC:                             399.7\n",
       "Df Residuals:                      36   BIC:                             414.0\n",
       "Df Model:                           7                                         \n",
       "Covariance Type:            nonrobust                                         \n",
       "======================================================================================================================\n",
       "                                                         coef    std err          t      P>|t|      [0.025      0.975]\n",
       "----------------------------------------------------------------------------------------------------------------------\n",
       "Intercept                                             89.0000      8.550     10.409      0.000      71.660     106.340\n",
       "C(Gender)[T.M]                                       -17.6000     12.682     -1.388      0.174     -43.320       8.120\n",
       "C(Condition)[T.Scent]                                 -6.8333     12.092     -0.565      0.575     -31.356      17.689\n",
       "C(Order)[T.2]                                        -26.1667     12.092     -2.164      0.037     -50.689      -1.644\n",
       "C(Gender)[T.M]:C(Condition)[T.Scent]                  10.4333     17.935      0.582      0.564     -25.940      46.806\n",
       "C(Gender)[T.M]:C(Order)[T.2]                          -2.6333     17.935     -0.147      0.884     -39.006      33.740\n",
       "C(Condition)[T.Scent]:C(Order)[T.2]                   34.1667     17.100      1.998      0.053      -0.514      68.847\n",
       "C(Gender)[T.M]:C(Condition)[T.Scent]:C(Order)[T.2]    -5.7667     25.363     -0.227      0.821     -57.206      45.673\n",
       "==============================================================================\n",
       "Omnibus:                        0.511   Durbin-Watson:                   1.543\n",
       "Prob(Omnibus):                  0.774   Jarque-Bera (JB):                0.574\n",
       "Skew:                          -0.234   Prob(JB):                        0.751\n",
       "Kurtosis:                       2.693   Cond. No.                         17.3\n",
       "==============================================================================\n",
       "\n",
       "Warnings:\n",
       "[1] Standard Errors assume that the covariance matrix of the errors is correctly specified.\n",
       "\"\"\""
      ]
     },
     "execution_count": 21,
     "metadata": {},
     "output_type": "execute_result"
    }
   ],
   "source": [
    "model = ols('Deep_Sleep ~ C(Gender)*C(Condition)*C(Order)', df2).fit()\n",
    "\n",
    "# Seeing if the overall model is significant\n",
    "print(f\"Overall model F({model.df_model: .0f},{model.df_resid: .0f}) = {model.fvalue: .3f}, p = {model.f_pvalue: .4f}\")\n",
    "model.summary()\n"
   ]
  },
  {
   "cell_type": "code",
   "execution_count": 22,
   "metadata": {
    "scrolled": true
   },
   "outputs": [
    {
     "name": "stdout",
     "output_type": "stream",
     "text": [
      "Multiple Comparison of Means - Tukey HSD, FWER=0.05 \n",
      "====================================================\n",
      "group1 group2 meandiff p-adj   lower   upper  reject\n",
      "----------------------------------------------------\n",
      "     1      2 -11.5909 0.1105 -25.9373 2.7555  False\n",
      "----------------------------------------------------\n"
     ]
    }
   ],
   "source": [
    "mc = statsmodels.stats.multicomp.MultiComparison(df2['Deep_Sleep'], df2['Order'])\n",
    "mc_results = mc.tukeyhsd()\n",
    "print(mc_results)"
   ]
  },
  {
   "cell_type": "code",
   "execution_count": 23,
   "metadata": {
    "scrolled": true
   },
   "outputs": [
    {
     "name": "stdout",
     "output_type": "stream",
     "text": [
      "Multiple Comparison of Means - Tukey HSD, FWER=0.05 \n",
      "====================================================\n",
      " group1 group2 meandiff p-adj  lower   upper  reject\n",
      "----------------------------------------------------\n",
      "Control  Scent  13.6818 0.058 -0.4849 27.8485  False\n",
      "----------------------------------------------------\n"
     ]
    }
   ],
   "source": [
    "mc = statsmodels.stats.multicomp.MultiComparison(df2['Deep_Sleep'], df2['Condition'])\n",
    "mc_results = mc.tukeyhsd()\n",
    "print(mc_results)"
   ]
  },
  {
   "cell_type": "code",
   "execution_count": 24,
   "metadata": {
    "scrolled": true
   },
   "outputs": [
    {
     "name": "stdout",
     "output_type": "stream",
     "text": [
      " Multiple Comparison of Means - Tukey HSD, FWER=0.05 \n",
      "=====================================================\n",
      "group1 group2 meandiff p-adj   lower    upper  reject\n",
      "-----------------------------------------------------\n",
      "     F      M -15.1417 0.0358 -29.2285 -1.0548   True\n",
      "-----------------------------------------------------\n"
     ]
    }
   ],
   "source": [
    "mc = statsmodels.stats.multicomp.MultiComparison(df2['Deep_Sleep'], df2['Gender'])\n",
    "mc_results = mc.tukeyhsd()\n",
    "print(mc_results)"
   ]
  },
  {
   "cell_type": "markdown",
   "metadata": {},
   "source": [
    "## For Light sleep and REM"
   ]
  },
  {
   "cell_type": "code",
   "execution_count": 25,
   "metadata": {
    "scrolled": true
   },
   "outputs": [
    {
     "name": "stdout",
     "output_type": "stream",
     "text": [
      "\n",
      "=============\n",
      "ANOVA SUMMARY\n",
      "=============\n",
      "\n",
      "Source      ddof1    ddof2      F    p-unc    np2\n",
      "--------  -------  -------  -----  -------  -----\n",
      "Order           1       42  0.052    0.821  0.001\n",
      "\n"
     ]
    }
   ],
   "source": [
    "aov = pg.anova(dv='Light_Sleep', between='Order', data=df2)\n",
    "# Pretty printing of ANOVA summary\n",
    "pg.print_table(aov)\n",
    "# two-tailed p values"
   ]
  },
  {
   "cell_type": "code",
   "execution_count": 26,
   "metadata": {},
   "outputs": [
    {
     "name": "stdout",
     "output_type": "stream",
     "text": [
      "\n",
      "=============\n",
      "ANOVA SUMMARY\n",
      "=============\n",
      "\n",
      "Source      ddof1    ddof2      F    p-unc    np2\n",
      "--------  -------  -------  -----  -------  -----\n",
      "Order           1       42  0.012    0.914  0.000\n",
      "\n"
     ]
    }
   ],
   "source": [
    "aov = pg.anova(dv='REM', between='Order', data=df2)\n",
    "# Pretty printing of ANOVA summary\n",
    "pg.print_table(aov)\n",
    "# two-tailed p values"
   ]
  },
  {
   "cell_type": "markdown",
   "metadata": {},
   "source": [
    "## For total duration"
   ]
  },
  {
   "cell_type": "code",
   "execution_count": 27,
   "metadata": {},
   "outputs": [
    {
     "name": "stdout",
     "output_type": "stream",
     "text": [
      "\n",
      "=============\n",
      "ANOVA SUMMARY\n",
      "=============\n",
      "\n",
      "Source              SS    DF1    DF2         MS      F    p-unc    np2  eps\n",
      "-----------  ---------  -----  -----  ---------  -----  -------  -----  -----\n",
      "Order         2226.568      1     20   2226.568  0.563    0.462  0.027  -\n",
      "Condition    15543.841      1     20  15543.841  3.753    0.067  0.158  1.0\n",
      "Interaction   7938.205      1     20   7938.205  1.917    0.181  0.087  -\n",
      "\n"
     ]
    }
   ],
   "source": [
    "# Compute the two-way mixed-design ANOVA - Dependent Variable: Total Duration and independemt variables - Condition (scent/control) and Order (O1/O2)\n",
    "aov = pg.mixed_anova(dv='Total_Duration', within='Condition', between='Order', subject='Subject ID', data=df2)\n",
    "# Pretty printing of ANOVA summary\n",
    "pg.print_table(aov)\n"
   ]
  },
  {
   "cell_type": "code",
   "execution_count": 28,
   "metadata": {},
   "outputs": [
    {
     "data": {
      "text/plain": [
       "Ttest_relResult(statistic=-1.896339425359402, pvalue=0.07175780418773123)"
      ]
     },
     "execution_count": 28,
     "metadata": {},
     "output_type": "execute_result"
    }
   ],
   "source": [
    "# paired t-test for total duration between control and scent\n",
    "stats.ttest_rel(df2[df2.Condition == \"Control\"][\"Total_Duration\"],df2[df2.Condition == \"Scent\"][\"Total_Duration\"])"
   ]
  },
  {
   "cell_type": "code",
   "execution_count": 29,
   "metadata": {},
   "outputs": [
    {
     "data": {
      "image/png": "[encoded data removed]",
      "text/plain": [
       "<Figure size 126x432 with 1 Axes>"
      ]
     },
     "metadata": {
      "needs_background": "light"
     },
     "output_type": "display_data"
    }
   ],
   "source": [
    "fig, ax = plt.subplots(1,1, sharex=True,figsize=[1.75,6])\n",
    "\n",
    "\n",
    "a =ax\n",
    "a.spines[\"top\"].set_visible(False)\n",
    "a.spines[\"right\"].set_visible(False)\n",
    "barWidth = 0.005\n",
    "Pval = aov[\"p-unc\"][0]/2\n",
    "h= 30\n",
    "y= max(df2[df2.Condition == \"Control\"][\"Total_Duration\"].mean(), df2[df2.Condition == \"Scent\"][\"Total_Duration\"].mean())\n",
    "star=''\n",
    "j=0\n",
    "if(Pval<0.0001):\n",
    "    star=\"***\"\n",
    "elif Pval<0.001:\n",
    "    star=\"**\"\n",
    "elif Pval<0.05:\n",
    "    star=\"*\"\n",
    "if Pval<0.05:  \n",
    "    plt.text(j/2 + barWidth/2 , (y+h), star, ha='center', va='bottom', color=col)\n",
    "    plt.plot([j/2, j/2, j/2+barWidth, j/2+barWidth], [y+h/2, y+(h), y+(h), y+h/2], lw=1.5, c=col)\n",
    "# plot all the data\n",
    "\n",
    "\n",
    "# Set position of bar on X axis\n",
    "r1 = np.arange(1)\n",
    "r2 = [x + barWidth for x in r1]\n",
    "\n",
    "# Make the plot\n",
    "plt.bar(r1, df2[df2.Condition == \"Control\"][\"Total_Duration\"].mean(),yerr=stats.sem(df2[df2.Condition == \"Control\"][\"Total_Duration\"]), color='#ffffff', width=barWidth, edgecolor='black',capsize=5, label='Control',error_kw=dict(ecolor='gray', lw=2, capsize=5, capthick=2))\n",
    "plt.bar(r2, df2[df2.Condition == \"Scent\"][\"Total_Duration\"].mean(),yerr=stats.sem(df2[df2.Condition == \"Scent\"][\"Total_Duration\"]), color='#000000', width=barWidth, edgecolor='black',capsize=5, label='Scent',error_kw=dict(ecolor='gray', lw=2, capsize=5, capthick=2))\n",
    "\n",
    "# Add xticks on the middle of the group bars\n",
    "plt.xlabel('Condition', fontweight='bold')\n",
    "plt.ylabel('Duration of Sleep (in mins)', fontweight='bold')\n",
    "\n",
    "# plt.ylim([300,450])\n",
    "plt.tick_params(\n",
    "    axis='x',          # changes apply to the x-axis\n",
    "    which='both',      # both major and minor ticks are affected\n",
    "    bottom=False,      # ticks along the bottom edge are off\n",
    "    top=False,         # ticks along the top edge are off\n",
    "    labelbottom=False)\n",
    "# Create legend & Show graphic\n",
    "plt.legend()\n",
    "plt.savefig(\"../../../Plots/Physiological_Plots/Fitbit/SleepStages/\"+'ConditionVsDuration',dpi=300,bbox_inches='tight')\n",
    "\n",
    "\n",
    "plt.show()"
   ]
  },
  {
   "cell_type": "code",
   "execution_count": 30,
   "metadata": {
    "scrolled": true
   },
   "outputs": [
    {
     "name": "stdout",
     "output_type": "stream",
     "text": [
      "Overall model F( 7, 36) =  1.191, p =  0.3325\n"
     ]
    },
    {
     "data": {
      "text/html": [
       "<table class=\"simpletable\">\n",
       "<caption>OLS Regression Results</caption>\n",
       "<tr>\n",
       "  <th>Dep. Variable:</th>     <td>Total_Duration</td>  <th>  R-squared:         </th> <td>   0.188</td>\n",
       "</tr>\n",
       "<tr>\n",
       "  <th>Model:</th>                   <td>OLS</td>       <th>  Adj. R-squared:    </th> <td>   0.030</td>\n",
       "</tr>\n",
       "<tr>\n",
       "  <th>Method:</th>             <td>Least Squares</td>  <th>  F-statistic:       </th> <td>   1.191</td>\n",
       "</tr>\n",
       "<tr>\n",
       "  <th>Date:</th>             <td>Mon, 04 May 2020</td> <th>  Prob (F-statistic):</th>  <td> 0.333</td> \n",
       "</tr>\n",
       "<tr>\n",
       "  <th>Time:</th>                 <td>14:00:00</td>     <th>  Log-Likelihood:    </th> <td> -241.73</td>\n",
       "</tr>\n",
       "<tr>\n",
       "  <th>No. Observations:</th>      <td>    44</td>      <th>  AIC:               </th> <td>   499.5</td>\n",
       "</tr>\n",
       "<tr>\n",
       "  <th>Df Residuals:</th>          <td>    36</td>      <th>  BIC:               </th> <td>   513.7</td>\n",
       "</tr>\n",
       "<tr>\n",
       "  <th>Df Model:</th>              <td>     7</td>      <th>                     </th>     <td> </td>   \n",
       "</tr>\n",
       "<tr>\n",
       "  <th>Covariance Type:</th>      <td>nonrobust</td>    <th>                     </th>     <td> </td>   \n",
       "</tr>\n",
       "</table>\n",
       "<table class=\"simpletable\">\n",
       "<tr>\n",
       "                           <td></td>                             <th>coef</th>     <th>std err</th>      <th>t</th>      <th>P>|t|</th>  <th>[0.025</th>    <th>0.975]</th>  \n",
       "</tr>\n",
       "<tr>\n",
       "  <th>Intercept</th>                                          <td>  413.3333</td> <td>   26.558</td> <td>   15.564</td> <td> 0.000</td> <td>  359.472</td> <td>  467.195</td>\n",
       "</tr>\n",
       "<tr>\n",
       "  <th>C(Gender)[T.M]</th>                                     <td>  -51.3333</td> <td>   39.391</td> <td>   -1.303</td> <td> 0.201</td> <td> -131.222</td> <td>   28.556</td>\n",
       "</tr>\n",
       "<tr>\n",
       "  <th>C(Condition)[T.Scent]</th>                              <td>  -18.0000</td> <td>   37.558</td> <td>   -0.479</td> <td> 0.635</td> <td>  -94.171</td> <td>   58.171</td>\n",
       "</tr>\n",
       "<tr>\n",
       "  <th>C(Order)[T.2]</th>                                      <td>  -52.3333</td> <td>   37.558</td> <td>   -1.393</td> <td> 0.172</td> <td> -128.505</td> <td>   23.838</td>\n",
       "</tr>\n",
       "<tr>\n",
       "  <th>C(Gender)[T.M]:C(Condition)[T.Scent]</th>               <td>   63.2000</td> <td>   55.708</td> <td>    1.134</td> <td> 0.264</td> <td>  -49.780</td> <td>  176.180</td>\n",
       "</tr>\n",
       "<tr>\n",
       "  <th>C(Gender)[T.M]:C(Order)[T.2]</th>                       <td>   24.7333</td> <td>   55.708</td> <td>    0.444</td> <td> 0.660</td> <td>  -88.247</td> <td>  137.714</td>\n",
       "</tr>\n",
       "<tr>\n",
       "  <th>C(Condition)[T.Scent]:C(Order)[T.2]</th>                <td>   68.0000</td> <td>   53.115</td> <td>    1.280</td> <td> 0.209</td> <td>  -39.722</td> <td>  175.722</td>\n",
       "</tr>\n",
       "<tr>\n",
       "  <th>C(Gender)[T.M]:C(Condition)[T.Scent]:C(Order)[T.2]</th> <td>  -31.4000</td> <td>   78.782</td> <td>   -0.399</td> <td> 0.693</td> <td> -191.178</td> <td>  128.378</td>\n",
       "</tr>\n",
       "</table>\n",
       "<table class=\"simpletable\">\n",
       "<tr>\n",
       "  <th>Omnibus:</th>       <td> 0.684</td> <th>  Durbin-Watson:     </th> <td>   1.776</td>\n",
       "</tr>\n",
       "<tr>\n",
       "  <th>Prob(Omnibus):</th> <td> 0.710</td> <th>  Jarque-Bera (JB):  </th> <td>   0.533</td>\n",
       "</tr>\n",
       "<tr>\n",
       "  <th>Skew:</th>          <td>-0.262</td> <th>  Prob(JB):          </th> <td>   0.766</td>\n",
       "</tr>\n",
       "<tr>\n",
       "  <th>Kurtosis:</th>      <td> 2.876</td> <th>  Cond. No.          </th> <td>    17.3</td>\n",
       "</tr>\n",
       "</table><br/><br/>Warnings:<br/>[1] Standard Errors assume that the covariance matrix of the errors is correctly specified."
      ],
      "text/plain": [
       "<class 'statsmodels.iolib.summary.Summary'>\n",
       "\"\"\"\n",
       "                            OLS Regression Results                            \n",
       "==============================================================================\n",
       "Dep. Variable:         Total_Duration   R-squared:                       0.188\n",
       "Model:                            OLS   Adj. R-squared:                  0.030\n",
       "Method:                 Least Squares   F-statistic:                     1.191\n",
       "Date:                Mon, 04 May 2020   Prob (F-statistic):              0.333\n",
       "Time:                        14:00:00   Log-Likelihood:                -241.73\n",
       "No. Observations:                  44   AIC:                             499.5\n",
       "Df Residuals:                      36   BIC:                             513.7\n",
       "Df Model:                           7                                         \n",
       "Covariance Type:            nonrobust                                         \n",
       "======================================================================================================================\n",
       "                                                         coef    std err          t      P>|t|      [0.025      0.975]\n",
       "----------------------------------------------------------------------------------------------------------------------\n",
       "Intercept                                            413.3333     26.558     15.564      0.000     359.472     467.195\n",
       "C(Gender)[T.M]                                       -51.3333     39.391     -1.303      0.201    -131.222      28.556\n",
       "C(Condition)[T.Scent]                                -18.0000     37.558     -0.479      0.635     -94.171      58.171\n",
       "C(Order)[T.2]                                        -52.3333     37.558     -1.393      0.172    -128.505      23.838\n",
       "C(Gender)[T.M]:C(Condition)[T.Scent]                  63.2000     55.708      1.134      0.264     -49.780     176.180\n",
       "C(Gender)[T.M]:C(Order)[T.2]                          24.7333     55.708      0.444      0.660     -88.247     137.714\n",
       "C(Condition)[T.Scent]:C(Order)[T.2]                   68.0000     53.115      1.280      0.209     -39.722     175.722\n",
       "C(Gender)[T.M]:C(Condition)[T.Scent]:C(Order)[T.2]   -31.4000     78.782     -0.399      0.693    -191.178     128.378\n",
       "==============================================================================\n",
       "Omnibus:                        0.684   Durbin-Watson:                   1.776\n",
       "Prob(Omnibus):                  0.710   Jarque-Bera (JB):                0.533\n",
       "Skew:                          -0.262   Prob(JB):                        0.766\n",
       "Kurtosis:                       2.876   Cond. No.                         17.3\n",
       "==============================================================================\n",
       "\n",
       "Warnings:\n",
       "[1] Standard Errors assume that the covariance matrix of the errors is correctly specified.\n",
       "\"\"\""
      ]
     },
     "execution_count": 30,
     "metadata": {},
     "output_type": "execute_result"
    }
   ],
   "source": [
    "model = ols('Total_Duration ~ C(Gender)*C(Condition)*C(Order)', df2).fit()\n",
    "\n",
    "# Seeing if the overall model is significant\n",
    "print(f\"Overall model F({model.df_model: .0f},{model.df_resid: .0f}) = {model.fvalue: .3f}, p = {model.f_pvalue: .4f}\")\n",
    "model.summary()"
   ]
  },
  {
   "cell_type": "code",
   "execution_count": 38,
   "metadata": {},
   "outputs": [
    {
     "name": "stdout",
     "output_type": "stream",
     "text": [
      "                  Multivariate linear model\n",
      "==============================================================\n",
      "                                                              \n",
      "--------------------------------------------------------------\n",
      "       Intercept         Value  Num DF  Den DF F Value  Pr > F\n",
      "--------------------------------------------------------------\n",
      "          Wilks' lambda  0.0538 2.0000 41.0000 360.4814 0.0000\n",
      "         Pillai's trace  0.9462 2.0000 41.0000 360.4814 0.0000\n",
      " Hotelling-Lawley trace 17.5845 2.0000 41.0000 360.4814 0.0000\n",
      "    Roy's greatest root 17.5845 2.0000 41.0000 360.4814 0.0000\n",
      "--------------------------------------------------------------\n",
      "                                                              \n",
      "--------------------------------------------------------------\n",
      "         Condition        Value  Num DF  Den DF F Value Pr > F\n",
      "--------------------------------------------------------------\n",
      "            Wilks' lambda 0.8969 2.0000 41.0000  2.3562 0.1075\n",
      "           Pillai's trace 0.1031 2.0000 41.0000  2.3562 0.1075\n",
      "   Hotelling-Lawley trace 0.1149 2.0000 41.0000  2.3562 0.1075\n",
      "      Roy's greatest root 0.1149 2.0000 41.0000  2.3562 0.1075\n",
      "==============================================================\n",
      "\n"
     ]
    }
   ],
   "source": [
    "maov = MANOVA.from_formula('Deep_Sleep + Total_Duration  ~ Condition', data=df2)\n",
    "print(maov.mv_test())"
   ]
  }
 ],
 "metadata": {
  "kernelspec": {
   "display_name": "Python 3",
   "language": "python",
   "name": "python3"
  },
  "language_info": {
   "codemirror_mode": {
    "name": "ipython",
    "version": 3
   },
   "file_extension": ".py",
   "mimetype": "text/x-python",
   "name": "python",
   "nbconvert_exporter": "python",
   "pygments_lexer": "ipython3",
   "version": "3.6.6"
  }
 },
 "nbformat": 4,
 "nbformat_minor": 2
}
